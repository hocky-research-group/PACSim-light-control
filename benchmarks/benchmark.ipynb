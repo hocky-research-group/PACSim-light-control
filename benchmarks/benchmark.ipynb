{
 "cells": [
  {
   "cell_type": "code",
   "execution_count": 1,
   "id": "da245bcb-2741-45b1-89b7-84a4d90ca50b",
   "metadata": {},
   "outputs": [
    {
     "name": "stdout",
     "output_type": "stream",
     "text": [
      "Time per time step: 0.053898821000000006 s / step (platform: Reference, potentials: algebraic, use_log: False, number_steps: 10)\n",
      "Time per time step: 2.0701427374000003 s / step (platform: Reference, potentials: tabulated, use_log: False, number_steps: 10)\n",
      "Time per time step: 0.005582221190000001 s / step (platform: CPU, potentials: algebraic, use_log: False, number_steps: 100)\n",
      "Time per time step: 0.2572277828 s / step (platform: CPU, potentials: tabulated, use_log: False, number_steps: 100)\n",
      "There is no registered Platform called \"OpenCL\"\n",
      "There is no registered Platform called \"OpenCL\"\n",
      "Time per time step: 6.394692320000001e-05 s / step (platform: CUDA, potentials: algebraic, use_log: False, number_steps: 10000)\n",
      "Time per time step: 0.0001432765903 s / step (platform: CUDA, potentials: tabulated, use_log: False, number_steps: 10000)\n",
      "\n",
      "Time per time step: 0.053866497400000005 s / step (platform: Reference, potentials: algebraic, use_log: True, number_steps: 10)\n",
      "Time per time step: 2.2838947881000005 s / step (platform: Reference, potentials: tabulated, use_log: True, number_steps: 10)\n",
      "Time per time step: 0.00543072843 s / step (platform: CPU, potentials: algebraic, use_log: True, number_steps: 100)\n",
      "Time per time step: 0.25682078042 s / step (platform: CPU, potentials: tabulated, use_log: True, number_steps: 100)\n",
      "There is no registered Platform called \"OpenCL\"\n",
      "There is no registered Platform called \"OpenCL\"\n",
      "Time per time step: 6.293078950000001e-05 s / step (platform: CUDA, potentials: algebraic, use_log: True, number_steps: 10000)\n",
      "Time per time step: 0.0001397703208 s / step (platform: CUDA, potentials: tabulated, use_log: True, number_steps: 10000)\n",
      "\n"
     ]
    }
   ],
   "source": [
    "%run benchmark.py --all"
   ]
  },
  {
   "cell_type": "code",
   "execution_count": 2,
   "id": "7c34472e-7651-46f0-9c14-6f2d380816ac",
   "metadata": {},
   "outputs": [
    {
     "name": "stdout",
     "output_type": "stream",
     "text": [
      "Time per time step: 0.0021408559806 s / step (device: CPU, number_steps: 10000, shift: False)\n",
      "Time per time step: 0.0021434858662 s / step (device: CPU, number_steps: 10000, shift: True)\n",
      "Time per time step: 0.0001952973476 s / step (device: GPU, number_steps: 10000, shift: False)\n",
      "Time per time step: 0.0001941063642 s / step (device: GPU, number_steps: 10000, shift: True)\n"
     ]
    }
   ],
   "source": [
    "%run benchmark_hoomd.py --all"
   ]
  },
  {
   "cell_type": "code",
   "execution_count": null,
   "id": "bf398601-88dd-4db0-b576-a634cd9cdced",
   "metadata": {},
   "outputs": [],
   "source": []
  }
 ],
 "metadata": {
  "kernelspec": {
   "display_name": "openmm-conda",
   "language": "python",
   "name": "openmm-conda"
  },
  "language_info": {
   "codemirror_mode": {
    "name": "ipython",
    "version": 3
   },
   "file_extension": ".py",
   "mimetype": "text/x-python",
   "name": "python",
   "nbconvert_exporter": "python",
   "pygments_lexer": "ipython3",
   "version": "3.10.13"
  }
 },
 "nbformat": 4,
 "nbformat_minor": 5
}
