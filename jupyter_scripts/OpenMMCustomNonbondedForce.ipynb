{
 "cells": [
  {
   "cell_type": "code",
   "execution_count": 1,
   "metadata": {},
   "outputs": [],
   "source": [
    "import matplotlib.pyplot as plt\n",
    "import numpy as np\n",
    "import openmm\n",
    "from openmm import unit\n",
    "from colloids import ColloidPotentialsAlgebraic, ColloidPotentialsParameters\n",
    "\n",
    "%matplotlib inline"
   ]
  },
  {
   "cell_type": "code",
   "execution_count": 2,
   "metadata": {},
   "outputs": [],
   "source": [
    "radius_positive = 325.0 * unit.nanometer\n",
    "radius_negative = 65.0 * unit.nanometer\n",
    "surface_potential_positive = 50.0 * (unit.milli * unit.volt)\n",
    "surface_potential_negative = -50.0 * (unit.milli * unit.volt)\n",
    "colloid_potential_parameters = ColloidPotentialsParameters(\n",
    "    brush_density=0.09 / (unit.nanometer ** 2), brush_length=10.0 * unit.nanometer,\n",
    "    debye_length=6.0 * unit.nanometer, temperature=298.0 * unit.kelvin,\n",
    "    dielectric_constant=80.0)"
   ]
  },
  {
   "cell_type": "code",
   "execution_count": 3,
   "metadata": {},
   "outputs": [],
   "source": [
    "def get_potentials(h_values, radius_one, radius_two, surface_potential_one, surface_potential_two, \n",
    "                   parameters, platform_name=\"Reference\"):\n",
    "    # Set up system.\n",
    "    system = openmm.System()\n",
    "    # Make system very large so that we do not care about periodic boundaries.\n",
    "    side_length = 200.0 * (max(h_values) + radius_one.value_in_unit(unit.nanometer) + radius_two.value_in_unit(unit.nanometer)) \n",
    "    system.setDefaultPeriodicBoxVectors([side_length, 0.0, 0.0],\n",
    "                                        [0.0, side_length, 0.0],\n",
    "                                        [0.0, 0.0, side_length])\n",
    "    colloid_potentials = ColloidPotentialsAlgebraic(\n",
    "        colloid_potentials_parameters=parameters, use_log=False)\n",
    "    \n",
    "    # Add two particles to the system and forces (mass is unimportant for the potential energies).\n",
    "    system.addParticle(mass=1.0)\n",
    "    colloid_potentials.add_particle(radius=radius_one, surface_potential=surface_potential_one)\n",
    "    system.addParticle(mass=1.0)\n",
    "    colloid_potentials.add_particle(radius=radius_two, surface_potential=surface_potential_two)\n",
    "\n",
    "    # Add forces.\n",
    "    for potential in colloid_potentials.yield_potentials():\n",
    "        system.addForce(potential)\n",
    "        \n",
    "    for force in system.getForces():\n",
    "        print(f\"Energy function: {force.getEnergyFunction()}\")\n",
    "        print(f\"Nonbonded method: {force.getNonbondedMethod()}, Cutoff distance: {force.getCutoffDistance()}\")\n",
    "        assert force.usesPeriodicBoundaryConditions()\n",
    "        assert not force.getUseLongRangeCorrection()\n",
    "    \n",
    "    # Set up platform and context. The platform_name is typically Reference or CUDA.\n",
    "    platform = openmm.Platform.getPlatformByName(platform_name)\n",
    "    dummy_integrator = openmm.LangevinIntegrator(\n",
    "        parameters.temperature.value_in_unit(unit.kelvin), 0.0, 0.0)\n",
    "    context = openmm.Context(system, dummy_integrator, platform)\n",
    "    print(f\"Using {context.getPlatform().getName()} platform.\")\n",
    "    if context.getPlatform().getName() == \"CUDA\":\n",
    "        for cuda_property in (\"Precision\", \"TempDirectory\", \"UseCpuPme\", \"DeviceIndex\", \"UseBlockingSync\", \"DeterministicForces\"):\n",
    "            print(f\"{cuda_property}: {context.getPlatform().getPropertyValue(context, cuda_property)}\")\n",
    "    \n",
    "    \n",
    "    potential_energies = np.zeros(len(h_values))\n",
    "    for h_index, h_value in enumerate(h_values):\n",
    "        context.setPositions([[(radius_one + radius_two).value_in_unit(unit.nanometer) + h_value, 0.0, 0.0], [0.0, 0.0, 0.0]])\n",
    "        state = context.getState(getEnergy=True)\n",
    "        potential_energies[h_index] = (\n",
    "            state.getPotentialEnergy()\n",
    "            / (unit.BOLTZMANN_CONSTANT_kB * parameters.temperature * unit.AVOGADRO_CONSTANT_NA)\n",
    "        )\n",
    "    \n",
    "    return potential_energies"
   ]
  },
  {
   "cell_type": "code",
   "execution_count": 4,
   "metadata": {},
   "outputs": [
    {
     "name": "stdout",
     "output_type": "stream",
     "text": [
      "Energy function: step(two_l - h) * steric_prefactor * rs / 2.0 * brush_length * brush_length * (28.0 * ((two_l / h)^0.25 - 1.0) + 20.0 / 11.0 * (1.0 - (h / two_l)^2.75)+ 12.0 * (h / two_l - 1.0)); h = r - rs;rs = radius1 + radius2;two_l = 2.0 * brush_length\n",
      "Nonbonded method: 2, Cutoff distance: 1020.0 nm\n",
      "Energy function: electrostatic_prefactor * radius * psi1 * psi2 * exp(-h / debye_length); radius = 2.0 / (1.0 / radius1 + 1.0 / radius2);h = r - rs;rs = radius1 + radius2\n",
      "Nonbonded method: 2, Cutoff distance: 1126.0 nm\n",
      "Using Reference platform.\n"
     ]
    },
    {
     "data": {
      "image/png": "[encoded data removed]",
      "text/plain": [
       "<Figure size 640x480 with 1 Axes>"
      ]
     },
     "metadata": {},
     "output_type": "display_data"
    }
   ],
   "source": [
    "h_vals = np.linspace(15.0, 36.0, num=1000)\n",
    "potential_vals = get_potentials(h_vals, 500 * unit.nanometer, 500 * unit.nanometer, \n",
    "                                surface_potential_positive, surface_potential_negative,\n",
    "                                colloid_potential_parameters)\n",
    "\n",
    "plt.figure()\n",
    "plt.plot(h_vals, potential_vals)\n",
    "plt.ylim(-50, 45)\n",
    "plt.xticks([2 * i for i in range(8, 18 + 1)])\n",
    "plt.yticks([10 * i for i in range(-5, 4 + 1)])\n",
    "ax = plt.gca()\n",
    "ax.spines[\"bottom\"].set_position(\"zero\")\n",
    "ax.spines[\"right\"].set_color(\"none\")\n",
    "ax.spines[\"top\"].set_color(\"none\")\n",
    "plt.show()\n",
    "plt.close()"
   ]
  },
  {
   "cell_type": "code",
   "execution_count": null,
   "metadata": {},
   "outputs": [],
   "source": []
  }
 ],
 "metadata": {
  "kernelspec": {
   "display_name": "Python 3 (ipykernel)",
   "language": "python",
   "name": "python3"
  },
  "language_info": {
   "codemirror_mode": {
    "name": "ipython",
    "version": 3
   },
   "file_extension": ".py",
   "mimetype": "text/x-python",
   "name": "python",
   "nbconvert_exporter": "python",
   "pygments_lexer": "ipython3",
   "version": "3.10.13"
  }
 },
 "nbformat": 4,
 "nbformat_minor": 4
}
