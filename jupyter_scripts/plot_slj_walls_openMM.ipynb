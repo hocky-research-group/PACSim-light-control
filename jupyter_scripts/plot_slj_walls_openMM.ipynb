{
 "cells": [
  {
   "cell_type": "code",
   "execution_count": 1,
   "metadata": {},
   "outputs": [],
   "source": [
    "import matplotlib.pyplot as plt\n",
    "import numpy as np\n",
    "import openmm\n",
    "from openmm import unit\n",
    "from openmm import CustomExternalForce\n",
    "\n",
    "%matplotlib inline"
   ]
  },
  {
   "cell_type": "code",
   "execution_count": 2,
   "metadata": {},
   "outputs": [],
   "source": [
    "radius_negative = 105.0\n",
    "box_length = 1000.0"
   ]
  },
  {
   "cell_type": "code",
   "execution_count": 3,
   "metadata": {},
   "outputs": [],
   "source": [
    "def expected_function(x, box_length, rcut, delta, epsilon, sigma, alpha):\n",
    "    return np.where(np.abs(x) < box_length / 2 - rcut - delta,\n",
    "                    0.0,\n",
    "                    4 * epsilon * (np.power(sigma / (box_length / 2 - np.abs(x) - delta), 12)\n",
    "                                   - alpha * np.power(sigma / (box_length / 2 - np.abs(x) - delta), 6))\n",
    "                    - 4 * epsilon * (np.power(sigma / rcut, 12)\n",
    "                                     - alpha * np.power(sigma / rcut, 6)))"
   ]
  },
  {
   "cell_type": "code",
   "execution_count": 4,
   "metadata": {},
   "outputs": [],
   "source": [
    "def get_potentials(x_positions, box_length, radius_negative, epsilon, alpha, platform_name=\"Reference\"):\n",
    "    \n",
    "    # Set up system.\n",
    "    system = openmm.System()\n",
    "    \n",
    "    box_length = box_length * unit.nanometer\n",
    "    \n",
    "    radius_negative = radius_negative * unit.nanometer\n",
    "\n",
    "\n",
    "    system.setDefaultPeriodicBoxVectors([box_length, 0.0, 0.0],\n",
    "                                        [0.0, box_length, 0.0],\n",
    "                                        [0.0, 0.0, box_length])\n",
    "    \n",
    "    slj_potential = CustomExternalForce(\n",
    "                \"step(abs(x) - (box_length/2 - r_cut - delta)) * (\"\n",
    "                \"4 * epsilon * \"\n",
    "                \"((sigma/(box_length/2 - abs(x) - delta))^12 \"\n",
    "                \"- alpha * (sigma / (box_length/2 - abs(x) - delta))^6)\"\n",
    "                \"-4 * epsilon * \"\n",
    "                \"((sigma/ r_cut)^12 \"\n",
    "                \"- alpha * (sigma / r_cut)^6));\"\n",
    "                \"delta = radius_negative -1;\"\n",
    "                \"r_cut = radius_negative * 2^(1/6)\"\n",
    "            )\n",
    "\n",
    "\n",
    "    slj_potential.addGlobalParameter(\"box_length\", box_length)\n",
    "    slj_potential.addGlobalParameter(\"radius_negative\", radius_negative)\n",
    "    slj_potential.addGlobalParameter(\"epsilon\", epsilon)\n",
    "    slj_potential.addGlobalParameter(\"sigma\", radius_negative)\n",
    "    slj_potential.addGlobalParameter(\"alpha\", alpha)\n",
    "    #slj_potential.addPerParticleParameter(\"x\")\n",
    "    \n",
    "     # Add forces.\n",
    "    system.addForce(slj_potential)\n",
    "    \n",
    "    # Add a particle to the system \n",
    "    system.addParticle(mass=1.0)\n",
    "    slj_potential.addParticle(0) #,[x_positions[0]])\n",
    "    \n",
    "    for force in system.getForces():\n",
    "            print(f\"Energy function: {force.getEnergyFunction()}\")\n",
    "            #print(f\"Nonbonded method: {force.getNonbondedMethod()}, Cutoff distance: {force.getCutoffDistance()}\")\n",
    "            #assert force.usesPeriodicBoundaryConditions()\n",
    "            #assert not force.getUseLongRangeCorrection()\n",
    "\n",
    "    # Set up platform and context. The platform_name is typically Reference or CUDA.\n",
    "    platform = openmm.Platform.getPlatformByName(platform_name)\n",
    "    temperature = 298.0 * unit.kelvin\n",
    "    dummy_integrator = openmm.LangevinIntegrator(\n",
    "        temperature.value_in_unit(unit.kelvin), 0.0, 0.0)\n",
    "    context = openmm.Context(system, dummy_integrator, platform)\n",
    "    print(f\"Using {context.getPlatform().getName()} platform.\")\n",
    "    if context.getPlatform().getName() == \"CUDA\":\n",
    "        for cuda_property in (\"Precision\", \"TempDirectory\", \"UseCpuPme\", \"DeviceIndex\", \"UseBlockingSync\", \"DeterministicForces\"):\n",
    "            print(f\"{cuda_property}: {context.getPlatform().getPropertyValue(context, cuda_property)}\")\n",
    "    \n",
    "    potential_energies = np.zeros(len(x_positions))\n",
    "    for x_index, x_pos in enumerate(x_positions):\n",
    "\n",
    "        \n",
    "        #slj_potential.addParticle(0,[x_pos])\n",
    "        #slj_potential.addParticle(0,[radiusN])\n",
    "\n",
    "        #potential_energies = np.zeros(len(x_positions))\n",
    "        #for x_index, x_pos in enumerate(x_positions):\n",
    "        context.setPositions([[x_pos, 0.0, 0.0]])\n",
    "        state = context.getState(getEnergy=True)\n",
    "        #slj_potential.addParticle(0,[x_pos])\n",
    "       # print(state.getPotentialEnergy())\n",
    "        \n",
    "        potential_energies[x_index] = (\n",
    "            state.getPotentialEnergy().value_in_unit(unit.kilojoule_per_mole)\n",
    "            #/ (unit.BOLTZMANN_CONSTANT_kB * temperature * unit.AVOGADRO_CONSTANT_NA)\n",
    "        )\n",
    "        \n",
    "    \n",
    "    return potential_energies"
   ]
  },
  {
   "cell_type": "code",
   "execution_count": 5,
   "metadata": {},
   "outputs": [
    {
     "name": "stdout",
     "output_type": "stream",
     "text": [
      "Energy function: step(abs(x) - (box_length/2 - r_cut - delta)) * (4 * epsilon * ((sigma/(box_length/2 - abs(x) - delta))^12 - alpha * (sigma / (box_length/2 - abs(x) - delta))^6)-4 * epsilon * ((sigma/ r_cut)^12 - alpha * (sigma / r_cut)^6));delta = radius_negative -1;r_cut = radius_negative * 2^(1/6)\n",
      "Using Reference platform.\n"
     ]
    }
   ],
   "source": [
    "x_positions = np.linspace(-box_length / 2 + 100, box_length / 2 - 100, num=1000)\n",
    "\n",
    "potential_vals = get_potentials(x_positions, box_length, radius_negative, 1, 0)"
   ]
  },
  {
   "cell_type": "code",
   "execution_count": 9,
   "metadata": {},
   "outputs": [
    {
     "data": {
      "image/png": "[encoded data removed]",
      "text/plain": [
       "<Figure size 640x480 with 1 Axes>"
      ]
     },
     "metadata": {},
     "output_type": "display_data"
    }
   ],
   "source": [
    "x_positions_exp = np.linspace(-box_length / 2 + 200, box_length / 2 - 200, num=10000)\n",
    "pots = expected_function(x_positions_exp, box_length, radius_negative*(2.0**(1.0/6.0)),\n",
    "                         radius_negative-1, 1, radius_negative, 0)\n",
    "\n",
    "plt.plot(x_positions_exp, pots, color=\"k\")\n",
    "\n",
    "plt.plot(x_positions, potential_vals, color='blue', marker=\"x\")\n",
    "plt.xlabel(\"x\")\n",
    "plt.ylabel(\"PE\")\n",
    "\n",
    "\n",
    "plt.show()"
   ]
  },
  {
   "cell_type": "code",
   "execution_count": null,
   "metadata": {},
   "outputs": [],
   "source": []
  }
 ],
 "metadata": {
  "kernelspec": {
   "display_name": "Python 3 (ipykernel)",
   "language": "python",
   "name": "python3"
  },
  "language_info": {
   "codemirror_mode": {
    "name": "ipython",
    "version": 3
   },
   "file_extension": ".py",
   "mimetype": "text/x-python",
   "name": "python",
   "nbconvert_exporter": "python",
   "pygments_lexer": "ipython3",
   "version": "3.9.13"
  }
 },
 "nbformat": 4,
 "nbformat_minor": 4
}
