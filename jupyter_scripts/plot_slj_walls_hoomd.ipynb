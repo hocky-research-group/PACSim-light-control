{
 "cells": [
  {
   "cell_type": "code",
   "execution_count": 1,
   "id": "5e261b19-3c11-41a9-8104-745d27dae268",
   "metadata": {},
   "outputs": [
    {
     "name": "stdout",
     "output_type": "stream",
     "text": [
      "HOOMD-blue 2.9.7 DOUBLE HPMC_MIXED TBB \n",
      "Compiled: 11/08/2021\n",
      "Copyright (c) 2009-2019 The Regents of the University of Michigan.\n",
      "-----\n",
      "You are using HOOMD-blue. Please cite the following:\n",
      "* J A Anderson, J Glaser, and S C Glotzer. \"HOOMD-blue: A Python package for\n",
      "  high-performance molecular dynamics and hard particle Monte Carlo\n",
      "  simulations\", Computational Materials Science 173 (2020) 109363\n",
      "-----\n",
      "HOOMD-blue is running on the CPU\n"
     ]
    },
    {
     "data": {
      "text/plain": [
       "<hoomd.context.SimulationContext at 0x107b661d0>"
      ]
     },
     "execution_count": 1,
     "metadata": {},
     "output_type": "execute_result"
    }
   ],
   "source": [
    "import hoomd\n",
    "import gsd.hoomd \n",
    "from hoomd import md\n",
    "import numpy as np\n",
    "import matplotlib.pyplot as plt\n",
    "\n",
    "box_length = 1000\n",
    "radiusN = 105\n",
    "\n",
    "hoomd.context.initialize(\"--mode=cpu\")"
   ]
  },
  {
   "cell_type": "code",
   "execution_count": 2,
   "id": "0056a4b9-7a14-45f9-a425-03655f754f96",
   "metadata": {},
   "outputs": [
    {
     "name": "stdout",
     "output_type": "stream",
     "text": [
      "notice(2): Group \"all\" created containing 1 particles\n",
      "notice(2): Notice: slj set d_max=210.0\n",
      "notice(2): integrate.langevin/bd is using specified gamma values\n"
     ]
    },
    {
     "name": "stderr",
     "output_type": "stream",
     "text": [
      "*Warning*: compute.thermo: given a group with 0 degrees of freedom.\n",
      "            overriding ndof=1 to avoid divide by 0 errors\n"
     ]
    },
    {
     "name": "stdout",
     "output_type": "stream",
     "text": [
      "** starting run **\n",
      "Time 00:00:00 | Step 0 / 0 | TPS 0 | ETA 00:00:00\n",
      "Average TPS: 0\n",
      "---------\n",
      "** run complete **\n",
      "notice(2): Group \"all\" created containing 1 particles\n",
      "notice(2): Notice: slj set d_max=210.0\n",
      "notice(2): integrate.langevin/bd is using specified gamma values\n"
     ]
    },
    {
     "name": "stderr",
     "output_type": "stream",
     "text": [
      "*Warning*: compute.thermo: given a group with 0 degrees of freedom.\n",
      "            overriding ndof=1 to avoid divide by 0 errors\n"
     ]
    },
    {
     "name": "stdout",
     "output_type": "stream",
     "text": [
      "** starting run **\n",
      "Time 00:00:00 | Step 0 / 0 | TPS 0 | ETA 00:00:00\n",
      "Average TPS: 0\n",
      "---------\n",
      "** run complete **\n",
      "notice(2): Group \"all\" created containing 1 particles\n",
      "notice(2): Notice: slj set d_max=210.0\n",
      "notice(2): integrate.langevin/bd is using specified gamma values\n"
     ]
    },
    {
     "name": "stderr",
     "output_type": "stream",
     "text": [
      "*Warning*: compute.thermo: given a group with 0 degrees of freedom.\n",
      "            overriding ndof=1 to avoid divide by 0 errors\n"
     ]
    },
    {
     "name": "stdout",
     "output_type": "stream",
     "text": [
      "** starting run **\n",
      "Time 00:00:00 | Step 0 / 0 | TPS 0 | ETA 00:00:00\n",
      "Average TPS: 0\n",
      "---------\n",
      "** run complete **\n",
      "notice(2): Group \"all\" created containing 1 particles\n",
      "notice(2): Notice: slj set d_max=210.0\n",
      "notice(2): integrate.langevin/bd is using specified gamma values\n"
     ]
    },
    {
     "name": "stderr",
     "output_type": "stream",
     "text": [
      "*Warning*: compute.thermo: given a group with 0 degrees of freedom.\n",
      "            overriding ndof=1 to avoid divide by 0 errors\n"
     ]
    },
    {
     "name": "stdout",
     "output_type": "stream",
     "text": [
      "** starting run **\n",
      "Time 00:00:00 | Step 0 / 0 | TPS 0 | ETA 00:00:00\n",
      "Average TPS: 0\n",
      "---------\n",
      "** run complete **\n",
      "notice(2): Group \"all\" created containing 1 particles\n",
      "notice(2): Notice: slj set d_max=210.0\n",
      "notice(2): integrate.langevin/bd is using specified gamma values\n"
     ]
    },
    {
     "name": "stderr",
     "output_type": "stream",
     "text": [
      "*Warning*: compute.thermo: given a group with 0 degrees of freedom.\n",
      "            overriding ndof=1 to avoid divide by 0 errors\n"
     ]
    },
    {
     "name": "stdout",
     "output_type": "stream",
     "text": [
      "** starting run **\n",
      "Time 00:00:00 | Step 0 / 0 | TPS 0 | ETA 00:00:00\n",
      "Average TPS: 0\n",
      "---------\n",
      "** run complete **\n",
      "notice(2): Group \"all\" created containing 1 particles\n",
      "notice(2): Notice: slj set d_max=210.0\n",
      "notice(2): integrate.langevin/bd is using specified gamma values\n"
     ]
    },
    {
     "name": "stderr",
     "output_type": "stream",
     "text": [
      "*Warning*: compute.thermo: given a group with 0 degrees of freedom.\n",
      "            overriding ndof=1 to avoid divide by 0 errors\n"
     ]
    },
    {
     "name": "stdout",
     "output_type": "stream",
     "text": [
      "** starting run **\n",
      "Time 00:00:00 | Step 0 / 0 | TPS 0 | ETA 00:00:00\n",
      "Average TPS: 0\n",
      "---------\n",
      "** run complete **\n",
      "notice(2): Group \"all\" created containing 1 particles\n",
      "notice(2): Notice: slj set d_max=210.0\n",
      "notice(2): integrate.langevin/bd is using specified gamma values\n"
     ]
    },
    {
     "name": "stderr",
     "output_type": "stream",
     "text": [
      "*Warning*: compute.thermo: given a group with 0 degrees of freedom.\n",
      "            overriding ndof=1 to avoid divide by 0 errors\n"
     ]
    },
    {
     "name": "stdout",
     "output_type": "stream",
     "text": [
      "** starting run **\n",
      "Time 00:00:00 | Step 0 / 0 | TPS 0 | ETA 00:00:00\n",
      "Average TPS: 0\n",
      "---------\n",
      "** run complete **\n",
      "notice(2): Group \"all\" created containing 1 particles\n",
      "notice(2): Notice: slj set d_max=210.0\n",
      "notice(2): integrate.langevin/bd is using specified gamma values\n"
     ]
    },
    {
     "name": "stderr",
     "output_type": "stream",
     "text": [
      "*Warning*: compute.thermo: given a group with 0 degrees of freedom.\n",
      "            overriding ndof=1 to avoid divide by 0 errors\n"
     ]
    },
    {
     "name": "stdout",
     "output_type": "stream",
     "text": [
      "** starting run **\n",
      "Time 00:00:00 | Step 0 / 0 | TPS 0 | ETA 00:00:00\n",
      "Average TPS: 0\n",
      "---------\n",
      "** run complete **\n",
      "notice(2): Group \"all\" created containing 1 particles\n",
      "notice(2): Notice: slj set d_max=210.0\n",
      "notice(2): integrate.langevin/bd is using specified gamma values\n"
     ]
    },
    {
     "name": "stderr",
     "output_type": "stream",
     "text": [
      "*Warning*: compute.thermo: given a group with 0 degrees of freedom.\n",
      "            overriding ndof=1 to avoid divide by 0 errors\n"
     ]
    },
    {
     "name": "stdout",
     "output_type": "stream",
     "text": [
      "** starting run **\n",
      "Time 00:00:00 | Step 0 / 0 | TPS 0 | ETA 00:00:00\n",
      "Average TPS: 0\n",
      "---------\n",
      "** run complete **\n",
      "notice(2): Group \"all\" created containing 1 particles\n",
      "notice(2): Notice: slj set d_max=210.0\n",
      "notice(2): integrate.langevin/bd is using specified gamma values\n"
     ]
    },
    {
     "name": "stderr",
     "output_type": "stream",
     "text": [
      "*Warning*: compute.thermo: given a group with 0 degrees of freedom.\n",
      "            overriding ndof=1 to avoid divide by 0 errors\n"
     ]
    },
    {
     "name": "stdout",
     "output_type": "stream",
     "text": [
      "** starting run **\n",
      "Time 00:00:00 | Step 0 / 0 | TPS 0 | ETA 00:00:00\n",
      "Average TPS: 0\n",
      "---------\n",
      "** run complete **\n",
      "notice(2): Group \"all\" created containing 1 particles\n",
      "notice(2): Notice: slj set d_max=210.0\n",
      "notice(2): integrate.langevin/bd is using specified gamma values\n"
     ]
    },
    {
     "name": "stderr",
     "output_type": "stream",
     "text": [
      "*Warning*: compute.thermo: given a group with 0 degrees of freedom.\n",
      "            overriding ndof=1 to avoid divide by 0 errors\n"
     ]
    },
    {
     "name": "stdout",
     "output_type": "stream",
     "text": [
      "** starting run **\n",
      "Time 00:00:00 | Step 0 / 0 | TPS 0 | ETA 00:00:00\n",
      "Average TPS: 0\n",
      "---------\n",
      "** run complete **\n",
      "notice(2): Group \"all\" created containing 1 particles\n",
      "notice(2): Notice: slj set d_max=210.0\n",
      "notice(2): integrate.langevin/bd is using specified gamma values\n"
     ]
    },
    {
     "name": "stderr",
     "output_type": "stream",
     "text": [
      "*Warning*: compute.thermo: given a group with 0 degrees of freedom.\n",
      "            overriding ndof=1 to avoid divide by 0 errors\n"
     ]
    },
    {
     "name": "stdout",
     "output_type": "stream",
     "text": [
      "** starting run **\n",
      "Time 00:00:00 | Step 0 / 0 | TPS 0 | ETA 00:00:00\n",
      "Average TPS: 0\n",
      "---------\n",
      "** run complete **\n",
      "notice(2): Group \"all\" created containing 1 particles\n",
      "notice(2): Notice: slj set d_max=210.0\n",
      "notice(2): integrate.langevin/bd is using specified gamma values\n"
     ]
    },
    {
     "name": "stderr",
     "output_type": "stream",
     "text": [
      "*Warning*: compute.thermo: given a group with 0 degrees of freedom.\n",
      "            overriding ndof=1 to avoid divide by 0 errors\n"
     ]
    },
    {
     "name": "stdout",
     "output_type": "stream",
     "text": [
      "** starting run **\n",
      "Time 00:00:00 | Step 0 / 0 | TPS 0 | ETA 00:00:00\n",
      "Average TPS: 0\n",
      "---------\n",
      "** run complete **\n",
      "notice(2): Group \"all\" created containing 1 particles\n",
      "notice(2): Notice: slj set d_max=210.0\n",
      "notice(2): integrate.langevin/bd is using specified gamma values\n"
     ]
    },
    {
     "name": "stderr",
     "output_type": "stream",
     "text": [
      "*Warning*: compute.thermo: given a group with 0 degrees of freedom.\n",
      "            overriding ndof=1 to avoid divide by 0 errors\n"
     ]
    },
    {
     "name": "stdout",
     "output_type": "stream",
     "text": [
      "** starting run **\n",
      "Time 00:00:00 | Step 0 / 0 | TPS 0 | ETA 00:00:00\n",
      "Average TPS: 0\n",
      "---------\n",
      "** run complete **\n",
      "notice(2): Group \"all\" created containing 1 particles\n",
      "notice(2): Notice: slj set d_max=210.0\n",
      "notice(2): integrate.langevin/bd is using specified gamma values\n"
     ]
    },
    {
     "name": "stderr",
     "output_type": "stream",
     "text": [
      "*Warning*: compute.thermo: given a group with 0 degrees of freedom.\n",
      "            overriding ndof=1 to avoid divide by 0 errors\n"
     ]
    },
    {
     "name": "stdout",
     "output_type": "stream",
     "text": [
      "** starting run **\n",
      "Time 00:00:00 | Step 0 / 0 | TPS 0 | ETA 00:00:00\n",
      "Average TPS: 0\n",
      "---------\n",
      "** run complete **\n",
      "notice(2): Group \"all\" created containing 1 particles\n",
      "notice(2): Notice: slj set d_max=210.0\n",
      "notice(2): integrate.langevin/bd is using specified gamma values\n"
     ]
    },
    {
     "name": "stderr",
     "output_type": "stream",
     "text": [
      "*Warning*: compute.thermo: given a group with 0 degrees of freedom.\n",
      "            overriding ndof=1 to avoid divide by 0 errors\n"
     ]
    },
    {
     "name": "stdout",
     "output_type": "stream",
     "text": [
      "** starting run **\n",
      "Time 00:00:00 | Step 0 / 0 | TPS 0 | ETA 00:00:00\n",
      "Average TPS: 0\n",
      "---------\n",
      "** run complete **\n",
      "notice(2): Group \"all\" created containing 1 particles\n",
      "notice(2): Notice: slj set d_max=210.0\n",
      "notice(2): integrate.langevin/bd is using specified gamma values\n"
     ]
    },
    {
     "name": "stderr",
     "output_type": "stream",
     "text": [
      "*Warning*: compute.thermo: given a group with 0 degrees of freedom.\n",
      "            overriding ndof=1 to avoid divide by 0 errors\n"
     ]
    },
    {
     "name": "stdout",
     "output_type": "stream",
     "text": [
      "** starting run **\n",
      "Time 00:00:00 | Step 0 / 0 | TPS 0 | ETA 00:00:00\n",
      "Average TPS: 0\n",
      "---------\n",
      "** run complete **\n",
      "notice(2): Group \"all\" created containing 1 particles\n",
      "notice(2): Notice: slj set d_max=210.0\n",
      "notice(2): integrate.langevin/bd is using specified gamma values\n"
     ]
    },
    {
     "name": "stderr",
     "output_type": "stream",
     "text": [
      "*Warning*: compute.thermo: given a group with 0 degrees of freedom.\n",
      "            overriding ndof=1 to avoid divide by 0 errors\n"
     ]
    },
    {
     "name": "stdout",
     "output_type": "stream",
     "text": [
      "** starting run **\n",
      "Time 00:00:00 | Step 0 / 0 | TPS 0 | ETA 00:00:00\n",
      "Average TPS: 0\n",
      "---------\n",
      "** run complete **\n",
      "notice(2): Group \"all\" created containing 1 particles\n",
      "notice(2): Notice: slj set d_max=210.0\n",
      "notice(2): integrate.langevin/bd is using specified gamma values\n"
     ]
    },
    {
     "name": "stderr",
     "output_type": "stream",
     "text": [
      "*Warning*: compute.thermo: given a group with 0 degrees of freedom.\n",
      "            overriding ndof=1 to avoid divide by 0 errors\n"
     ]
    },
    {
     "name": "stdout",
     "output_type": "stream",
     "text": [
      "** starting run **\n",
      "Time 00:00:00 | Step 0 / 0 | TPS 0 | ETA 00:00:00\n",
      "Average TPS: 0\n",
      "---------\n",
      "** run complete **\n",
      "notice(2): Group \"all\" created containing 1 particles\n",
      "notice(2): Notice: slj set d_max=210.0\n",
      "notice(2): integrate.langevin/bd is using specified gamma values\n"
     ]
    },
    {
     "name": "stderr",
     "output_type": "stream",
     "text": [
      "*Warning*: compute.thermo: given a group with 0 degrees of freedom.\n",
      "            overriding ndof=1 to avoid divide by 0 errors\n"
     ]
    },
    {
     "name": "stdout",
     "output_type": "stream",
     "text": [
      "** starting run **\n",
      "Time 00:00:00 | Step 0 / 0 | TPS 0 | ETA 00:00:00\n",
      "Average TPS: 0\n",
      "---------\n",
      "** run complete **\n",
      "notice(2): Group \"all\" created containing 1 particles\n",
      "notice(2): Notice: slj set d_max=210.0\n",
      "notice(2): integrate.langevin/bd is using specified gamma values\n"
     ]
    },
    {
     "name": "stderr",
     "output_type": "stream",
     "text": [
      "*Warning*: compute.thermo: given a group with 0 degrees of freedom.\n",
      "            overriding ndof=1 to avoid divide by 0 errors\n"
     ]
    },
    {
     "name": "stdout",
     "output_type": "stream",
     "text": [
      "** starting run **\n",
      "Time 00:00:00 | Step 0 / 0 | TPS 0 | ETA 00:00:00\n",
      "Average TPS: 0\n",
      "---------\n",
      "** run complete **\n",
      "notice(2): Group \"all\" created containing 1 particles\n",
      "notice(2): Notice: slj set d_max=210.0\n",
      "notice(2): integrate.langevin/bd is using specified gamma values\n"
     ]
    },
    {
     "name": "stderr",
     "output_type": "stream",
     "text": [
      "*Warning*: compute.thermo: given a group with 0 degrees of freedom.\n",
      "            overriding ndof=1 to avoid divide by 0 errors\n"
     ]
    },
    {
     "name": "stdout",
     "output_type": "stream",
     "text": [
      "** starting run **\n",
      "Time 00:00:00 | Step 0 / 0 | TPS 0 | ETA 00:00:00\n",
      "Average TPS: 0\n",
      "---------\n",
      "** run complete **\n",
      "notice(2): Group \"all\" created containing 1 particles\n",
      "notice(2): Notice: slj set d_max=210.0\n",
      "notice(2): integrate.langevin/bd is using specified gamma values\n"
     ]
    },
    {
     "name": "stderr",
     "output_type": "stream",
     "text": [
      "*Warning*: compute.thermo: given a group with 0 degrees of freedom.\n",
      "            overriding ndof=1 to avoid divide by 0 errors\n"
     ]
    },
    {
     "name": "stdout",
     "output_type": "stream",
     "text": [
      "** starting run **\n",
      "Time 00:00:00 | Step 0 / 0 | TPS 0 | ETA 00:00:00\n",
      "Average TPS: 0\n",
      "---------\n",
      "** run complete **\n",
      "notice(2): Group \"all\" created containing 1 particles\n",
      "notice(2): Notice: slj set d_max=210.0\n",
      "notice(2): integrate.langevin/bd is using specified gamma values\n"
     ]
    },
    {
     "name": "stderr",
     "output_type": "stream",
     "text": [
      "*Warning*: compute.thermo: given a group with 0 degrees of freedom.\n",
      "            overriding ndof=1 to avoid divide by 0 errors\n"
     ]
    },
    {
     "name": "stdout",
     "output_type": "stream",
     "text": [
      "** starting run **\n",
      "Time 00:00:00 | Step 0 / 0 | TPS 0 | ETA 00:00:00\n",
      "Average TPS: 0\n",
      "---------\n",
      "** run complete **\n",
      "notice(2): Group \"all\" created containing 1 particles\n",
      "notice(2): Notice: slj set d_max=210.0\n",
      "notice(2): integrate.langevin/bd is using specified gamma values\n"
     ]
    },
    {
     "name": "stderr",
     "output_type": "stream",
     "text": [
      "*Warning*: compute.thermo: given a group with 0 degrees of freedom.\n",
      "            overriding ndof=1 to avoid divide by 0 errors\n"
     ]
    },
    {
     "name": "stdout",
     "output_type": "stream",
     "text": [
      "** starting run **\n",
      "Time 00:00:00 | Step 0 / 0 | TPS 0 | ETA 00:00:00\n",
      "Average TPS: 0\n",
      "---------\n",
      "** run complete **\n",
      "notice(2): Group \"all\" created containing 1 particles\n",
      "notice(2): Notice: slj set d_max=210.0\n",
      "notice(2): integrate.langevin/bd is using specified gamma values\n"
     ]
    },
    {
     "name": "stderr",
     "output_type": "stream",
     "text": [
      "*Warning*: compute.thermo: given a group with 0 degrees of freedom.\n",
      "            overriding ndof=1 to avoid divide by 0 errors\n"
     ]
    },
    {
     "name": "stdout",
     "output_type": "stream",
     "text": [
      "** starting run **\n",
      "Time 00:00:00 | Step 0 / 0 | TPS 0 | ETA 00:00:00\n",
      "Average TPS: 0\n",
      "---------\n",
      "** run complete **\n",
      "notice(2): Group \"all\" created containing 1 particles\n",
      "notice(2): Notice: slj set d_max=210.0\n",
      "notice(2): integrate.langevin/bd is using specified gamma values\n"
     ]
    },
    {
     "name": "stderr",
     "output_type": "stream",
     "text": [
      "*Warning*: compute.thermo: given a group with 0 degrees of freedom.\n",
      "            overriding ndof=1 to avoid divide by 0 errors\n"
     ]
    },
    {
     "name": "stdout",
     "output_type": "stream",
     "text": [
      "** starting run **\n",
      "Time 00:00:00 | Step 0 / 0 | TPS 0 | ETA 00:00:00\n",
      "Average TPS: 0\n",
      "---------\n",
      "** run complete **\n",
      "notice(2): Group \"all\" created containing 1 particles\n",
      "notice(2): Notice: slj set d_max=210.0\n",
      "notice(2): integrate.langevin/bd is using specified gamma values\n"
     ]
    },
    {
     "name": "stderr",
     "output_type": "stream",
     "text": [
      "*Warning*: compute.thermo: given a group with 0 degrees of freedom.\n",
      "            overriding ndof=1 to avoid divide by 0 errors\n"
     ]
    },
    {
     "name": "stdout",
     "output_type": "stream",
     "text": [
      "** starting run **\n",
      "Time 00:00:00 | Step 0 / 0 | TPS 0 | ETA 00:00:00\n",
      "Average TPS: 0\n",
      "---------\n",
      "** run complete **\n",
      "notice(2): Group \"all\" created containing 1 particles\n",
      "notice(2): Notice: slj set d_max=210.0\n",
      "notice(2): integrate.langevin/bd is using specified gamma values\n"
     ]
    },
    {
     "name": "stderr",
     "output_type": "stream",
     "text": [
      "*Warning*: compute.thermo: given a group with 0 degrees of freedom.\n",
      "            overriding ndof=1 to avoid divide by 0 errors\n"
     ]
    },
    {
     "name": "stdout",
     "output_type": "stream",
     "text": [
      "** starting run **\n",
      "Time 00:00:00 | Step 0 / 0 | TPS 0 | ETA 00:00:00\n",
      "Average TPS: 0\n",
      "---------\n",
      "** run complete **\n",
      "notice(2): Group \"all\" created containing 1 particles\n",
      "notice(2): Notice: slj set d_max=210.0\n",
      "notice(2): integrate.langevin/bd is using specified gamma values\n"
     ]
    },
    {
     "name": "stderr",
     "output_type": "stream",
     "text": [
      "*Warning*: compute.thermo: given a group with 0 degrees of freedom.\n",
      "            overriding ndof=1 to avoid divide by 0 errors\n"
     ]
    },
    {
     "name": "stdout",
     "output_type": "stream",
     "text": [
      "** starting run **\n",
      "Time 00:00:00 | Step 0 / 0 | TPS 0 | ETA 00:00:00\n",
      "Average TPS: 0\n",
      "---------\n",
      "** run complete **\n",
      "notice(2): Group \"all\" created containing 1 particles\n",
      "notice(2): Notice: slj set d_max=210.0\n",
      "notice(2): integrate.langevin/bd is using specified gamma values\n"
     ]
    },
    {
     "name": "stderr",
     "output_type": "stream",
     "text": [
      "*Warning*: compute.thermo: given a group with 0 degrees of freedom.\n",
      "            overriding ndof=1 to avoid divide by 0 errors\n"
     ]
    },
    {
     "name": "stdout",
     "output_type": "stream",
     "text": [
      "** starting run **\n",
      "Time 00:00:00 | Step 0 / 0 | TPS 0 | ETA 00:00:00\n",
      "Average TPS: 0\n",
      "---------\n",
      "** run complete **\n",
      "notice(2): Group \"all\" created containing 1 particles\n",
      "notice(2): Notice: slj set d_max=210.0\n",
      "notice(2): integrate.langevin/bd is using specified gamma values\n"
     ]
    },
    {
     "name": "stderr",
     "output_type": "stream",
     "text": [
      "*Warning*: compute.thermo: given a group with 0 degrees of freedom.\n",
      "            overriding ndof=1 to avoid divide by 0 errors\n"
     ]
    },
    {
     "name": "stdout",
     "output_type": "stream",
     "text": [
      "** starting run **\n",
      "Time 00:00:00 | Step 0 / 0 | TPS 0 | ETA 00:00:00\n",
      "Average TPS: 0\n",
      "---------\n",
      "** run complete **\n",
      "notice(2): Group \"all\" created containing 1 particles\n",
      "notice(2): Notice: slj set d_max=210.0\n",
      "notice(2): integrate.langevin/bd is using specified gamma values\n"
     ]
    },
    {
     "name": "stderr",
     "output_type": "stream",
     "text": [
      "*Warning*: compute.thermo: given a group with 0 degrees of freedom.\n",
      "            overriding ndof=1 to avoid divide by 0 errors\n"
     ]
    },
    {
     "name": "stdout",
     "output_type": "stream",
     "text": [
      "** starting run **\n",
      "Time 00:00:00 | Step 0 / 0 | TPS 0 | ETA 00:00:00\n",
      "Average TPS: 0\n",
      "---------\n",
      "** run complete **\n",
      "notice(2): Group \"all\" created containing 1 particles\n",
      "notice(2): Notice: slj set d_max=210.0\n",
      "notice(2): integrate.langevin/bd is using specified gamma values\n"
     ]
    },
    {
     "name": "stderr",
     "output_type": "stream",
     "text": [
      "*Warning*: compute.thermo: given a group with 0 degrees of freedom.\n",
      "            overriding ndof=1 to avoid divide by 0 errors\n"
     ]
    },
    {
     "name": "stdout",
     "output_type": "stream",
     "text": [
      "** starting run **\n",
      "Time 00:00:00 | Step 0 / 0 | TPS 0 | ETA 00:00:00\n",
      "Average TPS: 0\n",
      "---------\n",
      "** run complete **\n",
      "notice(2): Group \"all\" created containing 1 particles\n",
      "notice(2): Notice: slj set d_max=210.0\n",
      "notice(2): integrate.langevin/bd is using specified gamma values\n"
     ]
    },
    {
     "name": "stderr",
     "output_type": "stream",
     "text": [
      "*Warning*: compute.thermo: given a group with 0 degrees of freedom.\n",
      "            overriding ndof=1 to avoid divide by 0 errors\n"
     ]
    },
    {
     "name": "stdout",
     "output_type": "stream",
     "text": [
      "** starting run **\n",
      "Time 00:00:00 | Step 0 / 0 | TPS 0 | ETA 00:00:00\n",
      "Average TPS: 0\n",
      "---------\n",
      "** run complete **\n",
      "notice(2): Group \"all\" created containing 1 particles\n",
      "notice(2): Notice: slj set d_max=210.0\n",
      "notice(2): integrate.langevin/bd is using specified gamma values\n"
     ]
    },
    {
     "name": "stderr",
     "output_type": "stream",
     "text": [
      "*Warning*: compute.thermo: given a group with 0 degrees of freedom.\n",
      "            overriding ndof=1 to avoid divide by 0 errors\n"
     ]
    },
    {
     "name": "stdout",
     "output_type": "stream",
     "text": [
      "** starting run **\n",
      "Time 00:00:00 | Step 0 / 0 | TPS 0 | ETA 00:00:00\n",
      "Average TPS: 0\n",
      "---------\n",
      "** run complete **\n",
      "notice(2): Group \"all\" created containing 1 particles\n",
      "notice(2): Notice: slj set d_max=210.0\n",
      "notice(2): integrate.langevin/bd is using specified gamma values\n"
     ]
    },
    {
     "name": "stderr",
     "output_type": "stream",
     "text": [
      "*Warning*: compute.thermo: given a group with 0 degrees of freedom.\n",
      "            overriding ndof=1 to avoid divide by 0 errors\n"
     ]
    },
    {
     "name": "stdout",
     "output_type": "stream",
     "text": [
      "** starting run **\n",
      "Time 00:00:00 | Step 0 / 0 | TPS 0 | ETA 00:00:00\n",
      "Average TPS: 0\n",
      "---------\n",
      "** run complete **\n",
      "notice(2): Group \"all\" created containing 1 particles\n",
      "notice(2): Notice: slj set d_max=210.0\n",
      "notice(2): integrate.langevin/bd is using specified gamma values\n"
     ]
    },
    {
     "name": "stderr",
     "output_type": "stream",
     "text": [
      "*Warning*: compute.thermo: given a group with 0 degrees of freedom.\n",
      "            overriding ndof=1 to avoid divide by 0 errors\n"
     ]
    },
    {
     "name": "stdout",
     "output_type": "stream",
     "text": [
      "** starting run **\n",
      "Time 00:00:00 | Step 0 / 0 | TPS 0 | ETA 00:00:00\n",
      "Average TPS: 0\n",
      "---------\n",
      "** run complete **\n",
      "notice(2): Group \"all\" created containing 1 particles\n",
      "notice(2): Notice: slj set d_max=210.0\n",
      "notice(2): integrate.langevin/bd is using specified gamma values\n"
     ]
    },
    {
     "name": "stderr",
     "output_type": "stream",
     "text": [
      "*Warning*: compute.thermo: given a group with 0 degrees of freedom.\n",
      "            overriding ndof=1 to avoid divide by 0 errors\n"
     ]
    },
    {
     "name": "stdout",
     "output_type": "stream",
     "text": [
      "** starting run **\n",
      "Time 00:00:00 | Step 0 / 0 | TPS 0 | ETA 00:00:00\n",
      "Average TPS: 0\n",
      "---------\n",
      "** run complete **\n",
      "notice(2): Group \"all\" created containing 1 particles\n",
      "notice(2): Notice: slj set d_max=210.0\n",
      "notice(2): integrate.langevin/bd is using specified gamma values\n"
     ]
    },
    {
     "name": "stderr",
     "output_type": "stream",
     "text": [
      "*Warning*: compute.thermo: given a group with 0 degrees of freedom.\n",
      "            overriding ndof=1 to avoid divide by 0 errors\n"
     ]
    },
    {
     "name": "stdout",
     "output_type": "stream",
     "text": [
      "** starting run **\n",
      "Time 00:00:00 | Step 0 / 0 | TPS 0 | ETA 00:00:00\n",
      "Average TPS: 0\n",
      "---------\n",
      "** run complete **\n",
      "notice(2): Group \"all\" created containing 1 particles\n",
      "notice(2): Notice: slj set d_max=210.0\n",
      "notice(2): integrate.langevin/bd is using specified gamma values\n"
     ]
    },
    {
     "name": "stderr",
     "output_type": "stream",
     "text": [
      "*Warning*: compute.thermo: given a group with 0 degrees of freedom.\n",
      "            overriding ndof=1 to avoid divide by 0 errors\n"
     ]
    },
    {
     "name": "stdout",
     "output_type": "stream",
     "text": [
      "** starting run **\n",
      "Time 00:00:00 | Step 0 / 0 | TPS 0 | ETA 00:00:00\n",
      "Average TPS: 0\n",
      "---------\n",
      "** run complete **\n",
      "notice(2): Group \"all\" created containing 1 particles\n",
      "notice(2): Notice: slj set d_max=210.0\n",
      "notice(2): integrate.langevin/bd is using specified gamma values\n"
     ]
    },
    {
     "name": "stderr",
     "output_type": "stream",
     "text": [
      "*Warning*: compute.thermo: given a group with 0 degrees of freedom.\n",
      "            overriding ndof=1 to avoid divide by 0 errors\n"
     ]
    },
    {
     "name": "stdout",
     "output_type": "stream",
     "text": [
      "** starting run **\n",
      "Time 00:00:00 | Step 0 / 0 | TPS 0 | ETA 00:00:00\n",
      "Average TPS: 0\n",
      "---------\n",
      "** run complete **\n",
      "notice(2): Group \"all\" created containing 1 particles\n",
      "notice(2): Notice: slj set d_max=210.0\n",
      "notice(2): integrate.langevin/bd is using specified gamma values\n"
     ]
    },
    {
     "name": "stderr",
     "output_type": "stream",
     "text": [
      "*Warning*: compute.thermo: given a group with 0 degrees of freedom.\n",
      "            overriding ndof=1 to avoid divide by 0 errors\n"
     ]
    },
    {
     "name": "stdout",
     "output_type": "stream",
     "text": [
      "** starting run **\n",
      "Time 00:00:00 | Step 0 / 0 | TPS 0 | ETA 00:00:00\n",
      "Average TPS: 0\n",
      "---------\n",
      "** run complete **\n",
      "notice(2): Group \"all\" created containing 1 particles\n",
      "notice(2): Notice: slj set d_max=210.0\n",
      "notice(2): integrate.langevin/bd is using specified gamma values\n"
     ]
    },
    {
     "name": "stderr",
     "output_type": "stream",
     "text": [
      "*Warning*: compute.thermo: given a group with 0 degrees of freedom.\n",
      "            overriding ndof=1 to avoid divide by 0 errors\n"
     ]
    },
    {
     "name": "stdout",
     "output_type": "stream",
     "text": [
      "** starting run **\n",
      "Time 00:00:00 | Step 0 / 0 | TPS 0 | ETA 00:00:00\n",
      "Average TPS: 0\n",
      "---------\n",
      "** run complete **\n",
      "notice(2): Group \"all\" created containing 1 particles\n",
      "notice(2): Notice: slj set d_max=210.0\n",
      "notice(2): integrate.langevin/bd is using specified gamma values\n"
     ]
    },
    {
     "name": "stderr",
     "output_type": "stream",
     "text": [
      "*Warning*: compute.thermo: given a group with 0 degrees of freedom.\n",
      "            overriding ndof=1 to avoid divide by 0 errors\n"
     ]
    },
    {
     "name": "stdout",
     "output_type": "stream",
     "text": [
      "** starting run **\n",
      "Time 00:00:00 | Step 0 / 0 | TPS 0 | ETA 00:00:00\n",
      "Average TPS: 0\n",
      "---------\n",
      "** run complete **\n",
      "notice(2): Group \"all\" created containing 1 particles\n",
      "notice(2): Notice: slj set d_max=210.0\n",
      "notice(2): integrate.langevin/bd is using specified gamma values\n"
     ]
    },
    {
     "name": "stderr",
     "output_type": "stream",
     "text": [
      "*Warning*: compute.thermo: given a group with 0 degrees of freedom.\n",
      "            overriding ndof=1 to avoid divide by 0 errors\n"
     ]
    },
    {
     "name": "stdout",
     "output_type": "stream",
     "text": [
      "** starting run **\n",
      "Time 00:00:00 | Step 0 / 0 | TPS 0 | ETA 00:00:00\n",
      "Average TPS: 0\n",
      "---------\n",
      "** run complete **\n",
      "notice(2): Group \"all\" created containing 1 particles\n",
      "notice(2): Notice: slj set d_max=210.0\n",
      "notice(2): integrate.langevin/bd is using specified gamma values\n"
     ]
    },
    {
     "name": "stderr",
     "output_type": "stream",
     "text": [
      "*Warning*: compute.thermo: given a group with 0 degrees of freedom.\n",
      "            overriding ndof=1 to avoid divide by 0 errors\n"
     ]
    },
    {
     "name": "stdout",
     "output_type": "stream",
     "text": [
      "** starting run **\n",
      "Time 00:00:00 | Step 0 / 0 | TPS 0 | ETA 00:00:00\n",
      "Average TPS: 0\n",
      "---------\n",
      "** run complete **\n",
      "notice(2): Group \"all\" created containing 1 particles\n",
      "notice(2): Notice: slj set d_max=210.0\n",
      "notice(2): integrate.langevin/bd is using specified gamma values\n"
     ]
    },
    {
     "name": "stderr",
     "output_type": "stream",
     "text": [
      "*Warning*: compute.thermo: given a group with 0 degrees of freedom.\n",
      "            overriding ndof=1 to avoid divide by 0 errors\n"
     ]
    },
    {
     "name": "stdout",
     "output_type": "stream",
     "text": [
      "** starting run **\n",
      "Time 00:00:00 | Step 0 / 0 | TPS 0 | ETA 00:00:00\n",
      "Average TPS: 0\n",
      "---------\n",
      "** run complete **\n",
      "notice(2): Group \"all\" created containing 1 particles\n",
      "notice(2): Notice: slj set d_max=210.0\n",
      "notice(2): integrate.langevin/bd is using specified gamma values\n"
     ]
    },
    {
     "name": "stderr",
     "output_type": "stream",
     "text": [
      "*Warning*: compute.thermo: given a group with 0 degrees of freedom.\n",
      "            overriding ndof=1 to avoid divide by 0 errors\n"
     ]
    },
    {
     "name": "stdout",
     "output_type": "stream",
     "text": [
      "** starting run **\n",
      "Time 00:00:00 | Step 0 / 0 | TPS 0 | ETA 00:00:00\n",
      "Average TPS: 0\n",
      "---------\n",
      "** run complete **\n",
      "notice(2): Group \"all\" created containing 1 particles\n",
      "notice(2): Notice: slj set d_max=210.0\n",
      "notice(2): integrate.langevin/bd is using specified gamma values\n"
     ]
    },
    {
     "name": "stderr",
     "output_type": "stream",
     "text": [
      "*Warning*: compute.thermo: given a group with 0 degrees of freedom.\n",
      "            overriding ndof=1 to avoid divide by 0 errors\n"
     ]
    },
    {
     "name": "stdout",
     "output_type": "stream",
     "text": [
      "** starting run **\n",
      "Time 00:00:00 | Step 0 / 0 | TPS 0 | ETA 00:00:00\n",
      "Average TPS: 0\n",
      "---------\n",
      "** run complete **\n",
      "notice(2): Group \"all\" created containing 1 particles\n",
      "notice(2): Notice: slj set d_max=210.0\n",
      "notice(2): integrate.langevin/bd is using specified gamma values\n"
     ]
    },
    {
     "name": "stderr",
     "output_type": "stream",
     "text": [
      "*Warning*: compute.thermo: given a group with 0 degrees of freedom.\n",
      "            overriding ndof=1 to avoid divide by 0 errors\n"
     ]
    },
    {
     "name": "stdout",
     "output_type": "stream",
     "text": [
      "** starting run **\n",
      "Time 00:00:00 | Step 0 / 0 | TPS 0 | ETA 00:00:00\n",
      "Average TPS: 0\n",
      "---------\n",
      "** run complete **\n",
      "notice(2): Group \"all\" created containing 1 particles\n",
      "notice(2): Notice: slj set d_max=210.0\n",
      "notice(2): integrate.langevin/bd is using specified gamma values\n"
     ]
    },
    {
     "name": "stderr",
     "output_type": "stream",
     "text": [
      "*Warning*: compute.thermo: given a group with 0 degrees of freedom.\n",
      "            overriding ndof=1 to avoid divide by 0 errors\n"
     ]
    },
    {
     "name": "stdout",
     "output_type": "stream",
     "text": [
      "** starting run **\n",
      "Time 00:00:00 | Step 0 / 0 | TPS 0 | ETA 00:00:00\n",
      "Average TPS: 0\n",
      "---------\n",
      "** run complete **\n",
      "notice(2): Group \"all\" created containing 1 particles\n",
      "notice(2): Notice: slj set d_max=210.0\n",
      "notice(2): integrate.langevin/bd is using specified gamma values\n"
     ]
    },
    {
     "name": "stderr",
     "output_type": "stream",
     "text": [
      "*Warning*: compute.thermo: given a group with 0 degrees of freedom.\n",
      "            overriding ndof=1 to avoid divide by 0 errors\n"
     ]
    },
    {
     "name": "stdout",
     "output_type": "stream",
     "text": [
      "** starting run **\n",
      "Time 00:00:00 | Step 0 / 0 | TPS 0 | ETA 00:00:00\n",
      "Average TPS: 0\n",
      "---------\n",
      "** run complete **\n",
      "notice(2): Group \"all\" created containing 1 particles\n",
      "notice(2): Notice: slj set d_max=210.0\n",
      "notice(2): integrate.langevin/bd is using specified gamma values\n"
     ]
    },
    {
     "name": "stderr",
     "output_type": "stream",
     "text": [
      "*Warning*: compute.thermo: given a group with 0 degrees of freedom.\n",
      "            overriding ndof=1 to avoid divide by 0 errors\n"
     ]
    },
    {
     "name": "stdout",
     "output_type": "stream",
     "text": [
      "** starting run **\n",
      "Time 00:00:00 | Step 0 / 0 | TPS 0 | ETA 00:00:00\n",
      "Average TPS: 0\n",
      "---------\n",
      "** run complete **\n",
      "notice(2): Group \"all\" created containing 1 particles\n",
      "notice(2): Notice: slj set d_max=210.0\n",
      "notice(2): integrate.langevin/bd is using specified gamma values\n"
     ]
    },
    {
     "name": "stderr",
     "output_type": "stream",
     "text": [
      "*Warning*: compute.thermo: given a group with 0 degrees of freedom.\n",
      "            overriding ndof=1 to avoid divide by 0 errors\n"
     ]
    },
    {
     "name": "stdout",
     "output_type": "stream",
     "text": [
      "** starting run **\n",
      "Time 00:00:00 | Step 0 / 0 | TPS 0 | ETA 00:00:00\n",
      "Average TPS: 0\n",
      "---------\n",
      "** run complete **\n",
      "notice(2): Group \"all\" created containing 1 particles\n",
      "notice(2): Notice: slj set d_max=210.0\n",
      "notice(2): integrate.langevin/bd is using specified gamma values\n"
     ]
    },
    {
     "name": "stderr",
     "output_type": "stream",
     "text": [
      "*Warning*: compute.thermo: given a group with 0 degrees of freedom.\n",
      "            overriding ndof=1 to avoid divide by 0 errors\n"
     ]
    },
    {
     "name": "stdout",
     "output_type": "stream",
     "text": [
      "** starting run **\n",
      "Time 00:00:00 | Step 0 / 0 | TPS 0 | ETA 00:00:00\n",
      "Average TPS: 0\n",
      "---------\n",
      "** run complete **\n",
      "notice(2): Group \"all\" created containing 1 particles\n",
      "notice(2): Notice: slj set d_max=210.0\n",
      "notice(2): integrate.langevin/bd is using specified gamma values\n"
     ]
    },
    {
     "name": "stderr",
     "output_type": "stream",
     "text": [
      "*Warning*: compute.thermo: given a group with 0 degrees of freedom.\n",
      "            overriding ndof=1 to avoid divide by 0 errors\n"
     ]
    },
    {
     "name": "stdout",
     "output_type": "stream",
     "text": [
      "** starting run **\n",
      "Time 00:00:00 | Step 0 / 0 | TPS 0 | ETA 00:00:00\n",
      "Average TPS: 0\n",
      "---------\n",
      "** run complete **\n",
      "notice(2): Group \"all\" created containing 1 particles\n",
      "notice(2): Notice: slj set d_max=210.0\n",
      "notice(2): integrate.langevin/bd is using specified gamma values\n"
     ]
    },
    {
     "name": "stderr",
     "output_type": "stream",
     "text": [
      "*Warning*: compute.thermo: given a group with 0 degrees of freedom.\n",
      "            overriding ndof=1 to avoid divide by 0 errors\n"
     ]
    },
    {
     "name": "stdout",
     "output_type": "stream",
     "text": [
      "** starting run **\n",
      "Time 00:00:00 | Step 0 / 0 | TPS 0 | ETA 00:00:00\n",
      "Average TPS: 0\n",
      "---------\n",
      "** run complete **\n",
      "notice(2): Group \"all\" created containing 1 particles\n",
      "notice(2): Notice: slj set d_max=210.0\n",
      "notice(2): integrate.langevin/bd is using specified gamma values\n"
     ]
    },
    {
     "name": "stderr",
     "output_type": "stream",
     "text": [
      "*Warning*: compute.thermo: given a group with 0 degrees of freedom.\n",
      "            overriding ndof=1 to avoid divide by 0 errors\n"
     ]
    },
    {
     "name": "stdout",
     "output_type": "stream",
     "text": [
      "** starting run **\n",
      "Time 00:00:00 | Step 0 / 0 | TPS 0 | ETA 00:00:00\n",
      "Average TPS: 0\n",
      "---------\n",
      "** run complete **\n",
      "notice(2): Group \"all\" created containing 1 particles\n",
      "notice(2): Notice: slj set d_max=210.0\n",
      "notice(2): integrate.langevin/bd is using specified gamma values\n"
     ]
    },
    {
     "name": "stderr",
     "output_type": "stream",
     "text": [
      "*Warning*: compute.thermo: given a group with 0 degrees of freedom.\n",
      "            overriding ndof=1 to avoid divide by 0 errors\n"
     ]
    },
    {
     "name": "stdout",
     "output_type": "stream",
     "text": [
      "** starting run **\n",
      "Time 00:00:00 | Step 0 / 0 | TPS 0 | ETA 00:00:00\n",
      "Average TPS: 0\n",
      "---------\n",
      "** run complete **\n",
      "notice(2): Group \"all\" created containing 1 particles\n",
      "notice(2): Notice: slj set d_max=210.0\n",
      "notice(2): integrate.langevin/bd is using specified gamma values\n"
     ]
    },
    {
     "name": "stderr",
     "output_type": "stream",
     "text": [
      "*Warning*: compute.thermo: given a group with 0 degrees of freedom.\n",
      "            overriding ndof=1 to avoid divide by 0 errors\n"
     ]
    },
    {
     "name": "stdout",
     "output_type": "stream",
     "text": [
      "** starting run **\n",
      "Time 00:00:00 | Step 0 / 0 | TPS 0 | ETA 00:00:00\n",
      "Average TPS: 0\n",
      "---------\n",
      "** run complete **\n",
      "notice(2): Group \"all\" created containing 1 particles\n",
      "notice(2): Notice: slj set d_max=210.0\n",
      "notice(2): integrate.langevin/bd is using specified gamma values\n"
     ]
    },
    {
     "name": "stderr",
     "output_type": "stream",
     "text": [
      "*Warning*: compute.thermo: given a group with 0 degrees of freedom.\n",
      "            overriding ndof=1 to avoid divide by 0 errors\n"
     ]
    },
    {
     "name": "stdout",
     "output_type": "stream",
     "text": [
      "** starting run **\n",
      "Time 00:00:00 | Step 0 / 0 | TPS 0 | ETA 00:00:00\n",
      "Average TPS: 0\n",
      "---------\n",
      "** run complete **\n",
      "notice(2): Group \"all\" created containing 1 particles\n",
      "notice(2): Notice: slj set d_max=210.0\n",
      "notice(2): integrate.langevin/bd is using specified gamma values\n"
     ]
    },
    {
     "name": "stderr",
     "output_type": "stream",
     "text": [
      "*Warning*: compute.thermo: given a group with 0 degrees of freedom.\n",
      "            overriding ndof=1 to avoid divide by 0 errors\n"
     ]
    },
    {
     "name": "stdout",
     "output_type": "stream",
     "text": [
      "** starting run **\n",
      "Time 00:00:00 | Step 0 / 0 | TPS 0 | ETA 00:00:00\n",
      "Average TPS: 0\n",
      "---------\n",
      "** run complete **\n",
      "notice(2): Group \"all\" created containing 1 particles\n",
      "notice(2): Notice: slj set d_max=210.0\n",
      "notice(2): integrate.langevin/bd is using specified gamma values\n"
     ]
    },
    {
     "name": "stderr",
     "output_type": "stream",
     "text": [
      "*Warning*: compute.thermo: given a group with 0 degrees of freedom.\n",
      "            overriding ndof=1 to avoid divide by 0 errors\n"
     ]
    },
    {
     "name": "stdout",
     "output_type": "stream",
     "text": [
      "** starting run **\n",
      "Time 00:00:00 | Step 0 / 0 | TPS 0 | ETA 00:00:00\n",
      "Average TPS: 0\n",
      "---------\n",
      "** run complete **\n",
      "notice(2): Group \"all\" created containing 1 particles\n",
      "notice(2): Notice: slj set d_max=210.0\n",
      "notice(2): integrate.langevin/bd is using specified gamma values\n"
     ]
    },
    {
     "name": "stderr",
     "output_type": "stream",
     "text": [
      "*Warning*: compute.thermo: given a group with 0 degrees of freedom.\n",
      "            overriding ndof=1 to avoid divide by 0 errors\n"
     ]
    },
    {
     "name": "stdout",
     "output_type": "stream",
     "text": [
      "** starting run **\n",
      "Time 00:00:00 | Step 0 / 0 | TPS 0 | ETA 00:00:00\n",
      "Average TPS: 0\n",
      "---------\n",
      "** run complete **\n",
      "notice(2): Group \"all\" created containing 1 particles\n",
      "notice(2): Notice: slj set d_max=210.0\n",
      "notice(2): integrate.langevin/bd is using specified gamma values\n"
     ]
    },
    {
     "name": "stderr",
     "output_type": "stream",
     "text": [
      "*Warning*: compute.thermo: given a group with 0 degrees of freedom.\n",
      "            overriding ndof=1 to avoid divide by 0 errors\n"
     ]
    },
    {
     "name": "stdout",
     "output_type": "stream",
     "text": [
      "** starting run **\n",
      "Time 00:00:00 | Step 0 / 0 | TPS 0 | ETA 00:00:00\n",
      "Average TPS: 0\n",
      "---------\n",
      "** run complete **\n",
      "notice(2): Group \"all\" created containing 1 particles\n",
      "notice(2): Notice: slj set d_max=210.0\n",
      "notice(2): integrate.langevin/bd is using specified gamma values\n"
     ]
    },
    {
     "name": "stderr",
     "output_type": "stream",
     "text": [
      "*Warning*: compute.thermo: given a group with 0 degrees of freedom.\n",
      "            overriding ndof=1 to avoid divide by 0 errors\n"
     ]
    },
    {
     "name": "stdout",
     "output_type": "stream",
     "text": [
      "** starting run **\n",
      "Time 00:00:00 | Step 0 / 0 | TPS 0 | ETA 00:00:00\n",
      "Average TPS: 0\n",
      "---------\n",
      "** run complete **\n",
      "notice(2): Group \"all\" created containing 1 particles\n",
      "notice(2): Notice: slj set d_max=210.0\n",
      "notice(2): integrate.langevin/bd is using specified gamma values\n"
     ]
    },
    {
     "name": "stderr",
     "output_type": "stream",
     "text": [
      "*Warning*: compute.thermo: given a group with 0 degrees of freedom.\n",
      "            overriding ndof=1 to avoid divide by 0 errors\n"
     ]
    },
    {
     "name": "stdout",
     "output_type": "stream",
     "text": [
      "** starting run **\n",
      "Time 00:00:00 | Step 0 / 0 | TPS 0 | ETA 00:00:00\n",
      "Average TPS: 0\n",
      "---------\n",
      "** run complete **\n",
      "notice(2): Group \"all\" created containing 1 particles\n",
      "notice(2): Notice: slj set d_max=210.0\n",
      "notice(2): integrate.langevin/bd is using specified gamma values\n"
     ]
    },
    {
     "name": "stderr",
     "output_type": "stream",
     "text": [
      "*Warning*: compute.thermo: given a group with 0 degrees of freedom.\n",
      "            overriding ndof=1 to avoid divide by 0 errors\n"
     ]
    },
    {
     "name": "stdout",
     "output_type": "stream",
     "text": [
      "** starting run **\n",
      "Time 00:00:00 | Step 0 / 0 | TPS 0 | ETA 00:00:00\n",
      "Average TPS: 0\n",
      "---------\n",
      "** run complete **\n",
      "notice(2): Group \"all\" created containing 1 particles\n",
      "notice(2): Notice: slj set d_max=210.0\n",
      "notice(2): integrate.langevin/bd is using specified gamma values\n"
     ]
    },
    {
     "name": "stderr",
     "output_type": "stream",
     "text": [
      "*Warning*: compute.thermo: given a group with 0 degrees of freedom.\n",
      "            overriding ndof=1 to avoid divide by 0 errors\n"
     ]
    },
    {
     "name": "stdout",
     "output_type": "stream",
     "text": [
      "** starting run **\n",
      "Time 00:00:00 | Step 0 / 0 | TPS 0 | ETA 00:00:00\n",
      "Average TPS: 0\n",
      "---------\n",
      "** run complete **\n",
      "notice(2): Group \"all\" created containing 1 particles\n",
      "notice(2): Notice: slj set d_max=210.0\n",
      "notice(2): integrate.langevin/bd is using specified gamma values\n"
     ]
    },
    {
     "name": "stderr",
     "output_type": "stream",
     "text": [
      "*Warning*: compute.thermo: given a group with 0 degrees of freedom.\n",
      "            overriding ndof=1 to avoid divide by 0 errors\n"
     ]
    },
    {
     "name": "stdout",
     "output_type": "stream",
     "text": [
      "** starting run **\n",
      "Time 00:00:00 | Step 0 / 0 | TPS 0 | ETA 00:00:00\n",
      "Average TPS: 0\n",
      "---------\n",
      "** run complete **\n",
      "notice(2): Group \"all\" created containing 1 particles\n",
      "notice(2): Notice: slj set d_max=210.0\n",
      "notice(2): integrate.langevin/bd is using specified gamma values\n"
     ]
    },
    {
     "name": "stderr",
     "output_type": "stream",
     "text": [
      "*Warning*: compute.thermo: given a group with 0 degrees of freedom.\n",
      "            overriding ndof=1 to avoid divide by 0 errors\n"
     ]
    },
    {
     "name": "stdout",
     "output_type": "stream",
     "text": [
      "** starting run **\n",
      "Time 00:00:00 | Step 0 / 0 | TPS 0 | ETA 00:00:00\n",
      "Average TPS: 0\n",
      "---------\n",
      "** run complete **\n",
      "notice(2): Group \"all\" created containing 1 particles\n",
      "notice(2): Notice: slj set d_max=210.0\n",
      "notice(2): integrate.langevin/bd is using specified gamma values\n"
     ]
    },
    {
     "name": "stderr",
     "output_type": "stream",
     "text": [
      "*Warning*: compute.thermo: given a group with 0 degrees of freedom.\n",
      "            overriding ndof=1 to avoid divide by 0 errors\n"
     ]
    },
    {
     "name": "stdout",
     "output_type": "stream",
     "text": [
      "** starting run **\n",
      "Time 00:00:00 | Step 0 / 0 | TPS 0 | ETA 00:00:00\n",
      "Average TPS: 0\n",
      "---------\n",
      "** run complete **\n",
      "notice(2): Group \"all\" created containing 1 particles\n",
      "notice(2): Notice: slj set d_max=210.0\n",
      "notice(2): integrate.langevin/bd is using specified gamma values\n"
     ]
    },
    {
     "name": "stderr",
     "output_type": "stream",
     "text": [
      "*Warning*: compute.thermo: given a group with 0 degrees of freedom.\n",
      "            overriding ndof=1 to avoid divide by 0 errors\n"
     ]
    },
    {
     "name": "stdout",
     "output_type": "stream",
     "text": [
      "** starting run **\n",
      "Time 00:00:00 | Step 0 / 0 | TPS 0 | ETA 00:00:00\n",
      "Average TPS: 0\n",
      "---------\n",
      "** run complete **\n",
      "notice(2): Group \"all\" created containing 1 particles\n",
      "notice(2): Notice: slj set d_max=210.0\n",
      "notice(2): integrate.langevin/bd is using specified gamma values\n"
     ]
    },
    {
     "name": "stderr",
     "output_type": "stream",
     "text": [
      "*Warning*: compute.thermo: given a group with 0 degrees of freedom.\n",
      "            overriding ndof=1 to avoid divide by 0 errors\n"
     ]
    },
    {
     "name": "stdout",
     "output_type": "stream",
     "text": [
      "** starting run **\n",
      "Time 00:00:00 | Step 0 / 0 | TPS 0 | ETA 00:00:00\n",
      "Average TPS: 0\n",
      "---------\n",
      "** run complete **\n",
      "notice(2): Group \"all\" created containing 1 particles\n",
      "notice(2): Notice: slj set d_max=210.0\n",
      "notice(2): integrate.langevin/bd is using specified gamma values\n"
     ]
    },
    {
     "name": "stderr",
     "output_type": "stream",
     "text": [
      "*Warning*: compute.thermo: given a group with 0 degrees of freedom.\n",
      "            overriding ndof=1 to avoid divide by 0 errors\n"
     ]
    },
    {
     "name": "stdout",
     "output_type": "stream",
     "text": [
      "** starting run **\n",
      "Time 00:00:00 | Step 0 / 0 | TPS 0 | ETA 00:00:00\n",
      "Average TPS: 0\n",
      "---------\n",
      "** run complete **\n",
      "notice(2): Group \"all\" created containing 1 particles\n",
      "notice(2): Notice: slj set d_max=210.0\n",
      "notice(2): integrate.langevin/bd is using specified gamma values\n"
     ]
    },
    {
     "name": "stderr",
     "output_type": "stream",
     "text": [
      "*Warning*: compute.thermo: given a group with 0 degrees of freedom.\n",
      "            overriding ndof=1 to avoid divide by 0 errors\n"
     ]
    },
    {
     "name": "stdout",
     "output_type": "stream",
     "text": [
      "** starting run **\n",
      "Time 00:00:00 | Step 0 / 0 | TPS 0 | ETA 00:00:00\n",
      "Average TPS: 0\n",
      "---------\n",
      "** run complete **\n",
      "notice(2): Group \"all\" created containing 1 particles\n",
      "notice(2): Notice: slj set d_max=210.0\n",
      "notice(2): integrate.langevin/bd is using specified gamma values\n"
     ]
    },
    {
     "name": "stderr",
     "output_type": "stream",
     "text": [
      "*Warning*: compute.thermo: given a group with 0 degrees of freedom.\n",
      "            overriding ndof=1 to avoid divide by 0 errors\n"
     ]
    },
    {
     "name": "stdout",
     "output_type": "stream",
     "text": [
      "** starting run **\n",
      "Time 00:00:00 | Step 0 / 0 | TPS 0 | ETA 00:00:00\n",
      "Average TPS: 0\n",
      "---------\n",
      "** run complete **\n",
      "notice(2): Group \"all\" created containing 1 particles\n",
      "notice(2): Notice: slj set d_max=210.0\n",
      "notice(2): integrate.langevin/bd is using specified gamma values\n"
     ]
    },
    {
     "name": "stderr",
     "output_type": "stream",
     "text": [
      "*Warning*: compute.thermo: given a group with 0 degrees of freedom.\n",
      "            overriding ndof=1 to avoid divide by 0 errors\n"
     ]
    },
    {
     "name": "stdout",
     "output_type": "stream",
     "text": [
      "** starting run **\n",
      "Time 00:00:00 | Step 0 / 0 | TPS 0 | ETA 00:00:00\n",
      "Average TPS: 0\n",
      "---------\n",
      "** run complete **\n",
      "notice(2): Group \"all\" created containing 1 particles\n",
      "notice(2): Notice: slj set d_max=210.0\n",
      "notice(2): integrate.langevin/bd is using specified gamma values\n"
     ]
    },
    {
     "name": "stderr",
     "output_type": "stream",
     "text": [
      "*Warning*: compute.thermo: given a group with 0 degrees of freedom.\n",
      "            overriding ndof=1 to avoid divide by 0 errors\n"
     ]
    },
    {
     "name": "stdout",
     "output_type": "stream",
     "text": [
      "** starting run **\n",
      "Time 00:00:00 | Step 0 / 0 | TPS 0 | ETA 00:00:00\n",
      "Average TPS: 0\n",
      "---------\n",
      "** run complete **\n",
      "notice(2): Group \"all\" created containing 1 particles\n",
      "notice(2): Notice: slj set d_max=210.0\n",
      "notice(2): integrate.langevin/bd is using specified gamma values\n"
     ]
    },
    {
     "name": "stderr",
     "output_type": "stream",
     "text": [
      "*Warning*: compute.thermo: given a group with 0 degrees of freedom.\n",
      "            overriding ndof=1 to avoid divide by 0 errors\n"
     ]
    },
    {
     "name": "stdout",
     "output_type": "stream",
     "text": [
      "** starting run **\n",
      "Time 00:00:00 | Step 0 / 0 | TPS 0 | ETA 00:00:00\n",
      "Average TPS: 0\n",
      "---------\n",
      "** run complete **\n",
      "notice(2): Group \"all\" created containing 1 particles\n",
      "notice(2): Notice: slj set d_max=210.0\n",
      "notice(2): integrate.langevin/bd is using specified gamma values\n"
     ]
    },
    {
     "name": "stderr",
     "output_type": "stream",
     "text": [
      "*Warning*: compute.thermo: given a group with 0 degrees of freedom.\n",
      "            overriding ndof=1 to avoid divide by 0 errors\n"
     ]
    },
    {
     "name": "stdout",
     "output_type": "stream",
     "text": [
      "** starting run **\n",
      "Time 00:00:00 | Step 0 / 0 | TPS 0 | ETA 00:00:00\n",
      "Average TPS: 0\n",
      "---------\n",
      "** run complete **\n",
      "notice(2): Group \"all\" created containing 1 particles\n",
      "notice(2): Notice: slj set d_max=210.0\n",
      "notice(2): integrate.langevin/bd is using specified gamma values\n"
     ]
    },
    {
     "name": "stderr",
     "output_type": "stream",
     "text": [
      "*Warning*: compute.thermo: given a group with 0 degrees of freedom.\n",
      "            overriding ndof=1 to avoid divide by 0 errors\n"
     ]
    },
    {
     "name": "stdout",
     "output_type": "stream",
     "text": [
      "** starting run **\n",
      "Time 00:00:00 | Step 0 / 0 | TPS 0 | ETA 00:00:00\n",
      "Average TPS: 0\n",
      "---------\n",
      "** run complete **\n",
      "notice(2): Group \"all\" created containing 1 particles\n",
      "notice(2): Notice: slj set d_max=210.0\n",
      "notice(2): integrate.langevin/bd is using specified gamma values\n"
     ]
    },
    {
     "name": "stderr",
     "output_type": "stream",
     "text": [
      "*Warning*: compute.thermo: given a group with 0 degrees of freedom.\n",
      "            overriding ndof=1 to avoid divide by 0 errors\n"
     ]
    },
    {
     "name": "stdout",
     "output_type": "stream",
     "text": [
      "** starting run **\n",
      "Time 00:00:00 | Step 0 / 0 | TPS 0 | ETA 00:00:00\n",
      "Average TPS: 0\n",
      "---------\n",
      "** run complete **\n",
      "notice(2): Group \"all\" created containing 1 particles\n",
      "notice(2): Notice: slj set d_max=210.0\n",
      "notice(2): integrate.langevin/bd is using specified gamma values\n"
     ]
    },
    {
     "name": "stderr",
     "output_type": "stream",
     "text": [
      "*Warning*: compute.thermo: given a group with 0 degrees of freedom.\n",
      "            overriding ndof=1 to avoid divide by 0 errors\n"
     ]
    },
    {
     "name": "stdout",
     "output_type": "stream",
     "text": [
      "** starting run **\n",
      "Time 00:00:00 | Step 0 / 0 | TPS 0 | ETA 00:00:00\n",
      "Average TPS: 0\n",
      "---------\n",
      "** run complete **\n",
      "notice(2): Group \"all\" created containing 1 particles\n",
      "notice(2): Notice: slj set d_max=210.0\n",
      "notice(2): integrate.langevin/bd is using specified gamma values\n"
     ]
    },
    {
     "name": "stderr",
     "output_type": "stream",
     "text": [
      "*Warning*: compute.thermo: given a group with 0 degrees of freedom.\n",
      "            overriding ndof=1 to avoid divide by 0 errors\n"
     ]
    },
    {
     "name": "stdout",
     "output_type": "stream",
     "text": [
      "** starting run **\n",
      "Time 00:00:00 | Step 0 / 0 | TPS 0 | ETA 00:00:00\n",
      "Average TPS: 0\n",
      "---------\n",
      "** run complete **\n",
      "notice(2): Group \"all\" created containing 1 particles\n",
      "notice(2): Notice: slj set d_max=210.0\n",
      "notice(2): integrate.langevin/bd is using specified gamma values\n"
     ]
    },
    {
     "name": "stderr",
     "output_type": "stream",
     "text": [
      "*Warning*: compute.thermo: given a group with 0 degrees of freedom.\n",
      "            overriding ndof=1 to avoid divide by 0 errors\n"
     ]
    },
    {
     "name": "stdout",
     "output_type": "stream",
     "text": [
      "** starting run **\n",
      "Time 00:00:00 | Step 0 / 0 | TPS 0 | ETA 00:00:00\n",
      "Average TPS: 0\n",
      "---------\n",
      "** run complete **\n",
      "notice(2): Group \"all\" created containing 1 particles\n",
      "notice(2): Notice: slj set d_max=210.0\n",
      "notice(2): integrate.langevin/bd is using specified gamma values\n"
     ]
    },
    {
     "name": "stderr",
     "output_type": "stream",
     "text": [
      "*Warning*: compute.thermo: given a group with 0 degrees of freedom.\n",
      "            overriding ndof=1 to avoid divide by 0 errors\n"
     ]
    },
    {
     "name": "stdout",
     "output_type": "stream",
     "text": [
      "** starting run **\n",
      "Time 00:00:00 | Step 0 / 0 | TPS 0 | ETA 00:00:00\n",
      "Average TPS: 0\n",
      "---------\n",
      "** run complete **\n",
      "notice(2): Group \"all\" created containing 1 particles\n",
      "notice(2): Notice: slj set d_max=210.0\n",
      "notice(2): integrate.langevin/bd is using specified gamma values\n"
     ]
    },
    {
     "name": "stderr",
     "output_type": "stream",
     "text": [
      "*Warning*: compute.thermo: given a group with 0 degrees of freedom.\n",
      "            overriding ndof=1 to avoid divide by 0 errors\n"
     ]
    },
    {
     "name": "stdout",
     "output_type": "stream",
     "text": [
      "** starting run **\n",
      "Time 00:00:00 | Step 0 / 0 | TPS 0 | ETA 00:00:00\n",
      "Average TPS: 0\n",
      "---------\n",
      "** run complete **\n",
      "notice(2): Group \"all\" created containing 1 particles\n",
      "notice(2): Notice: slj set d_max=210.0\n",
      "notice(2): integrate.langevin/bd is using specified gamma values\n"
     ]
    },
    {
     "name": "stderr",
     "output_type": "stream",
     "text": [
      "*Warning*: compute.thermo: given a group with 0 degrees of freedom.\n",
      "            overriding ndof=1 to avoid divide by 0 errors\n"
     ]
    },
    {
     "name": "stdout",
     "output_type": "stream",
     "text": [
      "** starting run **\n",
      "Time 00:00:00 | Step 0 / 0 | TPS 0 | ETA 00:00:00\n",
      "Average TPS: 0\n",
      "---------\n",
      "** run complete **\n",
      "notice(2): Group \"all\" created containing 1 particles\n",
      "notice(2): Notice: slj set d_max=210.0\n",
      "notice(2): integrate.langevin/bd is using specified gamma values\n"
     ]
    },
    {
     "name": "stderr",
     "output_type": "stream",
     "text": [
      "*Warning*: compute.thermo: given a group with 0 degrees of freedom.\n",
      "            overriding ndof=1 to avoid divide by 0 errors\n"
     ]
    },
    {
     "name": "stdout",
     "output_type": "stream",
     "text": [
      "** starting run **\n",
      "Time 00:00:00 | Step 0 / 0 | TPS 0 | ETA 00:00:00\n",
      "Average TPS: 0\n",
      "---------\n",
      "** run complete **\n",
      "notice(2): Group \"all\" created containing 1 particles\n",
      "notice(2): Notice: slj set d_max=210.0\n",
      "notice(2): integrate.langevin/bd is using specified gamma values\n"
     ]
    },
    {
     "name": "stderr",
     "output_type": "stream",
     "text": [
      "*Warning*: compute.thermo: given a group with 0 degrees of freedom.\n",
      "            overriding ndof=1 to avoid divide by 0 errors\n"
     ]
    },
    {
     "name": "stdout",
     "output_type": "stream",
     "text": [
      "** starting run **\n",
      "Time 00:00:00 | Step 0 / 0 | TPS 0 | ETA 00:00:00\n",
      "Average TPS: 0\n",
      "---------\n",
      "** run complete **\n",
      "notice(2): Group \"all\" created containing 1 particles\n",
      "notice(2): Notice: slj set d_max=210.0\n",
      "notice(2): integrate.langevin/bd is using specified gamma values\n"
     ]
    },
    {
     "name": "stderr",
     "output_type": "stream",
     "text": [
      "*Warning*: compute.thermo: given a group with 0 degrees of freedom.\n",
      "            overriding ndof=1 to avoid divide by 0 errors\n"
     ]
    },
    {
     "name": "stdout",
     "output_type": "stream",
     "text": [
      "** starting run **\n",
      "Time 00:00:00 | Step 0 / 0 | TPS 0 | ETA 00:00:00\n",
      "Average TPS: 0\n",
      "---------\n",
      "** run complete **\n",
      "notice(2): Group \"all\" created containing 1 particles\n",
      "notice(2): Notice: slj set d_max=210.0\n",
      "notice(2): integrate.langevin/bd is using specified gamma values\n"
     ]
    },
    {
     "name": "stderr",
     "output_type": "stream",
     "text": [
      "*Warning*: compute.thermo: given a group with 0 degrees of freedom.\n",
      "            overriding ndof=1 to avoid divide by 0 errors\n"
     ]
    },
    {
     "name": "stdout",
     "output_type": "stream",
     "text": [
      "** starting run **\n",
      "Time 00:00:00 | Step 0 / 0 | TPS 0 | ETA 00:00:00\n",
      "Average TPS: 0\n",
      "---------\n",
      "** run complete **\n",
      "notice(2): Group \"all\" created containing 1 particles\n",
      "notice(2): Notice: slj set d_max=210.0\n",
      "notice(2): integrate.langevin/bd is using specified gamma values\n"
     ]
    },
    {
     "name": "stderr",
     "output_type": "stream",
     "text": [
      "*Warning*: compute.thermo: given a group with 0 degrees of freedom.\n",
      "            overriding ndof=1 to avoid divide by 0 errors\n"
     ]
    },
    {
     "name": "stdout",
     "output_type": "stream",
     "text": [
      "** starting run **\n",
      "Time 00:00:00 | Step 0 / 0 | TPS 0 | ETA 00:00:00\n",
      "Average TPS: 0\n",
      "---------\n",
      "** run complete **\n",
      "notice(2): Group \"all\" created containing 1 particles\n",
      "notice(2): Notice: slj set d_max=210.0\n",
      "notice(2): integrate.langevin/bd is using specified gamma values\n"
     ]
    },
    {
     "name": "stderr",
     "output_type": "stream",
     "text": [
      "*Warning*: compute.thermo: given a group with 0 degrees of freedom.\n",
      "            overriding ndof=1 to avoid divide by 0 errors\n"
     ]
    },
    {
     "name": "stdout",
     "output_type": "stream",
     "text": [
      "** starting run **\n",
      "Time 00:00:00 | Step 0 / 0 | TPS 0 | ETA 00:00:00\n",
      "Average TPS: 0\n",
      "---------\n",
      "** run complete **\n",
      "notice(2): Group \"all\" created containing 1 particles\n",
      "notice(2): Notice: slj set d_max=210.0\n",
      "notice(2): integrate.langevin/bd is using specified gamma values\n"
     ]
    },
    {
     "name": "stderr",
     "output_type": "stream",
     "text": [
      "*Warning*: compute.thermo: given a group with 0 degrees of freedom.\n",
      "            overriding ndof=1 to avoid divide by 0 errors\n"
     ]
    },
    {
     "name": "stdout",
     "output_type": "stream",
     "text": [
      "** starting run **\n",
      "Time 00:00:00 | Step 0 / 0 | TPS 0 | ETA 00:00:00\n",
      "Average TPS: 0\n",
      "---------\n",
      "** run complete **\n",
      "notice(2): Group \"all\" created containing 1 particles\n",
      "notice(2): Notice: slj set d_max=210.0\n",
      "notice(2): integrate.langevin/bd is using specified gamma values\n"
     ]
    },
    {
     "name": "stderr",
     "output_type": "stream",
     "text": [
      "*Warning*: compute.thermo: given a group with 0 degrees of freedom.\n",
      "            overriding ndof=1 to avoid divide by 0 errors\n"
     ]
    },
    {
     "name": "stdout",
     "output_type": "stream",
     "text": [
      "** starting run **\n",
      "Time 00:00:00 | Step 0 / 0 | TPS 0 | ETA 00:00:00\n",
      "Average TPS: 0\n",
      "---------\n",
      "** run complete **\n",
      "notice(2): Group \"all\" created containing 1 particles\n",
      "notice(2): Notice: slj set d_max=210.0\n",
      "notice(2): integrate.langevin/bd is using specified gamma values\n"
     ]
    },
    {
     "name": "stderr",
     "output_type": "stream",
     "text": [
      "*Warning*: compute.thermo: given a group with 0 degrees of freedom.\n",
      "            overriding ndof=1 to avoid divide by 0 errors\n"
     ]
    },
    {
     "name": "stdout",
     "output_type": "stream",
     "text": [
      "** starting run **\n",
      "Time 00:00:00 | Step 0 / 0 | TPS 0 | ETA 00:00:00\n",
      "Average TPS: 0\n",
      "---------\n",
      "** run complete **\n",
      "notice(2): Group \"all\" created containing 1 particles\n",
      "notice(2): Notice: slj set d_max=210.0\n",
      "notice(2): integrate.langevin/bd is using specified gamma values\n"
     ]
    },
    {
     "name": "stderr",
     "output_type": "stream",
     "text": [
      "*Warning*: compute.thermo: given a group with 0 degrees of freedom.\n",
      "            overriding ndof=1 to avoid divide by 0 errors\n"
     ]
    },
    {
     "name": "stdout",
     "output_type": "stream",
     "text": [
      "** starting run **\n",
      "Time 00:00:00 | Step 0 / 0 | TPS 0 | ETA 00:00:00\n",
      "Average TPS: 0\n",
      "---------\n",
      "** run complete **\n",
      "notice(2): Group \"all\" created containing 1 particles\n",
      "notice(2): Notice: slj set d_max=210.0\n",
      "notice(2): integrate.langevin/bd is using specified gamma values\n"
     ]
    },
    {
     "name": "stderr",
     "output_type": "stream",
     "text": [
      "*Warning*: compute.thermo: given a group with 0 degrees of freedom.\n",
      "            overriding ndof=1 to avoid divide by 0 errors\n"
     ]
    },
    {
     "name": "stdout",
     "output_type": "stream",
     "text": [
      "** starting run **\n",
      "Time 00:00:00 | Step 0 / 0 | TPS 0 | ETA 00:00:00\n",
      "Average TPS: 0\n",
      "---------\n",
      "** run complete **\n",
      "notice(2): Group \"all\" created containing 1 particles\n",
      "notice(2): Notice: slj set d_max=210.0\n",
      "notice(2): integrate.langevin/bd is using specified gamma values\n"
     ]
    },
    {
     "name": "stderr",
     "output_type": "stream",
     "text": [
      "*Warning*: compute.thermo: given a group with 0 degrees of freedom.\n",
      "            overriding ndof=1 to avoid divide by 0 errors\n"
     ]
    },
    {
     "name": "stdout",
     "output_type": "stream",
     "text": [
      "** starting run **\n",
      "Time 00:00:00 | Step 0 / 0 | TPS 0 | ETA 00:00:00\n",
      "Average TPS: 0\n",
      "---------\n",
      "** run complete **\n",
      "notice(2): Group \"all\" created containing 1 particles\n",
      "notice(2): Notice: slj set d_max=210.0\n",
      "notice(2): integrate.langevin/bd is using specified gamma values\n"
     ]
    },
    {
     "name": "stderr",
     "output_type": "stream",
     "text": [
      "*Warning*: compute.thermo: given a group with 0 degrees of freedom.\n",
      "            overriding ndof=1 to avoid divide by 0 errors\n"
     ]
    },
    {
     "name": "stdout",
     "output_type": "stream",
     "text": [
      "** starting run **\n",
      "Time 00:00:00 | Step 0 / 0 | TPS 0 | ETA 00:00:00\n",
      "Average TPS: 0\n",
      "---------\n",
      "** run complete **\n",
      "notice(2): Group \"all\" created containing 1 particles\n",
      "notice(2): Notice: slj set d_max=210.0\n",
      "notice(2): integrate.langevin/bd is using specified gamma values\n"
     ]
    },
    {
     "name": "stderr",
     "output_type": "stream",
     "text": [
      "*Warning*: compute.thermo: given a group with 0 degrees of freedom.\n",
      "            overriding ndof=1 to avoid divide by 0 errors\n"
     ]
    },
    {
     "name": "stdout",
     "output_type": "stream",
     "text": [
      "** starting run **\n",
      "Time 00:00:00 | Step 0 / 0 | TPS 0 | ETA 00:00:00\n",
      "Average TPS: 0\n",
      "---------\n",
      "** run complete **\n",
      "notice(2): Group \"all\" created containing 1 particles\n",
      "notice(2): Notice: slj set d_max=210.0\n",
      "notice(2): integrate.langevin/bd is using specified gamma values\n"
     ]
    },
    {
     "name": "stderr",
     "output_type": "stream",
     "text": [
      "*Warning*: compute.thermo: given a group with 0 degrees of freedom.\n",
      "            overriding ndof=1 to avoid divide by 0 errors\n"
     ]
    },
    {
     "name": "stdout",
     "output_type": "stream",
     "text": [
      "** starting run **\n",
      "Time 00:00:00 | Step 0 / 0 | TPS 0 | ETA 00:00:00\n",
      "Average TPS: 0\n",
      "---------\n",
      "** run complete **\n",
      "notice(2): Group \"all\" created containing 1 particles\n",
      "notice(2): Notice: slj set d_max=210.0\n",
      "notice(2): integrate.langevin/bd is using specified gamma values\n"
     ]
    },
    {
     "name": "stderr",
     "output_type": "stream",
     "text": [
      "*Warning*: compute.thermo: given a group with 0 degrees of freedom.\n",
      "            overriding ndof=1 to avoid divide by 0 errors\n"
     ]
    },
    {
     "name": "stdout",
     "output_type": "stream",
     "text": [
      "** starting run **\n",
      "Time 00:00:00 | Step 0 / 0 | TPS 0 | ETA 00:00:00\n",
      "Average TPS: 0\n",
      "---------\n",
      "** run complete **\n",
      "notice(2): Group \"all\" created containing 1 particles\n",
      "notice(2): Notice: slj set d_max=210.0\n",
      "notice(2): integrate.langevin/bd is using specified gamma values\n"
     ]
    },
    {
     "name": "stderr",
     "output_type": "stream",
     "text": [
      "*Warning*: compute.thermo: given a group with 0 degrees of freedom.\n",
      "            overriding ndof=1 to avoid divide by 0 errors\n"
     ]
    },
    {
     "name": "stdout",
     "output_type": "stream",
     "text": [
      "** starting run **\n",
      "Time 00:00:00 | Step 0 / 0 | TPS 0 | ETA 00:00:00\n",
      "Average TPS: 0\n",
      "---------\n",
      "** run complete **\n",
      "notice(2): Group \"all\" created containing 1 particles\n",
      "notice(2): Notice: slj set d_max=210.0\n",
      "notice(2): integrate.langevin/bd is using specified gamma values\n"
     ]
    },
    {
     "name": "stderr",
     "output_type": "stream",
     "text": [
      "*Warning*: compute.thermo: given a group with 0 degrees of freedom.\n",
      "            overriding ndof=1 to avoid divide by 0 errors\n"
     ]
    },
    {
     "name": "stdout",
     "output_type": "stream",
     "text": [
      "** starting run **\n",
      "Time 00:00:00 | Step 0 / 0 | TPS 0 | ETA 00:00:00\n",
      "Average TPS: 0\n",
      "---------\n",
      "** run complete **\n",
      "notice(2): Group \"all\" created containing 1 particles\n",
      "notice(2): Notice: slj set d_max=210.0\n",
      "notice(2): integrate.langevin/bd is using specified gamma values\n"
     ]
    },
    {
     "name": "stderr",
     "output_type": "stream",
     "text": [
      "*Warning*: compute.thermo: given a group with 0 degrees of freedom.\n",
      "            overriding ndof=1 to avoid divide by 0 errors\n"
     ]
    },
    {
     "name": "stdout",
     "output_type": "stream",
     "text": [
      "** starting run **\n",
      "Time 00:00:00 | Step 0 / 0 | TPS 0 | ETA 00:00:00\n",
      "Average TPS: 0\n",
      "---------\n",
      "** run complete **\n",
      "notice(2): Group \"all\" created containing 1 particles\n",
      "notice(2): Notice: slj set d_max=210.0\n",
      "notice(2): integrate.langevin/bd is using specified gamma values\n"
     ]
    },
    {
     "name": "stderr",
     "output_type": "stream",
     "text": [
      "*Warning*: compute.thermo: given a group with 0 degrees of freedom.\n",
      "            overriding ndof=1 to avoid divide by 0 errors\n"
     ]
    },
    {
     "name": "stdout",
     "output_type": "stream",
     "text": [
      "** starting run **\n",
      "Time 00:00:00 | Step 0 / 0 | TPS 0 | ETA 00:00:00\n",
      "Average TPS: 0\n",
      "---------\n",
      "** run complete **\n",
      "notice(2): Group \"all\" created containing 1 particles\n",
      "notice(2): Notice: slj set d_max=210.0\n",
      "notice(2): integrate.langevin/bd is using specified gamma values\n"
     ]
    },
    {
     "name": "stderr",
     "output_type": "stream",
     "text": [
      "*Warning*: compute.thermo: given a group with 0 degrees of freedom.\n",
      "            overriding ndof=1 to avoid divide by 0 errors\n"
     ]
    },
    {
     "name": "stdout",
     "output_type": "stream",
     "text": [
      "** starting run **\n",
      "Time 00:00:00 | Step 0 / 0 | TPS 0 | ETA 00:00:00\n",
      "Average TPS: 0\n",
      "---------\n",
      "** run complete **\n",
      "notice(2): Group \"all\" created containing 1 particles\n",
      "notice(2): Notice: slj set d_max=210.0\n",
      "notice(2): integrate.langevin/bd is using specified gamma values\n"
     ]
    },
    {
     "name": "stderr",
     "output_type": "stream",
     "text": [
      "*Warning*: compute.thermo: given a group with 0 degrees of freedom.\n",
      "            overriding ndof=1 to avoid divide by 0 errors\n"
     ]
    },
    {
     "name": "stdout",
     "output_type": "stream",
     "text": [
      "** starting run **\n",
      "Time 00:00:00 | Step 0 / 0 | TPS 0 | ETA 00:00:00\n",
      "Average TPS: 0\n",
      "---------\n",
      "** run complete **\n",
      "notice(2): Group \"all\" created containing 1 particles\n",
      "notice(2): Notice: slj set d_max=210.0\n",
      "notice(2): integrate.langevin/bd is using specified gamma values\n"
     ]
    },
    {
     "name": "stderr",
     "output_type": "stream",
     "text": [
      "*Warning*: compute.thermo: given a group with 0 degrees of freedom.\n",
      "            overriding ndof=1 to avoid divide by 0 errors\n"
     ]
    },
    {
     "name": "stdout",
     "output_type": "stream",
     "text": [
      "** starting run **\n",
      "Time 00:00:00 | Step 0 / 0 | TPS 0 | ETA 00:00:00\n",
      "Average TPS: 0\n",
      "---------\n",
      "** run complete **\n",
      "notice(2): Group \"all\" created containing 1 particles\n",
      "notice(2): Notice: slj set d_max=210.0\n",
      "notice(2): integrate.langevin/bd is using specified gamma values\n"
     ]
    },
    {
     "name": "stderr",
     "output_type": "stream",
     "text": [
      "*Warning*: compute.thermo: given a group with 0 degrees of freedom.\n",
      "            overriding ndof=1 to avoid divide by 0 errors\n"
     ]
    },
    {
     "name": "stdout",
     "output_type": "stream",
     "text": [
      "** starting run **\n",
      "Time 00:00:00 | Step 0 / 0 | TPS 0 | ETA 00:00:00\n",
      "Average TPS: 0\n",
      "---------\n",
      "** run complete **\n",
      "notice(2): Group \"all\" created containing 1 particles\n",
      "notice(2): Notice: slj set d_max=210.0\n",
      "notice(2): integrate.langevin/bd is using specified gamma values\n"
     ]
    },
    {
     "name": "stderr",
     "output_type": "stream",
     "text": [
      "*Warning*: compute.thermo: given a group with 0 degrees of freedom.\n",
      "            overriding ndof=1 to avoid divide by 0 errors\n"
     ]
    },
    {
     "name": "stdout",
     "output_type": "stream",
     "text": [
      "** starting run **\n",
      "Time 00:00:00 | Step 0 / 0 | TPS 0 | ETA 00:00:00\n",
      "Average TPS: 0\n",
      "---------\n",
      "** run complete **\n",
      "notice(2): Group \"all\" created containing 1 particles\n",
      "notice(2): Notice: slj set d_max=210.0\n",
      "notice(2): integrate.langevin/bd is using specified gamma values\n"
     ]
    },
    {
     "name": "stderr",
     "output_type": "stream",
     "text": [
      "*Warning*: compute.thermo: given a group with 0 degrees of freedom.\n",
      "            overriding ndof=1 to avoid divide by 0 errors\n"
     ]
    },
    {
     "name": "stdout",
     "output_type": "stream",
     "text": [
      "** starting run **\n",
      "Time 00:00:00 | Step 0 / 0 | TPS 0 | ETA 00:00:00\n",
      "Average TPS: 0\n",
      "---------\n",
      "** run complete **\n",
      "notice(2): Group \"all\" created containing 1 particles\n",
      "notice(2): Notice: slj set d_max=210.0\n",
      "notice(2): integrate.langevin/bd is using specified gamma values\n"
     ]
    },
    {
     "name": "stderr",
     "output_type": "stream",
     "text": [
      "*Warning*: compute.thermo: given a group with 0 degrees of freedom.\n",
      "            overriding ndof=1 to avoid divide by 0 errors\n"
     ]
    },
    {
     "name": "stdout",
     "output_type": "stream",
     "text": [
      "** starting run **\n",
      "Time 00:00:00 | Step 0 / 0 | TPS 0 | ETA 00:00:00\n",
      "Average TPS: 0\n",
      "---------\n",
      "** run complete **\n",
      "notice(2): Group \"all\" created containing 1 particles\n",
      "notice(2): Notice: slj set d_max=210.0\n",
      "notice(2): integrate.langevin/bd is using specified gamma values\n"
     ]
    },
    {
     "name": "stderr",
     "output_type": "stream",
     "text": [
      "*Warning*: compute.thermo: given a group with 0 degrees of freedom.\n",
      "            overriding ndof=1 to avoid divide by 0 errors\n"
     ]
    },
    {
     "name": "stdout",
     "output_type": "stream",
     "text": [
      "** starting run **\n",
      "Time 00:00:00 | Step 0 / 0 | TPS 0 | ETA 00:00:00\n",
      "Average TPS: 0\n",
      "---------\n",
      "** run complete **\n",
      "notice(2): Group \"all\" created containing 1 particles\n",
      "notice(2): Notice: slj set d_max=210.0\n",
      "notice(2): integrate.langevin/bd is using specified gamma values\n"
     ]
    },
    {
     "name": "stderr",
     "output_type": "stream",
     "text": [
      "*Warning*: compute.thermo: given a group with 0 degrees of freedom.\n",
      "            overriding ndof=1 to avoid divide by 0 errors\n"
     ]
    },
    {
     "name": "stdout",
     "output_type": "stream",
     "text": [
      "** starting run **\n",
      "Time 00:00:00 | Step 0 / 0 | TPS 0 | ETA 00:00:00\n",
      "Average TPS: 0\n",
      "---------\n",
      "** run complete **\n",
      "notice(2): Group \"all\" created containing 1 particles\n",
      "notice(2): Notice: slj set d_max=210.0\n",
      "notice(2): integrate.langevin/bd is using specified gamma values\n"
     ]
    },
    {
     "name": "stderr",
     "output_type": "stream",
     "text": [
      "*Warning*: compute.thermo: given a group with 0 degrees of freedom.\n",
      "            overriding ndof=1 to avoid divide by 0 errors\n"
     ]
    },
    {
     "name": "stdout",
     "output_type": "stream",
     "text": [
      "** starting run **\n",
      "Time 00:00:00 | Step 0 / 0 | TPS 0 | ETA 00:00:00\n",
      "Average TPS: 0\n",
      "---------\n",
      "** run complete **\n",
      "notice(2): Group \"all\" created containing 1 particles\n",
      "notice(2): Notice: slj set d_max=210.0\n",
      "notice(2): integrate.langevin/bd is using specified gamma values\n"
     ]
    },
    {
     "name": "stderr",
     "output_type": "stream",
     "text": [
      "*Warning*: compute.thermo: given a group with 0 degrees of freedom.\n",
      "            overriding ndof=1 to avoid divide by 0 errors\n"
     ]
    },
    {
     "name": "stdout",
     "output_type": "stream",
     "text": [
      "** starting run **\n",
      "Time 00:00:00 | Step 0 / 0 | TPS 0 | ETA 00:00:00\n",
      "Average TPS: 0\n",
      "---------\n",
      "** run complete **\n",
      "notice(2): Group \"all\" created containing 1 particles\n",
      "notice(2): Notice: slj set d_max=210.0\n",
      "notice(2): integrate.langevin/bd is using specified gamma values\n"
     ]
    },
    {
     "name": "stderr",
     "output_type": "stream",
     "text": [
      "*Warning*: compute.thermo: given a group with 0 degrees of freedom.\n",
      "            overriding ndof=1 to avoid divide by 0 errors\n"
     ]
    },
    {
     "name": "stdout",
     "output_type": "stream",
     "text": [
      "** starting run **\n",
      "Time 00:00:00 | Step 0 / 0 | TPS 0 | ETA 00:00:00\n",
      "Average TPS: 0\n",
      "---------\n",
      "** run complete **\n",
      "notice(2): Group \"all\" created containing 1 particles\n",
      "notice(2): Notice: slj set d_max=210.0\n",
      "notice(2): integrate.langevin/bd is using specified gamma values\n"
     ]
    },
    {
     "name": "stderr",
     "output_type": "stream",
     "text": [
      "*Warning*: compute.thermo: given a group with 0 degrees of freedom.\n",
      "            overriding ndof=1 to avoid divide by 0 errors\n"
     ]
    },
    {
     "name": "stdout",
     "output_type": "stream",
     "text": [
      "** starting run **\n",
      "Time 00:00:00 | Step 0 / 0 | TPS 0 | ETA 00:00:00\n",
      "Average TPS: 0\n",
      "---------\n",
      "** run complete **\n",
      "notice(2): Group \"all\" created containing 1 particles\n",
      "notice(2): Notice: slj set d_max=210.0\n",
      "notice(2): integrate.langevin/bd is using specified gamma values\n"
     ]
    },
    {
     "name": "stderr",
     "output_type": "stream",
     "text": [
      "*Warning*: compute.thermo: given a group with 0 degrees of freedom.\n",
      "            overriding ndof=1 to avoid divide by 0 errors\n"
     ]
    },
    {
     "name": "stdout",
     "output_type": "stream",
     "text": [
      "** starting run **\n",
      "Time 00:00:00 | Step 0 / 0 | TPS 0 | ETA 00:00:00\n",
      "Average TPS: 0\n",
      "---------\n",
      "** run complete **\n",
      "notice(2): Group \"all\" created containing 1 particles\n",
      "notice(2): Notice: slj set d_max=210.0\n",
      "notice(2): integrate.langevin/bd is using specified gamma values\n"
     ]
    },
    {
     "name": "stderr",
     "output_type": "stream",
     "text": [
      "*Warning*: compute.thermo: given a group with 0 degrees of freedom.\n",
      "            overriding ndof=1 to avoid divide by 0 errors\n"
     ]
    },
    {
     "name": "stdout",
     "output_type": "stream",
     "text": [
      "** starting run **\n",
      "Time 00:00:00 | Step 0 / 0 | TPS 0 | ETA 00:00:00\n",
      "Average TPS: 0\n",
      "---------\n",
      "** run complete **\n",
      "notice(2): Group \"all\" created containing 1 particles\n",
      "notice(2): Notice: slj set d_max=210.0\n",
      "notice(2): integrate.langevin/bd is using specified gamma values\n"
     ]
    },
    {
     "name": "stderr",
     "output_type": "stream",
     "text": [
      "*Warning*: compute.thermo: given a group with 0 degrees of freedom.\n",
      "            overriding ndof=1 to avoid divide by 0 errors\n"
     ]
    },
    {
     "name": "stdout",
     "output_type": "stream",
     "text": [
      "** starting run **\n",
      "Time 00:00:00 | Step 0 / 0 | TPS 0 | ETA 00:00:00\n",
      "Average TPS: 0\n",
      "---------\n",
      "** run complete **\n",
      "notice(2): Group \"all\" created containing 1 particles\n",
      "notice(2): Notice: slj set d_max=210.0\n",
      "notice(2): integrate.langevin/bd is using specified gamma values\n"
     ]
    },
    {
     "name": "stderr",
     "output_type": "stream",
     "text": [
      "*Warning*: compute.thermo: given a group with 0 degrees of freedom.\n",
      "            overriding ndof=1 to avoid divide by 0 errors\n"
     ]
    },
    {
     "name": "stdout",
     "output_type": "stream",
     "text": [
      "** starting run **\n",
      "Time 00:00:00 | Step 0 / 0 | TPS 0 | ETA 00:00:00\n",
      "Average TPS: 0\n",
      "---------\n",
      "** run complete **\n",
      "notice(2): Group \"all\" created containing 1 particles\n",
      "notice(2): Notice: slj set d_max=210.0\n",
      "notice(2): integrate.langevin/bd is using specified gamma values\n"
     ]
    },
    {
     "name": "stderr",
     "output_type": "stream",
     "text": [
      "*Warning*: compute.thermo: given a group with 0 degrees of freedom.\n",
      "            overriding ndof=1 to avoid divide by 0 errors\n"
     ]
    },
    {
     "name": "stdout",
     "output_type": "stream",
     "text": [
      "** starting run **\n",
      "Time 00:00:00 | Step 0 / 0 | TPS 0 | ETA 00:00:00\n",
      "Average TPS: 0\n",
      "---------\n",
      "** run complete **\n",
      "notice(2): Group \"all\" created containing 1 particles\n",
      "notice(2): Notice: slj set d_max=210.0\n",
      "notice(2): integrate.langevin/bd is using specified gamma values\n"
     ]
    },
    {
     "name": "stderr",
     "output_type": "stream",
     "text": [
      "*Warning*: compute.thermo: given a group with 0 degrees of freedom.\n",
      "            overriding ndof=1 to avoid divide by 0 errors\n"
     ]
    },
    {
     "name": "stdout",
     "output_type": "stream",
     "text": [
      "** starting run **\n",
      "Time 00:00:00 | Step 0 / 0 | TPS 0 | ETA 00:00:00\n",
      "Average TPS: 0\n",
      "---------\n",
      "** run complete **\n",
      "notice(2): Group \"all\" created containing 1 particles\n",
      "notice(2): Notice: slj set d_max=210.0\n",
      "notice(2): integrate.langevin/bd is using specified gamma values\n"
     ]
    },
    {
     "name": "stderr",
     "output_type": "stream",
     "text": [
      "*Warning*: compute.thermo: given a group with 0 degrees of freedom.\n",
      "            overriding ndof=1 to avoid divide by 0 errors\n"
     ]
    },
    {
     "name": "stdout",
     "output_type": "stream",
     "text": [
      "** starting run **\n",
      "Time 00:00:00 | Step 0 / 0 | TPS 0 | ETA 00:00:00\n",
      "Average TPS: 0\n",
      "---------\n",
      "** run complete **\n",
      "notice(2): Group \"all\" created containing 1 particles\n",
      "notice(2): Notice: slj set d_max=210.0\n",
      "notice(2): integrate.langevin/bd is using specified gamma values\n"
     ]
    },
    {
     "name": "stderr",
     "output_type": "stream",
     "text": [
      "*Warning*: compute.thermo: given a group with 0 degrees of freedom.\n",
      "            overriding ndof=1 to avoid divide by 0 errors\n"
     ]
    },
    {
     "name": "stdout",
     "output_type": "stream",
     "text": [
      "** starting run **\n",
      "Time 00:00:00 | Step 0 / 0 | TPS 0 | ETA 00:00:00\n",
      "Average TPS: 0\n",
      "---------\n",
      "** run complete **\n",
      "notice(2): Group \"all\" created containing 1 particles\n",
      "notice(2): Notice: slj set d_max=210.0\n",
      "notice(2): integrate.langevin/bd is using specified gamma values\n"
     ]
    },
    {
     "name": "stderr",
     "output_type": "stream",
     "text": [
      "*Warning*: compute.thermo: given a group with 0 degrees of freedom.\n",
      "            overriding ndof=1 to avoid divide by 0 errors\n"
     ]
    },
    {
     "name": "stdout",
     "output_type": "stream",
     "text": [
      "** starting run **\n",
      "Time 00:00:00 | Step 0 / 0 | TPS 0 | ETA 00:00:00\n",
      "Average TPS: 0\n",
      "---------\n",
      "** run complete **\n",
      "notice(2): Group \"all\" created containing 1 particles\n",
      "notice(2): Notice: slj set d_max=210.0\n",
      "notice(2): integrate.langevin/bd is using specified gamma values\n"
     ]
    },
    {
     "name": "stderr",
     "output_type": "stream",
     "text": [
      "*Warning*: compute.thermo: given a group with 0 degrees of freedom.\n",
      "            overriding ndof=1 to avoid divide by 0 errors\n"
     ]
    },
    {
     "name": "stdout",
     "output_type": "stream",
     "text": [
      "** starting run **\n",
      "Time 00:00:00 | Step 0 / 0 | TPS 0 | ETA 00:00:00\n",
      "Average TPS: 0\n",
      "---------\n",
      "** run complete **\n",
      "notice(2): Group \"all\" created containing 1 particles\n",
      "notice(2): Notice: slj set d_max=210.0\n",
      "notice(2): integrate.langevin/bd is using specified gamma values\n"
     ]
    },
    {
     "name": "stderr",
     "output_type": "stream",
     "text": [
      "*Warning*: compute.thermo: given a group with 0 degrees of freedom.\n",
      "            overriding ndof=1 to avoid divide by 0 errors\n"
     ]
    },
    {
     "name": "stdout",
     "output_type": "stream",
     "text": [
      "** starting run **\n",
      "Time 00:00:00 | Step 0 / 0 | TPS 0 | ETA 00:00:00\n",
      "Average TPS: 0\n",
      "---------\n",
      "** run complete **\n",
      "notice(2): Group \"all\" created containing 1 particles\n",
      "notice(2): Notice: slj set d_max=210.0\n",
      "notice(2): integrate.langevin/bd is using specified gamma values\n"
     ]
    },
    {
     "name": "stderr",
     "output_type": "stream",
     "text": [
      "*Warning*: compute.thermo: given a group with 0 degrees of freedom.\n",
      "            overriding ndof=1 to avoid divide by 0 errors\n"
     ]
    },
    {
     "name": "stdout",
     "output_type": "stream",
     "text": [
      "** starting run **\n",
      "Time 00:00:00 | Step 0 / 0 | TPS 0 | ETA 00:00:00\n",
      "Average TPS: 0\n",
      "---------\n",
      "** run complete **\n",
      "notice(2): Group \"all\" created containing 1 particles\n",
      "notice(2): Notice: slj set d_max=210.0\n",
      "notice(2): integrate.langevin/bd is using specified gamma values\n"
     ]
    },
    {
     "name": "stderr",
     "output_type": "stream",
     "text": [
      "*Warning*: compute.thermo: given a group with 0 degrees of freedom.\n",
      "            overriding ndof=1 to avoid divide by 0 errors\n"
     ]
    },
    {
     "name": "stdout",
     "output_type": "stream",
     "text": [
      "** starting run **\n",
      "Time 00:00:00 | Step 0 / 0 | TPS 0 | ETA 00:00:00\n",
      "Average TPS: 0\n",
      "---------\n",
      "** run complete **\n",
      "notice(2): Group \"all\" created containing 1 particles\n",
      "notice(2): Notice: slj set d_max=210.0\n",
      "notice(2): integrate.langevin/bd is using specified gamma values\n"
     ]
    },
    {
     "name": "stderr",
     "output_type": "stream",
     "text": [
      "*Warning*: compute.thermo: given a group with 0 degrees of freedom.\n",
      "            overriding ndof=1 to avoid divide by 0 errors\n"
     ]
    },
    {
     "name": "stdout",
     "output_type": "stream",
     "text": [
      "** starting run **\n",
      "Time 00:00:00 | Step 0 / 0 | TPS 0 | ETA 00:00:00\n",
      "Average TPS: 0\n",
      "---------\n",
      "** run complete **\n",
      "notice(2): Group \"all\" created containing 1 particles\n",
      "notice(2): Notice: slj set d_max=210.0\n",
      "notice(2): integrate.langevin/bd is using specified gamma values\n"
     ]
    },
    {
     "name": "stderr",
     "output_type": "stream",
     "text": [
      "*Warning*: compute.thermo: given a group with 0 degrees of freedom.\n",
      "            overriding ndof=1 to avoid divide by 0 errors\n"
     ]
    },
    {
     "name": "stdout",
     "output_type": "stream",
     "text": [
      "** starting run **\n",
      "Time 00:00:00 | Step 0 / 0 | TPS 0 | ETA 00:00:00\n",
      "Average TPS: 0\n",
      "---------\n",
      "** run complete **\n",
      "notice(2): Group \"all\" created containing 1 particles\n",
      "notice(2): Notice: slj set d_max=210.0\n",
      "notice(2): integrate.langevin/bd is using specified gamma values\n"
     ]
    },
    {
     "name": "stderr",
     "output_type": "stream",
     "text": [
      "*Warning*: compute.thermo: given a group with 0 degrees of freedom.\n",
      "            overriding ndof=1 to avoid divide by 0 errors\n"
     ]
    },
    {
     "name": "stdout",
     "output_type": "stream",
     "text": [
      "** starting run **\n",
      "Time 00:00:00 | Step 0 / 0 | TPS 0 | ETA 00:00:00\n",
      "Average TPS: 0\n",
      "---------\n",
      "** run complete **\n",
      "notice(2): Group \"all\" created containing 1 particles\n",
      "notice(2): Notice: slj set d_max=210.0\n",
      "notice(2): integrate.langevin/bd is using specified gamma values\n"
     ]
    },
    {
     "name": "stderr",
     "output_type": "stream",
     "text": [
      "*Warning*: compute.thermo: given a group with 0 degrees of freedom.\n",
      "            overriding ndof=1 to avoid divide by 0 errors\n"
     ]
    },
    {
     "name": "stdout",
     "output_type": "stream",
     "text": [
      "** starting run **\n",
      "Time 00:00:00 | Step 0 / 0 | TPS 0 | ETA 00:00:00\n",
      "Average TPS: 0\n",
      "---------\n",
      "** run complete **\n",
      "notice(2): Group \"all\" created containing 1 particles\n",
      "notice(2): Notice: slj set d_max=210.0\n",
      "notice(2): integrate.langevin/bd is using specified gamma values\n"
     ]
    },
    {
     "name": "stderr",
     "output_type": "stream",
     "text": [
      "*Warning*: compute.thermo: given a group with 0 degrees of freedom.\n",
      "            overriding ndof=1 to avoid divide by 0 errors\n"
     ]
    },
    {
     "name": "stdout",
     "output_type": "stream",
     "text": [
      "** starting run **\n",
      "Time 00:00:00 | Step 0 / 0 | TPS 0 | ETA 00:00:00\n",
      "Average TPS: 0\n",
      "---------\n",
      "** run complete **\n",
      "notice(2): Group \"all\" created containing 1 particles\n",
      "notice(2): Notice: slj set d_max=210.0\n",
      "notice(2): integrate.langevin/bd is using specified gamma values\n"
     ]
    },
    {
     "name": "stderr",
     "output_type": "stream",
     "text": [
      "*Warning*: compute.thermo: given a group with 0 degrees of freedom.\n",
      "            overriding ndof=1 to avoid divide by 0 errors\n"
     ]
    },
    {
     "name": "stdout",
     "output_type": "stream",
     "text": [
      "** starting run **\n",
      "Time 00:00:00 | Step 0 / 0 | TPS 0 | ETA 00:00:00\n",
      "Average TPS: 0\n",
      "---------\n",
      "** run complete **\n",
      "notice(2): Group \"all\" created containing 1 particles\n",
      "notice(2): Notice: slj set d_max=210.0\n",
      "notice(2): integrate.langevin/bd is using specified gamma values\n"
     ]
    },
    {
     "name": "stderr",
     "output_type": "stream",
     "text": [
      "*Warning*: compute.thermo: given a group with 0 degrees of freedom.\n",
      "            overriding ndof=1 to avoid divide by 0 errors\n"
     ]
    },
    {
     "name": "stdout",
     "output_type": "stream",
     "text": [
      "** starting run **\n",
      "Time 00:00:00 | Step 0 / 0 | TPS 0 | ETA 00:00:00\n",
      "Average TPS: 0\n",
      "---------\n",
      "** run complete **\n",
      "notice(2): Group \"all\" created containing 1 particles\n",
      "notice(2): Notice: slj set d_max=210.0\n",
      "notice(2): integrate.langevin/bd is using specified gamma values\n"
     ]
    },
    {
     "name": "stderr",
     "output_type": "stream",
     "text": [
      "*Warning*: compute.thermo: given a group with 0 degrees of freedom.\n",
      "            overriding ndof=1 to avoid divide by 0 errors\n"
     ]
    },
    {
     "name": "stdout",
     "output_type": "stream",
     "text": [
      "** starting run **\n",
      "Time 00:00:00 | Step 0 / 0 | TPS 0 | ETA 00:00:00\n",
      "Average TPS: 0\n",
      "---------\n",
      "** run complete **\n",
      "notice(2): Group \"all\" created containing 1 particles\n",
      "notice(2): Notice: slj set d_max=210.0\n",
      "notice(2): integrate.langevin/bd is using specified gamma values\n"
     ]
    },
    {
     "name": "stderr",
     "output_type": "stream",
     "text": [
      "*Warning*: compute.thermo: given a group with 0 degrees of freedom.\n",
      "            overriding ndof=1 to avoid divide by 0 errors\n"
     ]
    },
    {
     "name": "stdout",
     "output_type": "stream",
     "text": [
      "** starting run **\n",
      "Time 00:00:00 | Step 0 / 0 | TPS 0 | ETA 00:00:00\n",
      "Average TPS: 0\n",
      "---------\n",
      "** run complete **\n",
      "notice(2): Group \"all\" created containing 1 particles\n",
      "notice(2): Notice: slj set d_max=210.0\n",
      "notice(2): integrate.langevin/bd is using specified gamma values\n"
     ]
    },
    {
     "name": "stderr",
     "output_type": "stream",
     "text": [
      "*Warning*: compute.thermo: given a group with 0 degrees of freedom.\n",
      "            overriding ndof=1 to avoid divide by 0 errors\n"
     ]
    },
    {
     "name": "stdout",
     "output_type": "stream",
     "text": [
      "** starting run **\n",
      "Time 00:00:00 | Step 0 / 0 | TPS 0 | ETA 00:00:00\n",
      "Average TPS: 0\n",
      "---------\n",
      "** run complete **\n",
      "notice(2): Group \"all\" created containing 1 particles\n",
      "notice(2): Notice: slj set d_max=210.0\n",
      "notice(2): integrate.langevin/bd is using specified gamma values\n"
     ]
    },
    {
     "name": "stderr",
     "output_type": "stream",
     "text": [
      "*Warning*: compute.thermo: given a group with 0 degrees of freedom.\n",
      "            overriding ndof=1 to avoid divide by 0 errors\n"
     ]
    },
    {
     "name": "stdout",
     "output_type": "stream",
     "text": [
      "** starting run **\n",
      "Time 00:00:00 | Step 0 / 0 | TPS 0 | ETA 00:00:00\n",
      "Average TPS: 0\n",
      "---------\n",
      "** run complete **\n",
      "notice(2): Group \"all\" created containing 1 particles\n",
      "notice(2): Notice: slj set d_max=210.0\n",
      "notice(2): integrate.langevin/bd is using specified gamma values\n"
     ]
    },
    {
     "name": "stderr",
     "output_type": "stream",
     "text": [
      "*Warning*: compute.thermo: given a group with 0 degrees of freedom.\n",
      "            overriding ndof=1 to avoid divide by 0 errors\n"
     ]
    },
    {
     "name": "stdout",
     "output_type": "stream",
     "text": [
      "** starting run **\n",
      "Time 00:00:00 | Step 0 / 0 | TPS 0 | ETA 00:00:00\n",
      "Average TPS: 0\n",
      "---------\n",
      "** run complete **\n",
      "notice(2): Group \"all\" created containing 1 particles\n",
      "notice(2): Notice: slj set d_max=210.0\n",
      "notice(2): integrate.langevin/bd is using specified gamma values\n"
     ]
    },
    {
     "name": "stderr",
     "output_type": "stream",
     "text": [
      "*Warning*: compute.thermo: given a group with 0 degrees of freedom.\n",
      "            overriding ndof=1 to avoid divide by 0 errors\n"
     ]
    },
    {
     "name": "stdout",
     "output_type": "stream",
     "text": [
      "** starting run **\n",
      "Time 00:00:00 | Step 0 / 0 | TPS 0 | ETA 00:00:00\n",
      "Average TPS: 0\n",
      "---------\n",
      "** run complete **\n",
      "notice(2): Group \"all\" created containing 1 particles\n",
      "notice(2): Notice: slj set d_max=210.0\n",
      "notice(2): integrate.langevin/bd is using specified gamma values\n"
     ]
    },
    {
     "name": "stderr",
     "output_type": "stream",
     "text": [
      "*Warning*: compute.thermo: given a group with 0 degrees of freedom.\n",
      "            overriding ndof=1 to avoid divide by 0 errors\n"
     ]
    },
    {
     "name": "stdout",
     "output_type": "stream",
     "text": [
      "** starting run **\n",
      "Time 00:00:00 | Step 0 / 0 | TPS 0 | ETA 00:00:00\n",
      "Average TPS: 0\n",
      "---------\n",
      "** run complete **\n",
      "notice(2): Group \"all\" created containing 1 particles\n",
      "notice(2): Notice: slj set d_max=210.0\n",
      "notice(2): integrate.langevin/bd is using specified gamma values\n"
     ]
    },
    {
     "name": "stderr",
     "output_type": "stream",
     "text": [
      "*Warning*: compute.thermo: given a group with 0 degrees of freedom.\n",
      "            overriding ndof=1 to avoid divide by 0 errors\n"
     ]
    },
    {
     "name": "stdout",
     "output_type": "stream",
     "text": [
      "** starting run **\n",
      "Time 00:00:00 | Step 0 / 0 | TPS 0 | ETA 00:00:00\n",
      "Average TPS: 0\n",
      "---------\n",
      "** run complete **\n",
      "notice(2): Group \"all\" created containing 1 particles\n",
      "notice(2): Notice: slj set d_max=210.0\n",
      "notice(2): integrate.langevin/bd is using specified gamma values\n"
     ]
    },
    {
     "name": "stderr",
     "output_type": "stream",
     "text": [
      "*Warning*: compute.thermo: given a group with 0 degrees of freedom.\n",
      "            overriding ndof=1 to avoid divide by 0 errors\n"
     ]
    },
    {
     "name": "stdout",
     "output_type": "stream",
     "text": [
      "** starting run **\n",
      "Time 00:00:00 | Step 0 / 0 | TPS 0 | ETA 00:00:00\n",
      "Average TPS: 0\n",
      "---------\n",
      "** run complete **\n",
      "notice(2): Group \"all\" created containing 1 particles\n",
      "notice(2): Notice: slj set d_max=210.0\n",
      "notice(2): integrate.langevin/bd is using specified gamma values\n"
     ]
    },
    {
     "name": "stderr",
     "output_type": "stream",
     "text": [
      "*Warning*: compute.thermo: given a group with 0 degrees of freedom.\n",
      "            overriding ndof=1 to avoid divide by 0 errors\n"
     ]
    },
    {
     "name": "stdout",
     "output_type": "stream",
     "text": [
      "** starting run **\n",
      "Time 00:00:00 | Step 0 / 0 | TPS 0 | ETA 00:00:00\n",
      "Average TPS: 0\n",
      "---------\n",
      "** run complete **\n",
      "notice(2): Group \"all\" created containing 1 particles\n",
      "notice(2): Notice: slj set d_max=210.0\n",
      "notice(2): integrate.langevin/bd is using specified gamma values\n"
     ]
    },
    {
     "name": "stderr",
     "output_type": "stream",
     "text": [
      "*Warning*: compute.thermo: given a group with 0 degrees of freedom.\n",
      "            overriding ndof=1 to avoid divide by 0 errors\n"
     ]
    },
    {
     "name": "stdout",
     "output_type": "stream",
     "text": [
      "** starting run **\n",
      "Time 00:00:00 | Step 0 / 0 | TPS 0 | ETA 00:00:00\n",
      "Average TPS: 0\n",
      "---------\n",
      "** run complete **\n",
      "notice(2): Group \"all\" created containing 1 particles\n",
      "notice(2): Notice: slj set d_max=210.0\n",
      "notice(2): integrate.langevin/bd is using specified gamma values\n"
     ]
    },
    {
     "name": "stderr",
     "output_type": "stream",
     "text": [
      "*Warning*: compute.thermo: given a group with 0 degrees of freedom.\n",
      "            overriding ndof=1 to avoid divide by 0 errors\n"
     ]
    },
    {
     "name": "stdout",
     "output_type": "stream",
     "text": [
      "** starting run **\n",
      "Time 00:00:00 | Step 0 / 0 | TPS 0 | ETA 00:00:00\n",
      "Average TPS: 0\n",
      "---------\n",
      "** run complete **\n",
      "notice(2): Group \"all\" created containing 1 particles\n",
      "notice(2): Notice: slj set d_max=210.0\n",
      "notice(2): integrate.langevin/bd is using specified gamma values\n"
     ]
    },
    {
     "name": "stderr",
     "output_type": "stream",
     "text": [
      "*Warning*: compute.thermo: given a group with 0 degrees of freedom.\n",
      "            overriding ndof=1 to avoid divide by 0 errors\n"
     ]
    },
    {
     "name": "stdout",
     "output_type": "stream",
     "text": [
      "** starting run **\n",
      "Time 00:00:00 | Step 0 / 0 | TPS 0 | ETA 00:00:00\n",
      "Average TPS: 0\n",
      "---------\n",
      "** run complete **\n",
      "notice(2): Group \"all\" created containing 1 particles\n",
      "notice(2): Notice: slj set d_max=210.0\n",
      "notice(2): integrate.langevin/bd is using specified gamma values\n"
     ]
    },
    {
     "name": "stderr",
     "output_type": "stream",
     "text": [
      "*Warning*: compute.thermo: given a group with 0 degrees of freedom.\n",
      "            overriding ndof=1 to avoid divide by 0 errors\n"
     ]
    },
    {
     "name": "stdout",
     "output_type": "stream",
     "text": [
      "** starting run **\n",
      "Time 00:00:00 | Step 0 / 0 | TPS 0 | ETA 00:00:00\n",
      "Average TPS: 0\n",
      "---------\n",
      "** run complete **\n",
      "notice(2): Group \"all\" created containing 1 particles\n",
      "notice(2): Notice: slj set d_max=210.0\n",
      "notice(2): integrate.langevin/bd is using specified gamma values\n"
     ]
    },
    {
     "name": "stderr",
     "output_type": "stream",
     "text": [
      "*Warning*: compute.thermo: given a group with 0 degrees of freedom.\n",
      "            overriding ndof=1 to avoid divide by 0 errors\n"
     ]
    },
    {
     "name": "stdout",
     "output_type": "stream",
     "text": [
      "** starting run **\n",
      "Time 00:00:00 | Step 0 / 0 | TPS 0 | ETA 00:00:00\n",
      "Average TPS: 0\n",
      "---------\n",
      "** run complete **\n",
      "notice(2): Group \"all\" created containing 1 particles\n",
      "notice(2): Notice: slj set d_max=210.0\n",
      "notice(2): integrate.langevin/bd is using specified gamma values\n"
     ]
    },
    {
     "name": "stderr",
     "output_type": "stream",
     "text": [
      "*Warning*: compute.thermo: given a group with 0 degrees of freedom.\n",
      "            overriding ndof=1 to avoid divide by 0 errors\n"
     ]
    },
    {
     "name": "stdout",
     "output_type": "stream",
     "text": [
      "** starting run **\n",
      "Time 00:00:00 | Step 0 / 0 | TPS 0 | ETA 00:00:00\n",
      "Average TPS: 0\n",
      "---------\n",
      "** run complete **\n",
      "notice(2): Group \"all\" created containing 1 particles\n",
      "notice(2): Notice: slj set d_max=210.0\n",
      "notice(2): integrate.langevin/bd is using specified gamma values\n"
     ]
    },
    {
     "name": "stderr",
     "output_type": "stream",
     "text": [
      "*Warning*: compute.thermo: given a group with 0 degrees of freedom.\n",
      "            overriding ndof=1 to avoid divide by 0 errors\n"
     ]
    },
    {
     "name": "stdout",
     "output_type": "stream",
     "text": [
      "** starting run **\n",
      "Time 00:00:00 | Step 0 / 0 | TPS 0 | ETA 00:00:00\n",
      "Average TPS: 0\n",
      "---------\n",
      "** run complete **\n",
      "notice(2): Group \"all\" created containing 1 particles\n",
      "notice(2): Notice: slj set d_max=210.0\n",
      "notice(2): integrate.langevin/bd is using specified gamma values\n"
     ]
    },
    {
     "name": "stderr",
     "output_type": "stream",
     "text": [
      "*Warning*: compute.thermo: given a group with 0 degrees of freedom.\n",
      "            overriding ndof=1 to avoid divide by 0 errors\n"
     ]
    },
    {
     "name": "stdout",
     "output_type": "stream",
     "text": [
      "** starting run **\n",
      "Time 00:00:00 | Step 0 / 0 | TPS 0 | ETA 00:00:00\n",
      "Average TPS: 0\n",
      "---------\n",
      "** run complete **\n",
      "notice(2): Group \"all\" created containing 1 particles\n",
      "notice(2): Notice: slj set d_max=210.0\n",
      "notice(2): integrate.langevin/bd is using specified gamma values\n"
     ]
    },
    {
     "name": "stderr",
     "output_type": "stream",
     "text": [
      "*Warning*: compute.thermo: given a group with 0 degrees of freedom.\n",
      "            overriding ndof=1 to avoid divide by 0 errors\n"
     ]
    },
    {
     "name": "stdout",
     "output_type": "stream",
     "text": [
      "** starting run **\n",
      "Time 00:00:00 | Step 0 / 0 | TPS 0 | ETA 00:00:00\n",
      "Average TPS: 0\n",
      "---------\n",
      "** run complete **\n",
      "notice(2): Group \"all\" created containing 1 particles\n",
      "notice(2): Notice: slj set d_max=210.0\n",
      "notice(2): integrate.langevin/bd is using specified gamma values\n"
     ]
    },
    {
     "name": "stderr",
     "output_type": "stream",
     "text": [
      "*Warning*: compute.thermo: given a group with 0 degrees of freedom.\n",
      "            overriding ndof=1 to avoid divide by 0 errors\n"
     ]
    },
    {
     "name": "stdout",
     "output_type": "stream",
     "text": [
      "** starting run **\n",
      "Time 00:00:00 | Step 0 / 0 | TPS 0 | ETA 00:00:00\n",
      "Average TPS: 0\n",
      "---------\n",
      "** run complete **\n",
      "notice(2): Group \"all\" created containing 1 particles\n",
      "notice(2): Notice: slj set d_max=210.0\n",
      "notice(2): integrate.langevin/bd is using specified gamma values\n"
     ]
    },
    {
     "name": "stderr",
     "output_type": "stream",
     "text": [
      "*Warning*: compute.thermo: given a group with 0 degrees of freedom.\n",
      "            overriding ndof=1 to avoid divide by 0 errors\n"
     ]
    },
    {
     "name": "stdout",
     "output_type": "stream",
     "text": [
      "** starting run **\n",
      "Time 00:00:00 | Step 0 / 0 | TPS 0 | ETA 00:00:00\n",
      "Average TPS: 0\n",
      "---------\n",
      "** run complete **\n",
      "notice(2): Group \"all\" created containing 1 particles\n",
      "notice(2): Notice: slj set d_max=210.0\n",
      "notice(2): integrate.langevin/bd is using specified gamma values\n"
     ]
    },
    {
     "name": "stderr",
     "output_type": "stream",
     "text": [
      "*Warning*: compute.thermo: given a group with 0 degrees of freedom.\n",
      "            overriding ndof=1 to avoid divide by 0 errors\n"
     ]
    },
    {
     "name": "stdout",
     "output_type": "stream",
     "text": [
      "** starting run **\n",
      "Time 00:00:00 | Step 0 / 0 | TPS 0 | ETA 00:00:00\n",
      "Average TPS: 0\n",
      "---------\n",
      "** run complete **\n",
      "notice(2): Group \"all\" created containing 1 particles\n",
      "notice(2): Notice: slj set d_max=210.0\n",
      "notice(2): integrate.langevin/bd is using specified gamma values\n"
     ]
    },
    {
     "name": "stderr",
     "output_type": "stream",
     "text": [
      "*Warning*: compute.thermo: given a group with 0 degrees of freedom.\n",
      "            overriding ndof=1 to avoid divide by 0 errors\n"
     ]
    },
    {
     "name": "stdout",
     "output_type": "stream",
     "text": [
      "** starting run **\n",
      "Time 00:00:00 | Step 0 / 0 | TPS 0 | ETA 00:00:00\n",
      "Average TPS: 0\n",
      "---------\n",
      "** run complete **\n",
      "notice(2): Group \"all\" created containing 1 particles\n",
      "notice(2): Notice: slj set d_max=210.0\n",
      "notice(2): integrate.langevin/bd is using specified gamma values\n"
     ]
    },
    {
     "name": "stderr",
     "output_type": "stream",
     "text": [
      "*Warning*: compute.thermo: given a group with 0 degrees of freedom.\n",
      "            overriding ndof=1 to avoid divide by 0 errors\n"
     ]
    },
    {
     "name": "stdout",
     "output_type": "stream",
     "text": [
      "** starting run **\n",
      "Time 00:00:00 | Step 0 / 0 | TPS 0 | ETA 00:00:00\n",
      "Average TPS: 0\n",
      "---------\n",
      "** run complete **\n",
      "notice(2): Group \"all\" created containing 1 particles\n",
      "notice(2): Notice: slj set d_max=210.0\n",
      "notice(2): integrate.langevin/bd is using specified gamma values\n"
     ]
    },
    {
     "name": "stderr",
     "output_type": "stream",
     "text": [
      "*Warning*: compute.thermo: given a group with 0 degrees of freedom.\n",
      "            overriding ndof=1 to avoid divide by 0 errors\n"
     ]
    },
    {
     "name": "stdout",
     "output_type": "stream",
     "text": [
      "** starting run **\n",
      "Time 00:00:00 | Step 0 / 0 | TPS 0 | ETA 00:00:00\n",
      "Average TPS: 0\n",
      "---------\n",
      "** run complete **\n",
      "notice(2): Group \"all\" created containing 1 particles\n",
      "notice(2): Notice: slj set d_max=210.0\n",
      "notice(2): integrate.langevin/bd is using specified gamma values\n"
     ]
    },
    {
     "name": "stderr",
     "output_type": "stream",
     "text": [
      "*Warning*: compute.thermo: given a group with 0 degrees of freedom.\n",
      "            overriding ndof=1 to avoid divide by 0 errors\n"
     ]
    },
    {
     "name": "stdout",
     "output_type": "stream",
     "text": [
      "** starting run **\n",
      "Time 00:00:00 | Step 0 / 0 | TPS 0 | ETA 00:00:00\n",
      "Average TPS: 0\n",
      "---------\n",
      "** run complete **\n",
      "notice(2): Group \"all\" created containing 1 particles\n",
      "notice(2): Notice: slj set d_max=210.0\n",
      "notice(2): integrate.langevin/bd is using specified gamma values\n"
     ]
    },
    {
     "name": "stderr",
     "output_type": "stream",
     "text": [
      "*Warning*: compute.thermo: given a group with 0 degrees of freedom.\n",
      "            overriding ndof=1 to avoid divide by 0 errors\n"
     ]
    },
    {
     "name": "stdout",
     "output_type": "stream",
     "text": [
      "** starting run **\n",
      "Time 00:00:00 | Step 0 / 0 | TPS 0 | ETA 00:00:00\n",
      "Average TPS: 0\n",
      "---------\n",
      "** run complete **\n",
      "notice(2): Group \"all\" created containing 1 particles\n",
      "notice(2): Notice: slj set d_max=210.0\n",
      "notice(2): integrate.langevin/bd is using specified gamma values\n"
     ]
    },
    {
     "name": "stderr",
     "output_type": "stream",
     "text": [
      "*Warning*: compute.thermo: given a group with 0 degrees of freedom.\n",
      "            overriding ndof=1 to avoid divide by 0 errors\n"
     ]
    },
    {
     "name": "stdout",
     "output_type": "stream",
     "text": [
      "** starting run **\n",
      "Time 00:00:00 | Step 0 / 0 | TPS 0 | ETA 00:00:00\n",
      "Average TPS: 0\n",
      "---------\n",
      "** run complete **\n",
      "notice(2): Group \"all\" created containing 1 particles\n",
      "notice(2): Notice: slj set d_max=210.0\n",
      "notice(2): integrate.langevin/bd is using specified gamma values\n"
     ]
    },
    {
     "name": "stderr",
     "output_type": "stream",
     "text": [
      "*Warning*: compute.thermo: given a group with 0 degrees of freedom.\n",
      "            overriding ndof=1 to avoid divide by 0 errors\n"
     ]
    },
    {
     "name": "stdout",
     "output_type": "stream",
     "text": [
      "** starting run **\n",
      "Time 00:00:00 | Step 0 / 0 | TPS 0 | ETA 00:00:00\n",
      "Average TPS: 0\n",
      "---------\n",
      "** run complete **\n",
      "notice(2): Group \"all\" created containing 1 particles\n",
      "notice(2): Notice: slj set d_max=210.0\n",
      "notice(2): integrate.langevin/bd is using specified gamma values\n"
     ]
    },
    {
     "name": "stderr",
     "output_type": "stream",
     "text": [
      "*Warning*: compute.thermo: given a group with 0 degrees of freedom.\n",
      "            overriding ndof=1 to avoid divide by 0 errors\n"
     ]
    },
    {
     "name": "stdout",
     "output_type": "stream",
     "text": [
      "** starting run **\n",
      "Time 00:00:00 | Step 0 / 0 | TPS 0 | ETA 00:00:00\n",
      "Average TPS: 0\n",
      "---------\n",
      "** run complete **\n",
      "notice(2): Group \"all\" created containing 1 particles\n",
      "notice(2): Notice: slj set d_max=210.0\n",
      "notice(2): integrate.langevin/bd is using specified gamma values\n"
     ]
    },
    {
     "name": "stderr",
     "output_type": "stream",
     "text": [
      "*Warning*: compute.thermo: given a group with 0 degrees of freedom.\n",
      "            overriding ndof=1 to avoid divide by 0 errors\n"
     ]
    },
    {
     "name": "stdout",
     "output_type": "stream",
     "text": [
      "** starting run **\n",
      "Time 00:00:00 | Step 0 / 0 | TPS 0 | ETA 00:00:00\n",
      "Average TPS: 0\n",
      "---------\n",
      "** run complete **\n",
      "notice(2): Group \"all\" created containing 1 particles\n",
      "notice(2): Notice: slj set d_max=210.0\n",
      "notice(2): integrate.langevin/bd is using specified gamma values\n"
     ]
    },
    {
     "name": "stderr",
     "output_type": "stream",
     "text": [
      "*Warning*: compute.thermo: given a group with 0 degrees of freedom.\n",
      "            overriding ndof=1 to avoid divide by 0 errors\n"
     ]
    },
    {
     "name": "stdout",
     "output_type": "stream",
     "text": [
      "** starting run **\n",
      "Time 00:00:00 | Step 0 / 0 | TPS 0 | ETA 00:00:00\n",
      "Average TPS: 0\n",
      "---------\n",
      "** run complete **\n",
      "notice(2): Group \"all\" created containing 1 particles\n",
      "notice(2): Notice: slj set d_max=210.0\n",
      "notice(2): integrate.langevin/bd is using specified gamma values\n"
     ]
    },
    {
     "name": "stderr",
     "output_type": "stream",
     "text": [
      "*Warning*: compute.thermo: given a group with 0 degrees of freedom.\n",
      "            overriding ndof=1 to avoid divide by 0 errors\n"
     ]
    },
    {
     "name": "stdout",
     "output_type": "stream",
     "text": [
      "** starting run **\n",
      "Time 00:00:00 | Step 0 / 0 | TPS 0 | ETA 00:00:00\n",
      "Average TPS: 0\n",
      "---------\n",
      "** run complete **\n",
      "notice(2): Group \"all\" created containing 1 particles\n",
      "notice(2): Notice: slj set d_max=210.0\n",
      "notice(2): integrate.langevin/bd is using specified gamma values\n"
     ]
    },
    {
     "name": "stderr",
     "output_type": "stream",
     "text": [
      "*Warning*: compute.thermo: given a group with 0 degrees of freedom.\n",
      "            overriding ndof=1 to avoid divide by 0 errors\n"
     ]
    },
    {
     "name": "stdout",
     "output_type": "stream",
     "text": [
      "** starting run **\n",
      "Time 00:00:00 | Step 0 / 0 | TPS 0 | ETA 00:00:00\n",
      "Average TPS: 0\n",
      "---------\n",
      "** run complete **\n",
      "notice(2): Group \"all\" created containing 1 particles\n",
      "notice(2): Notice: slj set d_max=210.0\n",
      "notice(2): integrate.langevin/bd is using specified gamma values\n"
     ]
    },
    {
     "name": "stderr",
     "output_type": "stream",
     "text": [
      "*Warning*: compute.thermo: given a group with 0 degrees of freedom.\n",
      "            overriding ndof=1 to avoid divide by 0 errors\n"
     ]
    },
    {
     "name": "stdout",
     "output_type": "stream",
     "text": [
      "** starting run **\n",
      "Time 00:00:00 | Step 0 / 0 | TPS 0 | ETA 00:00:00\n",
      "Average TPS: 0\n",
      "---------\n",
      "** run complete **\n",
      "notice(2): Group \"all\" created containing 1 particles\n",
      "notice(2): Notice: slj set d_max=210.0\n",
      "notice(2): integrate.langevin/bd is using specified gamma values\n"
     ]
    },
    {
     "name": "stderr",
     "output_type": "stream",
     "text": [
      "*Warning*: compute.thermo: given a group with 0 degrees of freedom.\n",
      "            overriding ndof=1 to avoid divide by 0 errors\n"
     ]
    },
    {
     "name": "stdout",
     "output_type": "stream",
     "text": [
      "** starting run **\n",
      "Time 00:00:00 | Step 0 / 0 | TPS 0 | ETA 00:00:00\n",
      "Average TPS: 0\n",
      "---------\n",
      "** run complete **\n",
      "notice(2): Group \"all\" created containing 1 particles\n",
      "notice(2): Notice: slj set d_max=210.0\n",
      "notice(2): integrate.langevin/bd is using specified gamma values\n"
     ]
    },
    {
     "name": "stderr",
     "output_type": "stream",
     "text": [
      "*Warning*: compute.thermo: given a group with 0 degrees of freedom.\n",
      "            overriding ndof=1 to avoid divide by 0 errors\n"
     ]
    },
    {
     "name": "stdout",
     "output_type": "stream",
     "text": [
      "** starting run **\n",
      "Time 00:00:00 | Step 0 / 0 | TPS 0 | ETA 00:00:00\n",
      "Average TPS: 0\n",
      "---------\n",
      "** run complete **\n",
      "notice(2): Group \"all\" created containing 1 particles\n",
      "notice(2): Notice: slj set d_max=210.0\n",
      "notice(2): integrate.langevin/bd is using specified gamma values\n"
     ]
    },
    {
     "name": "stderr",
     "output_type": "stream",
     "text": [
      "*Warning*: compute.thermo: given a group with 0 degrees of freedom.\n",
      "            overriding ndof=1 to avoid divide by 0 errors\n"
     ]
    },
    {
     "name": "stdout",
     "output_type": "stream",
     "text": [
      "** starting run **\n",
      "Time 00:00:00 | Step 0 / 0 | TPS 0 | ETA 00:00:00\n",
      "Average TPS: 0\n",
      "---------\n",
      "** run complete **\n",
      "notice(2): Group \"all\" created containing 1 particles\n",
      "notice(2): Notice: slj set d_max=210.0\n",
      "notice(2): integrate.langevin/bd is using specified gamma values\n"
     ]
    },
    {
     "name": "stderr",
     "output_type": "stream",
     "text": [
      "*Warning*: compute.thermo: given a group with 0 degrees of freedom.\n",
      "            overriding ndof=1 to avoid divide by 0 errors\n"
     ]
    },
    {
     "name": "stdout",
     "output_type": "stream",
     "text": [
      "** starting run **\n",
      "Time 00:00:00 | Step 0 / 0 | TPS 0 | ETA 00:00:00\n",
      "Average TPS: 0\n",
      "---------\n",
      "** run complete **\n",
      "notice(2): Group \"all\" created containing 1 particles\n",
      "notice(2): Notice: slj set d_max=210.0\n",
      "notice(2): integrate.langevin/bd is using specified gamma values\n"
     ]
    },
    {
     "name": "stderr",
     "output_type": "stream",
     "text": [
      "*Warning*: compute.thermo: given a group with 0 degrees of freedom.\n",
      "            overriding ndof=1 to avoid divide by 0 errors\n"
     ]
    },
    {
     "name": "stdout",
     "output_type": "stream",
     "text": [
      "** starting run **\n",
      "Time 00:00:00 | Step 0 / 0 | TPS 0 | ETA 00:00:00\n",
      "Average TPS: 0\n",
      "---------\n",
      "** run complete **\n",
      "notice(2): Group \"all\" created containing 1 particles\n",
      "notice(2): Notice: slj set d_max=210.0\n",
      "notice(2): integrate.langevin/bd is using specified gamma values\n"
     ]
    },
    {
     "name": "stderr",
     "output_type": "stream",
     "text": [
      "*Warning*: compute.thermo: given a group with 0 degrees of freedom.\n",
      "            overriding ndof=1 to avoid divide by 0 errors\n"
     ]
    },
    {
     "name": "stdout",
     "output_type": "stream",
     "text": [
      "** starting run **\n",
      "Time 00:00:00 | Step 0 / 0 | TPS 0 | ETA 00:00:00\n",
      "Average TPS: 0\n",
      "---------\n",
      "** run complete **\n",
      "notice(2): Group \"all\" created containing 1 particles\n",
      "notice(2): Notice: slj set d_max=210.0\n",
      "notice(2): integrate.langevin/bd is using specified gamma values\n"
     ]
    },
    {
     "name": "stderr",
     "output_type": "stream",
     "text": [
      "*Warning*: compute.thermo: given a group with 0 degrees of freedom.\n",
      "            overriding ndof=1 to avoid divide by 0 errors\n"
     ]
    },
    {
     "name": "stdout",
     "output_type": "stream",
     "text": [
      "** starting run **\n",
      "Time 00:00:00 | Step 0 / 0 | TPS 0 | ETA 00:00:00\n",
      "Average TPS: 0\n",
      "---------\n",
      "** run complete **\n",
      "notice(2): Group \"all\" created containing 1 particles\n",
      "notice(2): Notice: slj set d_max=210.0\n",
      "notice(2): integrate.langevin/bd is using specified gamma values\n"
     ]
    },
    {
     "name": "stderr",
     "output_type": "stream",
     "text": [
      "*Warning*: compute.thermo: given a group with 0 degrees of freedom.\n",
      "            overriding ndof=1 to avoid divide by 0 errors\n"
     ]
    },
    {
     "name": "stdout",
     "output_type": "stream",
     "text": [
      "** starting run **\n",
      "Time 00:00:00 | Step 0 / 0 | TPS 0 | ETA 00:00:00\n",
      "Average TPS: 0\n",
      "---------\n",
      "** run complete **\n",
      "notice(2): Group \"all\" created containing 1 particles\n",
      "notice(2): Notice: slj set d_max=210.0\n",
      "notice(2): integrate.langevin/bd is using specified gamma values\n"
     ]
    },
    {
     "name": "stderr",
     "output_type": "stream",
     "text": [
      "*Warning*: compute.thermo: given a group with 0 degrees of freedom.\n",
      "            overriding ndof=1 to avoid divide by 0 errors\n"
     ]
    },
    {
     "name": "stdout",
     "output_type": "stream",
     "text": [
      "** starting run **\n",
      "Time 00:00:00 | Step 0 / 0 | TPS 0 | ETA 00:00:00\n",
      "Average TPS: 0\n",
      "---------\n",
      "** run complete **\n",
      "notice(2): Group \"all\" created containing 1 particles\n",
      "notice(2): Notice: slj set d_max=210.0\n",
      "notice(2): integrate.langevin/bd is using specified gamma values\n"
     ]
    },
    {
     "name": "stderr",
     "output_type": "stream",
     "text": [
      "*Warning*: compute.thermo: given a group with 0 degrees of freedom.\n",
      "            overriding ndof=1 to avoid divide by 0 errors\n"
     ]
    },
    {
     "name": "stdout",
     "output_type": "stream",
     "text": [
      "** starting run **\n",
      "Time 00:00:00 | Step 0 / 0 | TPS 0 | ETA 00:00:00\n",
      "Average TPS: 0\n",
      "---------\n",
      "** run complete **\n",
      "notice(2): Group \"all\" created containing 1 particles\n",
      "notice(2): Notice: slj set d_max=210.0\n",
      "notice(2): integrate.langevin/bd is using specified gamma values\n"
     ]
    },
    {
     "name": "stderr",
     "output_type": "stream",
     "text": [
      "*Warning*: compute.thermo: given a group with 0 degrees of freedom.\n",
      "            overriding ndof=1 to avoid divide by 0 errors\n"
     ]
    },
    {
     "name": "stdout",
     "output_type": "stream",
     "text": [
      "** starting run **\n",
      "Time 00:00:00 | Step 0 / 0 | TPS 0 | ETA 00:00:00\n",
      "Average TPS: 0\n",
      "---------\n",
      "** run complete **\n",
      "notice(2): Group \"all\" created containing 1 particles\n",
      "notice(2): Notice: slj set d_max=210.0\n",
      "notice(2): integrate.langevin/bd is using specified gamma values\n"
     ]
    },
    {
     "name": "stderr",
     "output_type": "stream",
     "text": [
      "*Warning*: compute.thermo: given a group with 0 degrees of freedom.\n",
      "            overriding ndof=1 to avoid divide by 0 errors\n"
     ]
    },
    {
     "name": "stdout",
     "output_type": "stream",
     "text": [
      "** starting run **\n",
      "Time 00:00:00 | Step 0 / 0 | TPS 0 | ETA 00:00:00\n",
      "Average TPS: 0\n",
      "---------\n",
      "** run complete **\n",
      "notice(2): Group \"all\" created containing 1 particles\n",
      "notice(2): Notice: slj set d_max=210.0\n",
      "notice(2): integrate.langevin/bd is using specified gamma values\n"
     ]
    },
    {
     "name": "stderr",
     "output_type": "stream",
     "text": [
      "*Warning*: compute.thermo: given a group with 0 degrees of freedom.\n",
      "            overriding ndof=1 to avoid divide by 0 errors\n"
     ]
    },
    {
     "name": "stdout",
     "output_type": "stream",
     "text": [
      "** starting run **\n",
      "Time 00:00:00 | Step 0 / 0 | TPS 0 | ETA 00:00:00\n",
      "Average TPS: 0\n",
      "---------\n",
      "** run complete **\n",
      "notice(2): Group \"all\" created containing 1 particles\n",
      "notice(2): Notice: slj set d_max=210.0\n",
      "notice(2): integrate.langevin/bd is using specified gamma values\n"
     ]
    },
    {
     "name": "stderr",
     "output_type": "stream",
     "text": [
      "*Warning*: compute.thermo: given a group with 0 degrees of freedom.\n",
      "            overriding ndof=1 to avoid divide by 0 errors\n"
     ]
    },
    {
     "name": "stdout",
     "output_type": "stream",
     "text": [
      "** starting run **\n",
      "Time 00:00:00 | Step 0 / 0 | TPS 0 | ETA 00:00:00\n",
      "Average TPS: 0\n",
      "---------\n",
      "** run complete **\n",
      "notice(2): Group \"all\" created containing 1 particles\n",
      "notice(2): Notice: slj set d_max=210.0\n",
      "notice(2): integrate.langevin/bd is using specified gamma values\n"
     ]
    },
    {
     "name": "stderr",
     "output_type": "stream",
     "text": [
      "*Warning*: compute.thermo: given a group with 0 degrees of freedom.\n",
      "            overriding ndof=1 to avoid divide by 0 errors\n"
     ]
    },
    {
     "name": "stdout",
     "output_type": "stream",
     "text": [
      "** starting run **\n",
      "Time 00:00:00 | Step 0 / 0 | TPS 0 | ETA 00:00:00\n",
      "Average TPS: 0\n",
      "---------\n",
      "** run complete **\n",
      "notice(2): Group \"all\" created containing 1 particles\n",
      "notice(2): Notice: slj set d_max=210.0\n",
      "notice(2): integrate.langevin/bd is using specified gamma values\n"
     ]
    },
    {
     "name": "stderr",
     "output_type": "stream",
     "text": [
      "*Warning*: compute.thermo: given a group with 0 degrees of freedom.\n",
      "            overriding ndof=1 to avoid divide by 0 errors\n"
     ]
    },
    {
     "name": "stdout",
     "output_type": "stream",
     "text": [
      "** starting run **\n",
      "Time 00:00:00 | Step 0 / 0 | TPS 0 | ETA 00:00:00\n",
      "Average TPS: 0\n",
      "---------\n",
      "** run complete **\n",
      "notice(2): Group \"all\" created containing 1 particles\n",
      "notice(2): Notice: slj set d_max=210.0\n",
      "notice(2): integrate.langevin/bd is using specified gamma values\n"
     ]
    },
    {
     "name": "stderr",
     "output_type": "stream",
     "text": [
      "*Warning*: compute.thermo: given a group with 0 degrees of freedom.\n",
      "            overriding ndof=1 to avoid divide by 0 errors\n"
     ]
    },
    {
     "name": "stdout",
     "output_type": "stream",
     "text": [
      "** starting run **\n",
      "Time 00:00:00 | Step 0 / 0 | TPS 0 | ETA 00:00:00\n",
      "Average TPS: 0\n",
      "---------\n",
      "** run complete **\n",
      "notice(2): Group \"all\" created containing 1 particles\n",
      "notice(2): Notice: slj set d_max=210.0\n",
      "notice(2): integrate.langevin/bd is using specified gamma values\n"
     ]
    },
    {
     "name": "stderr",
     "output_type": "stream",
     "text": [
      "*Warning*: compute.thermo: given a group with 0 degrees of freedom.\n",
      "            overriding ndof=1 to avoid divide by 0 errors\n"
     ]
    },
    {
     "name": "stdout",
     "output_type": "stream",
     "text": [
      "** starting run **\n",
      "Time 00:00:00 | Step 0 / 0 | TPS 0 | ETA 00:00:00\n",
      "Average TPS: 0\n",
      "---------\n",
      "** run complete **\n",
      "notice(2): Group \"all\" created containing 1 particles\n",
      "notice(2): Notice: slj set d_max=210.0\n",
      "notice(2): integrate.langevin/bd is using specified gamma values\n"
     ]
    },
    {
     "name": "stderr",
     "output_type": "stream",
     "text": [
      "*Warning*: compute.thermo: given a group with 0 degrees of freedom.\n",
      "            overriding ndof=1 to avoid divide by 0 errors\n"
     ]
    },
    {
     "name": "stdout",
     "output_type": "stream",
     "text": [
      "** starting run **\n",
      "Time 00:00:00 | Step 0 / 0 | TPS 0 | ETA 00:00:00\n",
      "Average TPS: 0\n",
      "---------\n",
      "** run complete **\n",
      "notice(2): Group \"all\" created containing 1 particles\n",
      "notice(2): Notice: slj set d_max=210.0\n",
      "notice(2): integrate.langevin/bd is using specified gamma values\n"
     ]
    },
    {
     "name": "stderr",
     "output_type": "stream",
     "text": [
      "*Warning*: compute.thermo: given a group with 0 degrees of freedom.\n",
      "            overriding ndof=1 to avoid divide by 0 errors\n"
     ]
    },
    {
     "name": "stdout",
     "output_type": "stream",
     "text": [
      "** starting run **\n",
      "Time 00:00:00 | Step 0 / 0 | TPS 0 | ETA 00:00:00\n",
      "Average TPS: 0\n",
      "---------\n",
      "** run complete **\n",
      "notice(2): Group \"all\" created containing 1 particles\n",
      "notice(2): Notice: slj set d_max=210.0\n",
      "notice(2): integrate.langevin/bd is using specified gamma values\n"
     ]
    },
    {
     "name": "stderr",
     "output_type": "stream",
     "text": [
      "*Warning*: compute.thermo: given a group with 0 degrees of freedom.\n",
      "            overriding ndof=1 to avoid divide by 0 errors\n"
     ]
    },
    {
     "name": "stdout",
     "output_type": "stream",
     "text": [
      "** starting run **\n",
      "Time 00:00:00 | Step 0 / 0 | TPS 0 | ETA 00:00:00\n",
      "Average TPS: 0\n",
      "---------\n",
      "** run complete **\n",
      "notice(2): Group \"all\" created containing 1 particles\n",
      "notice(2): Notice: slj set d_max=210.0\n",
      "notice(2): integrate.langevin/bd is using specified gamma values\n"
     ]
    },
    {
     "name": "stderr",
     "output_type": "stream",
     "text": [
      "*Warning*: compute.thermo: given a group with 0 degrees of freedom.\n",
      "            overriding ndof=1 to avoid divide by 0 errors\n"
     ]
    },
    {
     "name": "stdout",
     "output_type": "stream",
     "text": [
      "** starting run **\n",
      "Time 00:00:00 | Step 0 / 0 | TPS 0 | ETA 00:00:00\n",
      "Average TPS: 0\n",
      "---------\n",
      "** run complete **\n",
      "notice(2): Group \"all\" created containing 1 particles\n",
      "notice(2): Notice: slj set d_max=210.0\n",
      "notice(2): integrate.langevin/bd is using specified gamma values\n"
     ]
    },
    {
     "name": "stderr",
     "output_type": "stream",
     "text": [
      "*Warning*: compute.thermo: given a group with 0 degrees of freedom.\n",
      "            overriding ndof=1 to avoid divide by 0 errors\n"
     ]
    },
    {
     "name": "stdout",
     "output_type": "stream",
     "text": [
      "** starting run **\n",
      "Time 00:00:00 | Step 0 / 0 | TPS 0 | ETA 00:00:00\n",
      "Average TPS: 0\n",
      "---------\n",
      "** run complete **\n",
      "notice(2): Group \"all\" created containing 1 particles\n",
      "notice(2): Notice: slj set d_max=210.0\n",
      "notice(2): integrate.langevin/bd is using specified gamma values\n"
     ]
    },
    {
     "name": "stderr",
     "output_type": "stream",
     "text": [
      "*Warning*: compute.thermo: given a group with 0 degrees of freedom.\n",
      "            overriding ndof=1 to avoid divide by 0 errors\n"
     ]
    },
    {
     "name": "stdout",
     "output_type": "stream",
     "text": [
      "** starting run **\n",
      "Time 00:00:00 | Step 0 / 0 | TPS 0 | ETA 00:00:00\n",
      "Average TPS: 0\n",
      "---------\n",
      "** run complete **\n",
      "notice(2): Group \"all\" created containing 1 particles\n",
      "notice(2): Notice: slj set d_max=210.0\n",
      "notice(2): integrate.langevin/bd is using specified gamma values\n"
     ]
    },
    {
     "name": "stderr",
     "output_type": "stream",
     "text": [
      "*Warning*: compute.thermo: given a group with 0 degrees of freedom.\n",
      "            overriding ndof=1 to avoid divide by 0 errors\n"
     ]
    },
    {
     "name": "stdout",
     "output_type": "stream",
     "text": [
      "** starting run **\n",
      "Time 00:00:00 | Step 0 / 0 | TPS 0 | ETA 00:00:00\n",
      "Average TPS: 0\n",
      "---------\n",
      "** run complete **\n",
      "notice(2): Group \"all\" created containing 1 particles\n",
      "notice(2): Notice: slj set d_max=210.0\n",
      "notice(2): integrate.langevin/bd is using specified gamma values\n"
     ]
    },
    {
     "name": "stderr",
     "output_type": "stream",
     "text": [
      "*Warning*: compute.thermo: given a group with 0 degrees of freedom.\n",
      "            overriding ndof=1 to avoid divide by 0 errors\n"
     ]
    },
    {
     "name": "stdout",
     "output_type": "stream",
     "text": [
      "** starting run **\n",
      "Time 00:00:00 | Step 0 / 0 | TPS 0 | ETA 00:00:00\n",
      "Average TPS: 0\n",
      "---------\n",
      "** run complete **\n",
      "notice(2): Group \"all\" created containing 1 particles\n",
      "notice(2): Notice: slj set d_max=210.0\n",
      "notice(2): integrate.langevin/bd is using specified gamma values\n"
     ]
    },
    {
     "name": "stderr",
     "output_type": "stream",
     "text": [
      "*Warning*: compute.thermo: given a group with 0 degrees of freedom.\n",
      "            overriding ndof=1 to avoid divide by 0 errors\n"
     ]
    },
    {
     "name": "stdout",
     "output_type": "stream",
     "text": [
      "** starting run **\n",
      "Time 00:00:00 | Step 0 / 0 | TPS 0 | ETA 00:00:00\n",
      "Average TPS: 0\n",
      "---------\n",
      "** run complete **\n",
      "notice(2): Group \"all\" created containing 1 particles\n",
      "notice(2): Notice: slj set d_max=210.0\n",
      "notice(2): integrate.langevin/bd is using specified gamma values\n"
     ]
    },
    {
     "name": "stderr",
     "output_type": "stream",
     "text": [
      "*Warning*: compute.thermo: given a group with 0 degrees of freedom.\n",
      "            overriding ndof=1 to avoid divide by 0 errors\n"
     ]
    },
    {
     "name": "stdout",
     "output_type": "stream",
     "text": [
      "** starting run **\n",
      "Time 00:00:00 | Step 0 / 0 | TPS 0 | ETA 00:00:00\n",
      "Average TPS: 0\n",
      "---------\n",
      "** run complete **\n",
      "notice(2): Group \"all\" created containing 1 particles\n",
      "notice(2): Notice: slj set d_max=210.0\n",
      "notice(2): integrate.langevin/bd is using specified gamma values\n"
     ]
    },
    {
     "name": "stderr",
     "output_type": "stream",
     "text": [
      "*Warning*: compute.thermo: given a group with 0 degrees of freedom.\n",
      "            overriding ndof=1 to avoid divide by 0 errors\n"
     ]
    },
    {
     "name": "stdout",
     "output_type": "stream",
     "text": [
      "** starting run **\n",
      "Time 00:00:00 | Step 0 / 0 | TPS 0 | ETA 00:00:00\n",
      "Average TPS: 0\n",
      "---------\n",
      "** run complete **\n",
      "notice(2): Group \"all\" created containing 1 particles\n",
      "notice(2): Notice: slj set d_max=210.0\n",
      "notice(2): integrate.langevin/bd is using specified gamma values\n"
     ]
    },
    {
     "name": "stderr",
     "output_type": "stream",
     "text": [
      "*Warning*: compute.thermo: given a group with 0 degrees of freedom.\n",
      "            overriding ndof=1 to avoid divide by 0 errors\n"
     ]
    },
    {
     "name": "stdout",
     "output_type": "stream",
     "text": [
      "** starting run **\n",
      "Time 00:00:00 | Step 0 / 0 | TPS 0 | ETA 00:00:00\n",
      "Average TPS: 0\n",
      "---------\n",
      "** run complete **\n",
      "notice(2): Group \"all\" created containing 1 particles\n",
      "notice(2): Notice: slj set d_max=210.0\n",
      "notice(2): integrate.langevin/bd is using specified gamma values\n"
     ]
    },
    {
     "name": "stderr",
     "output_type": "stream",
     "text": [
      "*Warning*: compute.thermo: given a group with 0 degrees of freedom.\n",
      "            overriding ndof=1 to avoid divide by 0 errors\n"
     ]
    },
    {
     "name": "stdout",
     "output_type": "stream",
     "text": [
      "** starting run **\n",
      "Time 00:00:00 | Step 0 / 0 | TPS 0 | ETA 00:00:00\n",
      "Average TPS: 0\n",
      "---------\n",
      "** run complete **\n",
      "notice(2): Group \"all\" created containing 1 particles\n",
      "notice(2): Notice: slj set d_max=210.0\n",
      "notice(2): integrate.langevin/bd is using specified gamma values\n"
     ]
    },
    {
     "name": "stderr",
     "output_type": "stream",
     "text": [
      "*Warning*: compute.thermo: given a group with 0 degrees of freedom.\n",
      "            overriding ndof=1 to avoid divide by 0 errors\n"
     ]
    },
    {
     "name": "stdout",
     "output_type": "stream",
     "text": [
      "** starting run **\n",
      "Time 00:00:00 | Step 0 / 0 | TPS 0 | ETA 00:00:00\n",
      "Average TPS: 0\n",
      "---------\n",
      "** run complete **\n",
      "notice(2): Group \"all\" created containing 1 particles\n",
      "notice(2): Notice: slj set d_max=210.0\n",
      "notice(2): integrate.langevin/bd is using specified gamma values\n"
     ]
    },
    {
     "name": "stderr",
     "output_type": "stream",
     "text": [
      "*Warning*: compute.thermo: given a group with 0 degrees of freedom.\n",
      "            overriding ndof=1 to avoid divide by 0 errors\n"
     ]
    },
    {
     "name": "stdout",
     "output_type": "stream",
     "text": [
      "** starting run **\n",
      "Time 00:00:00 | Step 0 / 0 | TPS 0 | ETA 00:00:00\n",
      "Average TPS: 0\n",
      "---------\n",
      "** run complete **\n",
      "notice(2): Group \"all\" created containing 1 particles\n",
      "notice(2): Notice: slj set d_max=210.0\n",
      "notice(2): integrate.langevin/bd is using specified gamma values\n"
     ]
    },
    {
     "name": "stderr",
     "output_type": "stream",
     "text": [
      "*Warning*: compute.thermo: given a group with 0 degrees of freedom.\n",
      "            overriding ndof=1 to avoid divide by 0 errors\n"
     ]
    },
    {
     "name": "stdout",
     "output_type": "stream",
     "text": [
      "** starting run **\n",
      "Time 00:00:00 | Step 0 / 0 | TPS 0 | ETA 00:00:00\n",
      "Average TPS: 0\n",
      "---------\n",
      "** run complete **\n",
      "notice(2): Group \"all\" created containing 1 particles\n",
      "notice(2): Notice: slj set d_max=210.0\n",
      "notice(2): integrate.langevin/bd is using specified gamma values\n"
     ]
    },
    {
     "name": "stderr",
     "output_type": "stream",
     "text": [
      "*Warning*: compute.thermo: given a group with 0 degrees of freedom.\n",
      "            overriding ndof=1 to avoid divide by 0 errors\n"
     ]
    },
    {
     "name": "stdout",
     "output_type": "stream",
     "text": [
      "** starting run **\n",
      "Time 00:00:00 | Step 0 / 0 | TPS 0 | ETA 00:00:00\n",
      "Average TPS: 0\n",
      "---------\n",
      "** run complete **\n",
      "notice(2): Group \"all\" created containing 1 particles\n",
      "notice(2): Notice: slj set d_max=210.0\n",
      "notice(2): integrate.langevin/bd is using specified gamma values\n"
     ]
    },
    {
     "name": "stderr",
     "output_type": "stream",
     "text": [
      "*Warning*: compute.thermo: given a group with 0 degrees of freedom.\n",
      "            overriding ndof=1 to avoid divide by 0 errors\n"
     ]
    },
    {
     "name": "stdout",
     "output_type": "stream",
     "text": [
      "** starting run **\n",
      "Time 00:00:00 | Step 0 / 0 | TPS 0 | ETA 00:00:00\n",
      "Average TPS: 0\n",
      "---------\n",
      "** run complete **\n",
      "notice(2): Group \"all\" created containing 1 particles\n",
      "notice(2): Notice: slj set d_max=210.0\n",
      "notice(2): integrate.langevin/bd is using specified gamma values\n"
     ]
    },
    {
     "name": "stderr",
     "output_type": "stream",
     "text": [
      "*Warning*: compute.thermo: given a group with 0 degrees of freedom.\n",
      "            overriding ndof=1 to avoid divide by 0 errors\n"
     ]
    },
    {
     "name": "stdout",
     "output_type": "stream",
     "text": [
      "** starting run **\n",
      "Time 00:00:00 | Step 0 / 0 | TPS 0 | ETA 00:00:00\n",
      "Average TPS: 0\n",
      "---------\n",
      "** run complete **\n",
      "notice(2): Group \"all\" created containing 1 particles\n",
      "notice(2): Notice: slj set d_max=210.0\n",
      "notice(2): integrate.langevin/bd is using specified gamma values\n"
     ]
    },
    {
     "name": "stderr",
     "output_type": "stream",
     "text": [
      "*Warning*: compute.thermo: given a group with 0 degrees of freedom.\n",
      "            overriding ndof=1 to avoid divide by 0 errors\n"
     ]
    },
    {
     "name": "stdout",
     "output_type": "stream",
     "text": [
      "** starting run **\n",
      "Time 00:00:00 | Step 0 / 0 | TPS 0 | ETA 00:00:00\n",
      "Average TPS: 0\n",
      "---------\n",
      "** run complete **\n",
      "notice(2): Group \"all\" created containing 1 particles\n",
      "notice(2): Notice: slj set d_max=210.0\n",
      "notice(2): integrate.langevin/bd is using specified gamma values\n"
     ]
    },
    {
     "name": "stderr",
     "output_type": "stream",
     "text": [
      "*Warning*: compute.thermo: given a group with 0 degrees of freedom.\n",
      "            overriding ndof=1 to avoid divide by 0 errors\n"
     ]
    },
    {
     "name": "stdout",
     "output_type": "stream",
     "text": [
      "** starting run **\n",
      "Time 00:00:00 | Step 0 / 0 | TPS 0 | ETA 00:00:00\n",
      "Average TPS: 0\n",
      "---------\n",
      "** run complete **\n",
      "notice(2): Group \"all\" created containing 1 particles\n",
      "notice(2): Notice: slj set d_max=210.0\n",
      "notice(2): integrate.langevin/bd is using specified gamma values\n"
     ]
    },
    {
     "name": "stderr",
     "output_type": "stream",
     "text": [
      "*Warning*: compute.thermo: given a group with 0 degrees of freedom.\n",
      "            overriding ndof=1 to avoid divide by 0 errors\n"
     ]
    },
    {
     "name": "stdout",
     "output_type": "stream",
     "text": [
      "** starting run **\n",
      "Time 00:00:00 | Step 0 / 0 | TPS 0 | ETA 00:00:00\n",
      "Average TPS: 0\n",
      "---------\n",
      "** run complete **\n",
      "notice(2): Group \"all\" created containing 1 particles\n",
      "notice(2): Notice: slj set d_max=210.0\n",
      "notice(2): integrate.langevin/bd is using specified gamma values\n"
     ]
    },
    {
     "name": "stderr",
     "output_type": "stream",
     "text": [
      "*Warning*: compute.thermo: given a group with 0 degrees of freedom.\n",
      "            overriding ndof=1 to avoid divide by 0 errors\n"
     ]
    },
    {
     "name": "stdout",
     "output_type": "stream",
     "text": [
      "** starting run **\n",
      "Time 00:00:00 | Step 0 / 0 | TPS 0 | ETA 00:00:00\n",
      "Average TPS: 0\n",
      "---------\n",
      "** run complete **\n",
      "notice(2): Group \"all\" created containing 1 particles\n",
      "notice(2): Notice: slj set d_max=210.0\n",
      "notice(2): integrate.langevin/bd is using specified gamma values\n"
     ]
    },
    {
     "name": "stderr",
     "output_type": "stream",
     "text": [
      "*Warning*: compute.thermo: given a group with 0 degrees of freedom.\n",
      "            overriding ndof=1 to avoid divide by 0 errors\n"
     ]
    },
    {
     "name": "stdout",
     "output_type": "stream",
     "text": [
      "** starting run **\n",
      "Time 00:00:00 | Step 0 / 0 | TPS 0 | ETA 00:00:00\n",
      "Average TPS: 0\n",
      "---------\n",
      "** run complete **\n",
      "notice(2): Group \"all\" created containing 1 particles\n",
      "notice(2): Notice: slj set d_max=210.0\n",
      "notice(2): integrate.langevin/bd is using specified gamma values\n"
     ]
    },
    {
     "name": "stderr",
     "output_type": "stream",
     "text": [
      "*Warning*: compute.thermo: given a group with 0 degrees of freedom.\n",
      "            overriding ndof=1 to avoid divide by 0 errors\n"
     ]
    },
    {
     "name": "stdout",
     "output_type": "stream",
     "text": [
      "** starting run **\n",
      "Time 00:00:00 | Step 0 / 0 | TPS 0 | ETA 00:00:00\n",
      "Average TPS: 0\n",
      "---------\n",
      "** run complete **\n",
      "notice(2): Group \"all\" created containing 1 particles\n",
      "notice(2): Notice: slj set d_max=210.0\n",
      "notice(2): integrate.langevin/bd is using specified gamma values\n"
     ]
    },
    {
     "name": "stderr",
     "output_type": "stream",
     "text": [
      "*Warning*: compute.thermo: given a group with 0 degrees of freedom.\n",
      "            overriding ndof=1 to avoid divide by 0 errors\n"
     ]
    },
    {
     "name": "stdout",
     "output_type": "stream",
     "text": [
      "** starting run **\n",
      "Time 00:00:00 | Step 0 / 0 | TPS 0 | ETA 00:00:00\n",
      "Average TPS: 0\n",
      "---------\n",
      "** run complete **\n",
      "notice(2): Group \"all\" created containing 1 particles\n",
      "notice(2): Notice: slj set d_max=210.0\n",
      "notice(2): integrate.langevin/bd is using specified gamma values\n"
     ]
    },
    {
     "name": "stderr",
     "output_type": "stream",
     "text": [
      "*Warning*: compute.thermo: given a group with 0 degrees of freedom.\n",
      "            overriding ndof=1 to avoid divide by 0 errors\n"
     ]
    },
    {
     "name": "stdout",
     "output_type": "stream",
     "text": [
      "** starting run **\n",
      "Time 00:00:00 | Step 0 / 0 | TPS 0 | ETA 00:00:00\n",
      "Average TPS: 0\n",
      "---------\n",
      "** run complete **\n",
      "notice(2): Group \"all\" created containing 1 particles\n",
      "notice(2): Notice: slj set d_max=210.0\n",
      "notice(2): integrate.langevin/bd is using specified gamma values\n"
     ]
    },
    {
     "name": "stderr",
     "output_type": "stream",
     "text": [
      "*Warning*: compute.thermo: given a group with 0 degrees of freedom.\n",
      "            overriding ndof=1 to avoid divide by 0 errors\n"
     ]
    },
    {
     "name": "stdout",
     "output_type": "stream",
     "text": [
      "** starting run **\n",
      "Time 00:00:00 | Step 0 / 0 | TPS 0 | ETA 00:00:00\n",
      "Average TPS: 0\n",
      "---------\n",
      "** run complete **\n",
      "notice(2): Group \"all\" created containing 1 particles\n",
      "notice(2): Notice: slj set d_max=210.0\n",
      "notice(2): integrate.langevin/bd is using specified gamma values\n"
     ]
    },
    {
     "name": "stderr",
     "output_type": "stream",
     "text": [
      "*Warning*: compute.thermo: given a group with 0 degrees of freedom.\n",
      "            overriding ndof=1 to avoid divide by 0 errors\n"
     ]
    },
    {
     "name": "stdout",
     "output_type": "stream",
     "text": [
      "** starting run **\n",
      "Time 00:00:00 | Step 0 / 0 | TPS 0 | ETA 00:00:00\n",
      "Average TPS: 0\n",
      "---------\n",
      "** run complete **\n",
      "notice(2): Group \"all\" created containing 1 particles\n",
      "notice(2): Notice: slj set d_max=210.0\n",
      "notice(2): integrate.langevin/bd is using specified gamma values\n"
     ]
    },
    {
     "name": "stderr",
     "output_type": "stream",
     "text": [
      "*Warning*: compute.thermo: given a group with 0 degrees of freedom.\n",
      "            overriding ndof=1 to avoid divide by 0 errors\n"
     ]
    },
    {
     "name": "stdout",
     "output_type": "stream",
     "text": [
      "** starting run **\n",
      "Time 00:00:00 | Step 0 / 0 | TPS 0 | ETA 00:00:00\n",
      "Average TPS: 0\n",
      "---------\n",
      "** run complete **\n",
      "notice(2): Group \"all\" created containing 1 particles\n",
      "notice(2): Notice: slj set d_max=210.0\n",
      "notice(2): integrate.langevin/bd is using specified gamma values\n"
     ]
    },
    {
     "name": "stderr",
     "output_type": "stream",
     "text": [
      "*Warning*: compute.thermo: given a group with 0 degrees of freedom.\n",
      "            overriding ndof=1 to avoid divide by 0 errors\n"
     ]
    },
    {
     "name": "stdout",
     "output_type": "stream",
     "text": [
      "** starting run **\n",
      "Time 00:00:00 | Step 0 / 0 | TPS 0 | ETA 00:00:00\n",
      "Average TPS: 0\n",
      "---------\n",
      "** run complete **\n",
      "notice(2): Group \"all\" created containing 1 particles\n",
      "notice(2): Notice: slj set d_max=210.0\n",
      "notice(2): integrate.langevin/bd is using specified gamma values\n"
     ]
    },
    {
     "name": "stderr",
     "output_type": "stream",
     "text": [
      "*Warning*: compute.thermo: given a group with 0 degrees of freedom.\n",
      "            overriding ndof=1 to avoid divide by 0 errors\n"
     ]
    },
    {
     "name": "stdout",
     "output_type": "stream",
     "text": [
      "** starting run **\n",
      "Time 00:00:00 | Step 0 / 0 | TPS 0 | ETA 00:00:00\n",
      "Average TPS: 0\n",
      "---------\n",
      "** run complete **\n",
      "notice(2): Group \"all\" created containing 1 particles\n",
      "notice(2): Notice: slj set d_max=210.0\n",
      "notice(2): integrate.langevin/bd is using specified gamma values\n"
     ]
    },
    {
     "name": "stderr",
     "output_type": "stream",
     "text": [
      "*Warning*: compute.thermo: given a group with 0 degrees of freedom.\n",
      "            overriding ndof=1 to avoid divide by 0 errors\n"
     ]
    },
    {
     "name": "stdout",
     "output_type": "stream",
     "text": [
      "** starting run **\n",
      "Time 00:00:00 | Step 0 / 0 | TPS 0 | ETA 00:00:00\n",
      "Average TPS: 0\n",
      "---------\n",
      "** run complete **\n",
      "notice(2): Group \"all\" created containing 1 particles\n",
      "notice(2): Notice: slj set d_max=210.0\n",
      "notice(2): integrate.langevin/bd is using specified gamma values\n"
     ]
    },
    {
     "name": "stderr",
     "output_type": "stream",
     "text": [
      "*Warning*: compute.thermo: given a group with 0 degrees of freedom.\n",
      "            overriding ndof=1 to avoid divide by 0 errors\n"
     ]
    },
    {
     "name": "stdout",
     "output_type": "stream",
     "text": [
      "** starting run **\n",
      "Time 00:00:00 | Step 0 / 0 | TPS 0 | ETA 00:00:00\n",
      "Average TPS: 0\n",
      "---------\n",
      "** run complete **\n",
      "notice(2): Group \"all\" created containing 1 particles\n",
      "notice(2): Notice: slj set d_max=210.0\n",
      "notice(2): integrate.langevin/bd is using specified gamma values\n"
     ]
    },
    {
     "name": "stderr",
     "output_type": "stream",
     "text": [
      "*Warning*: compute.thermo: given a group with 0 degrees of freedom.\n",
      "            overriding ndof=1 to avoid divide by 0 errors\n"
     ]
    },
    {
     "name": "stdout",
     "output_type": "stream",
     "text": [
      "** starting run **\n",
      "Time 00:00:00 | Step 0 / 0 | TPS 0 | ETA 00:00:00\n",
      "Average TPS: 0\n",
      "---------\n",
      "** run complete **\n",
      "notice(2): Group \"all\" created containing 1 particles\n",
      "notice(2): Notice: slj set d_max=210.0\n",
      "notice(2): integrate.langevin/bd is using specified gamma values\n"
     ]
    },
    {
     "name": "stderr",
     "output_type": "stream",
     "text": [
      "*Warning*: compute.thermo: given a group with 0 degrees of freedom.\n",
      "            overriding ndof=1 to avoid divide by 0 errors\n"
     ]
    },
    {
     "name": "stdout",
     "output_type": "stream",
     "text": [
      "** starting run **\n",
      "Time 00:00:00 | Step 0 / 0 | TPS 0 | ETA 00:00:00\n",
      "Average TPS: 0\n",
      "---------\n",
      "** run complete **\n",
      "notice(2): Group \"all\" created containing 1 particles\n",
      "notice(2): Notice: slj set d_max=210.0\n",
      "notice(2): integrate.langevin/bd is using specified gamma values\n"
     ]
    },
    {
     "name": "stderr",
     "output_type": "stream",
     "text": [
      "*Warning*: compute.thermo: given a group with 0 degrees of freedom.\n",
      "            overriding ndof=1 to avoid divide by 0 errors\n"
     ]
    },
    {
     "name": "stdout",
     "output_type": "stream",
     "text": [
      "** starting run **\n",
      "Time 00:00:00 | Step 0 / 0 | TPS 0 | ETA 00:00:00\n",
      "Average TPS: 0\n",
      "---------\n",
      "** run complete **\n",
      "notice(2): Group \"all\" created containing 1 particles\n",
      "notice(2): Notice: slj set d_max=210.0\n",
      "notice(2): integrate.langevin/bd is using specified gamma values\n"
     ]
    },
    {
     "name": "stderr",
     "output_type": "stream",
     "text": [
      "*Warning*: compute.thermo: given a group with 0 degrees of freedom.\n",
      "            overriding ndof=1 to avoid divide by 0 errors\n"
     ]
    },
    {
     "name": "stdout",
     "output_type": "stream",
     "text": [
      "** starting run **\n",
      "Time 00:00:00 | Step 0 / 0 | TPS 0 | ETA 00:00:00\n",
      "Average TPS: 0\n",
      "---------\n",
      "** run complete **\n",
      "notice(2): Group \"all\" created containing 1 particles\n",
      "notice(2): Notice: slj set d_max=210.0\n",
      "notice(2): integrate.langevin/bd is using specified gamma values\n"
     ]
    },
    {
     "name": "stderr",
     "output_type": "stream",
     "text": [
      "*Warning*: compute.thermo: given a group with 0 degrees of freedom.\n",
      "            overriding ndof=1 to avoid divide by 0 errors\n"
     ]
    },
    {
     "name": "stdout",
     "output_type": "stream",
     "text": [
      "** starting run **\n",
      "Time 00:00:00 | Step 0 / 0 | TPS 0 | ETA 00:00:00\n",
      "Average TPS: 0\n",
      "---------\n",
      "** run complete **\n",
      "notice(2): Group \"all\" created containing 1 particles\n",
      "notice(2): Notice: slj set d_max=210.0\n",
      "notice(2): integrate.langevin/bd is using specified gamma values\n"
     ]
    },
    {
     "name": "stderr",
     "output_type": "stream",
     "text": [
      "*Warning*: compute.thermo: given a group with 0 degrees of freedom.\n",
      "            overriding ndof=1 to avoid divide by 0 errors\n"
     ]
    },
    {
     "name": "stdout",
     "output_type": "stream",
     "text": [
      "** starting run **\n",
      "Time 00:00:00 | Step 0 / 0 | TPS 0 | ETA 00:00:00\n",
      "Average TPS: 0\n",
      "---------\n",
      "** run complete **\n",
      "notice(2): Group \"all\" created containing 1 particles\n",
      "notice(2): Notice: slj set d_max=210.0\n",
      "notice(2): integrate.langevin/bd is using specified gamma values\n"
     ]
    },
    {
     "name": "stderr",
     "output_type": "stream",
     "text": [
      "*Warning*: compute.thermo: given a group with 0 degrees of freedom.\n",
      "            overriding ndof=1 to avoid divide by 0 errors\n"
     ]
    },
    {
     "name": "stdout",
     "output_type": "stream",
     "text": [
      "** starting run **\n",
      "Time 00:00:00 | Step 0 / 0 | TPS 0 | ETA 00:00:00\n",
      "Average TPS: 0\n",
      "---------\n",
      "** run complete **\n",
      "notice(2): Group \"all\" created containing 1 particles\n",
      "notice(2): Notice: slj set d_max=210.0\n",
      "notice(2): integrate.langevin/bd is using specified gamma values\n"
     ]
    },
    {
     "name": "stderr",
     "output_type": "stream",
     "text": [
      "*Warning*: compute.thermo: given a group with 0 degrees of freedom.\n",
      "            overriding ndof=1 to avoid divide by 0 errors\n"
     ]
    },
    {
     "name": "stdout",
     "output_type": "stream",
     "text": [
      "** starting run **\n",
      "Time 00:00:00 | Step 0 / 0 | TPS 0 | ETA 00:00:00\n",
      "Average TPS: 0\n",
      "---------\n",
      "** run complete **\n",
      "notice(2): Group \"all\" created containing 1 particles\n",
      "notice(2): Notice: slj set d_max=210.0\n",
      "notice(2): integrate.langevin/bd is using specified gamma values\n"
     ]
    },
    {
     "name": "stderr",
     "output_type": "stream",
     "text": [
      "*Warning*: compute.thermo: given a group with 0 degrees of freedom.\n",
      "            overriding ndof=1 to avoid divide by 0 errors\n"
     ]
    },
    {
     "name": "stdout",
     "output_type": "stream",
     "text": [
      "** starting run **\n",
      "Time 00:00:00 | Step 0 / 0 | TPS 0 | ETA 00:00:00\n",
      "Average TPS: 0\n",
      "---------\n",
      "** run complete **\n",
      "notice(2): Group \"all\" created containing 1 particles\n",
      "notice(2): Notice: slj set d_max=210.0\n",
      "notice(2): integrate.langevin/bd is using specified gamma values\n"
     ]
    },
    {
     "name": "stderr",
     "output_type": "stream",
     "text": [
      "*Warning*: compute.thermo: given a group with 0 degrees of freedom.\n",
      "            overriding ndof=1 to avoid divide by 0 errors\n"
     ]
    },
    {
     "name": "stdout",
     "output_type": "stream",
     "text": [
      "** starting run **\n",
      "Time 00:00:00 | Step 0 / 0 | TPS 0 | ETA 00:00:00\n",
      "Average TPS: 0\n",
      "---------\n",
      "** run complete **\n",
      "notice(2): Group \"all\" created containing 1 particles\n",
      "notice(2): Notice: slj set d_max=210.0\n",
      "notice(2): integrate.langevin/bd is using specified gamma values\n"
     ]
    },
    {
     "name": "stderr",
     "output_type": "stream",
     "text": [
      "*Warning*: compute.thermo: given a group with 0 degrees of freedom.\n",
      "            overriding ndof=1 to avoid divide by 0 errors\n"
     ]
    },
    {
     "name": "stdout",
     "output_type": "stream",
     "text": [
      "** starting run **\n",
      "Time 00:00:00 | Step 0 / 0 | TPS 0 | ETA 00:00:00\n",
      "Average TPS: 0\n",
      "---------\n",
      "** run complete **\n",
      "notice(2): Group \"all\" created containing 1 particles\n",
      "notice(2): Notice: slj set d_max=210.0\n",
      "notice(2): integrate.langevin/bd is using specified gamma values\n"
     ]
    },
    {
     "name": "stderr",
     "output_type": "stream",
     "text": [
      "*Warning*: compute.thermo: given a group with 0 degrees of freedom.\n",
      "            overriding ndof=1 to avoid divide by 0 errors\n"
     ]
    },
    {
     "name": "stdout",
     "output_type": "stream",
     "text": [
      "** starting run **\n",
      "Time 00:00:00 | Step 0 / 0 | TPS 0 | ETA 00:00:00\n",
      "Average TPS: 0\n",
      "---------\n",
      "** run complete **\n",
      "notice(2): Group \"all\" created containing 1 particles\n",
      "notice(2): Notice: slj set d_max=210.0\n",
      "notice(2): integrate.langevin/bd is using specified gamma values\n"
     ]
    },
    {
     "name": "stderr",
     "output_type": "stream",
     "text": [
      "*Warning*: compute.thermo: given a group with 0 degrees of freedom.\n",
      "            overriding ndof=1 to avoid divide by 0 errors\n"
     ]
    },
    {
     "name": "stdout",
     "output_type": "stream",
     "text": [
      "** starting run **\n",
      "Time 00:00:00 | Step 0 / 0 | TPS 0 | ETA 00:00:00\n",
      "Average TPS: 0\n",
      "---------\n",
      "** run complete **\n",
      "notice(2): Group \"all\" created containing 1 particles\n",
      "notice(2): Notice: slj set d_max=210.0\n",
      "notice(2): integrate.langevin/bd is using specified gamma values\n"
     ]
    },
    {
     "name": "stderr",
     "output_type": "stream",
     "text": [
      "*Warning*: compute.thermo: given a group with 0 degrees of freedom.\n",
      "            overriding ndof=1 to avoid divide by 0 errors\n"
     ]
    },
    {
     "name": "stdout",
     "output_type": "stream",
     "text": [
      "** starting run **\n",
      "Time 00:00:00 | Step 0 / 0 | TPS 0 | ETA 00:00:00\n",
      "Average TPS: 0\n",
      "---------\n",
      "** run complete **\n",
      "notice(2): Group \"all\" created containing 1 particles\n",
      "notice(2): Notice: slj set d_max=210.0\n",
      "notice(2): integrate.langevin/bd is using specified gamma values\n"
     ]
    },
    {
     "name": "stderr",
     "output_type": "stream",
     "text": [
      "*Warning*: compute.thermo: given a group with 0 degrees of freedom.\n",
      "            overriding ndof=1 to avoid divide by 0 errors\n"
     ]
    },
    {
     "name": "stdout",
     "output_type": "stream",
     "text": [
      "** starting run **\n",
      "Time 00:00:00 | Step 0 / 0 | TPS 0 | ETA 00:00:00\n",
      "Average TPS: 0\n",
      "---------\n",
      "** run complete **\n",
      "notice(2): Group \"all\" created containing 1 particles\n",
      "notice(2): Notice: slj set d_max=210.0\n",
      "notice(2): integrate.langevin/bd is using specified gamma values\n"
     ]
    },
    {
     "name": "stderr",
     "output_type": "stream",
     "text": [
      "*Warning*: compute.thermo: given a group with 0 degrees of freedom.\n",
      "            overriding ndof=1 to avoid divide by 0 errors\n"
     ]
    },
    {
     "name": "stdout",
     "output_type": "stream",
     "text": [
      "** starting run **\n",
      "Time 00:00:00 | Step 0 / 0 | TPS 0 | ETA 00:00:00\n",
      "Average TPS: 0\n",
      "---------\n",
      "** run complete **\n",
      "notice(2): Group \"all\" created containing 1 particles\n",
      "notice(2): Notice: slj set d_max=210.0\n",
      "notice(2): integrate.langevin/bd is using specified gamma values\n"
     ]
    },
    {
     "name": "stderr",
     "output_type": "stream",
     "text": [
      "*Warning*: compute.thermo: given a group with 0 degrees of freedom.\n",
      "            overriding ndof=1 to avoid divide by 0 errors\n"
     ]
    },
    {
     "name": "stdout",
     "output_type": "stream",
     "text": [
      "** starting run **\n",
      "Time 00:00:00 | Step 0 / 0 | TPS 0 | ETA 00:00:00\n",
      "Average TPS: 0\n",
      "---------\n",
      "** run complete **\n",
      "notice(2): Group \"all\" created containing 1 particles\n",
      "notice(2): Notice: slj set d_max=210.0\n",
      "notice(2): integrate.langevin/bd is using specified gamma values\n"
     ]
    },
    {
     "name": "stderr",
     "output_type": "stream",
     "text": [
      "*Warning*: compute.thermo: given a group with 0 degrees of freedom.\n",
      "            overriding ndof=1 to avoid divide by 0 errors\n"
     ]
    },
    {
     "name": "stdout",
     "output_type": "stream",
     "text": [
      "** starting run **\n",
      "Time 00:00:00 | Step 0 / 0 | TPS 0 | ETA 00:00:00\n",
      "Average TPS: 0\n",
      "---------\n",
      "** run complete **\n",
      "notice(2): Group \"all\" created containing 1 particles\n",
      "notice(2): Notice: slj set d_max=210.0\n",
      "notice(2): integrate.langevin/bd is using specified gamma values\n"
     ]
    },
    {
     "name": "stderr",
     "output_type": "stream",
     "text": [
      "*Warning*: compute.thermo: given a group with 0 degrees of freedom.\n",
      "            overriding ndof=1 to avoid divide by 0 errors\n"
     ]
    },
    {
     "name": "stdout",
     "output_type": "stream",
     "text": [
      "** starting run **\n",
      "Time 00:00:00 | Step 0 / 0 | TPS 0 | ETA 00:00:00\n",
      "Average TPS: 0\n",
      "---------\n",
      "** run complete **\n",
      "notice(2): Group \"all\" created containing 1 particles\n",
      "notice(2): Notice: slj set d_max=210.0\n",
      "notice(2): integrate.langevin/bd is using specified gamma values\n"
     ]
    },
    {
     "name": "stderr",
     "output_type": "stream",
     "text": [
      "*Warning*: compute.thermo: given a group with 0 degrees of freedom.\n",
      "            overriding ndof=1 to avoid divide by 0 errors\n"
     ]
    },
    {
     "name": "stdout",
     "output_type": "stream",
     "text": [
      "** starting run **\n",
      "Time 00:00:00 | Step 0 / 0 | TPS 0 | ETA 00:00:00\n",
      "Average TPS: 0\n",
      "---------\n",
      "** run complete **\n",
      "notice(2): Group \"all\" created containing 1 particles\n",
      "notice(2): Notice: slj set d_max=210.0\n",
      "notice(2): integrate.langevin/bd is using specified gamma values\n"
     ]
    },
    {
     "name": "stderr",
     "output_type": "stream",
     "text": [
      "*Warning*: compute.thermo: given a group with 0 degrees of freedom.\n",
      "            overriding ndof=1 to avoid divide by 0 errors\n"
     ]
    },
    {
     "name": "stdout",
     "output_type": "stream",
     "text": [
      "** starting run **\n",
      "Time 00:00:00 | Step 0 / 0 | TPS 0 | ETA 00:00:00\n",
      "Average TPS: 0\n",
      "---------\n",
      "** run complete **\n",
      "notice(2): Group \"all\" created containing 1 particles\n",
      "notice(2): Notice: slj set d_max=210.0\n",
      "notice(2): integrate.langevin/bd is using specified gamma values\n"
     ]
    },
    {
     "name": "stderr",
     "output_type": "stream",
     "text": [
      "*Warning*: compute.thermo: given a group with 0 degrees of freedom.\n",
      "            overriding ndof=1 to avoid divide by 0 errors\n"
     ]
    },
    {
     "name": "stdout",
     "output_type": "stream",
     "text": [
      "** starting run **\n",
      "Time 00:00:00 | Step 0 / 0 | TPS 0 | ETA 00:00:00\n",
      "Average TPS: 0\n",
      "---------\n",
      "** run complete **\n",
      "notice(2): Group \"all\" created containing 1 particles\n",
      "notice(2): Notice: slj set d_max=210.0\n",
      "notice(2): integrate.langevin/bd is using specified gamma values\n"
     ]
    },
    {
     "name": "stderr",
     "output_type": "stream",
     "text": [
      "*Warning*: compute.thermo: given a group with 0 degrees of freedom.\n",
      "            overriding ndof=1 to avoid divide by 0 errors\n"
     ]
    },
    {
     "name": "stdout",
     "output_type": "stream",
     "text": [
      "** starting run **\n",
      "Time 00:00:00 | Step 0 / 0 | TPS 0 | ETA 00:00:00\n",
      "Average TPS: 0\n",
      "---------\n",
      "** run complete **\n",
      "notice(2): Group \"all\" created containing 1 particles\n",
      "notice(2): Notice: slj set d_max=210.0\n",
      "notice(2): integrate.langevin/bd is using specified gamma values\n"
     ]
    },
    {
     "name": "stderr",
     "output_type": "stream",
     "text": [
      "*Warning*: compute.thermo: given a group with 0 degrees of freedom.\n",
      "            overriding ndof=1 to avoid divide by 0 errors\n"
     ]
    },
    {
     "name": "stdout",
     "output_type": "stream",
     "text": [
      "** starting run **\n",
      "Time 00:00:00 | Step 0 / 0 | TPS 0 | ETA 00:00:00\n",
      "Average TPS: 0\n",
      "---------\n",
      "** run complete **\n",
      "notice(2): Group \"all\" created containing 1 particles\n",
      "notice(2): Notice: slj set d_max=210.0\n",
      "notice(2): integrate.langevin/bd is using specified gamma values\n"
     ]
    },
    {
     "name": "stderr",
     "output_type": "stream",
     "text": [
      "*Warning*: compute.thermo: given a group with 0 degrees of freedom.\n",
      "            overriding ndof=1 to avoid divide by 0 errors\n"
     ]
    },
    {
     "name": "stdout",
     "output_type": "stream",
     "text": [
      "** starting run **\n",
      "Time 00:00:00 | Step 0 / 0 | TPS 0 | ETA 00:00:00\n",
      "Average TPS: 0\n",
      "---------\n",
      "** run complete **\n",
      "notice(2): Group \"all\" created containing 1 particles\n",
      "notice(2): Notice: slj set d_max=210.0\n",
      "notice(2): integrate.langevin/bd is using specified gamma values\n"
     ]
    },
    {
     "name": "stderr",
     "output_type": "stream",
     "text": [
      "*Warning*: compute.thermo: given a group with 0 degrees of freedom.\n",
      "            overriding ndof=1 to avoid divide by 0 errors\n"
     ]
    },
    {
     "name": "stdout",
     "output_type": "stream",
     "text": [
      "** starting run **\n",
      "Time 00:00:00 | Step 0 / 0 | TPS 0 | ETA 00:00:00\n",
      "Average TPS: 0\n",
      "---------\n",
      "** run complete **\n",
      "notice(2): Group \"all\" created containing 1 particles\n",
      "notice(2): Notice: slj set d_max=210.0\n",
      "notice(2): integrate.langevin/bd is using specified gamma values\n"
     ]
    },
    {
     "name": "stderr",
     "output_type": "stream",
     "text": [
      "*Warning*: compute.thermo: given a group with 0 degrees of freedom.\n",
      "            overriding ndof=1 to avoid divide by 0 errors\n"
     ]
    },
    {
     "name": "stdout",
     "output_type": "stream",
     "text": [
      "** starting run **\n",
      "Time 00:00:00 | Step 0 / 0 | TPS 0 | ETA 00:00:00\n",
      "Average TPS: 0\n",
      "---------\n",
      "** run complete **\n",
      "notice(2): Group \"all\" created containing 1 particles\n",
      "notice(2): Notice: slj set d_max=210.0\n",
      "notice(2): integrate.langevin/bd is using specified gamma values\n"
     ]
    },
    {
     "name": "stderr",
     "output_type": "stream",
     "text": [
      "*Warning*: compute.thermo: given a group with 0 degrees of freedom.\n",
      "            overriding ndof=1 to avoid divide by 0 errors\n"
     ]
    },
    {
     "name": "stdout",
     "output_type": "stream",
     "text": [
      "** starting run **\n",
      "Time 00:00:00 | Step 0 / 0 | TPS 0 | ETA 00:00:00\n",
      "Average TPS: 0\n",
      "---------\n",
      "** run complete **\n",
      "notice(2): Group \"all\" created containing 1 particles\n",
      "notice(2): Notice: slj set d_max=210.0\n",
      "notice(2): integrate.langevin/bd is using specified gamma values\n"
     ]
    },
    {
     "name": "stderr",
     "output_type": "stream",
     "text": [
      "*Warning*: compute.thermo: given a group with 0 degrees of freedom.\n",
      "            overriding ndof=1 to avoid divide by 0 errors\n"
     ]
    },
    {
     "name": "stdout",
     "output_type": "stream",
     "text": [
      "** starting run **\n",
      "Time 00:00:00 | Step 0 / 0 | TPS 0 | ETA 00:00:00\n",
      "Average TPS: 0\n",
      "---------\n",
      "** run complete **\n",
      "notice(2): Group \"all\" created containing 1 particles\n",
      "notice(2): Notice: slj set d_max=210.0\n",
      "notice(2): integrate.langevin/bd is using specified gamma values\n"
     ]
    },
    {
     "name": "stderr",
     "output_type": "stream",
     "text": [
      "*Warning*: compute.thermo: given a group with 0 degrees of freedom.\n",
      "            overriding ndof=1 to avoid divide by 0 errors\n"
     ]
    },
    {
     "name": "stdout",
     "output_type": "stream",
     "text": [
      "** starting run **\n",
      "Time 00:00:00 | Step 0 / 0 | TPS 0 | ETA 00:00:00\n",
      "Average TPS: 0\n",
      "---------\n",
      "** run complete **\n",
      "notice(2): Group \"all\" created containing 1 particles\n",
      "notice(2): Notice: slj set d_max=210.0\n",
      "notice(2): integrate.langevin/bd is using specified gamma values\n"
     ]
    },
    {
     "name": "stderr",
     "output_type": "stream",
     "text": [
      "*Warning*: compute.thermo: given a group with 0 degrees of freedom.\n",
      "            overriding ndof=1 to avoid divide by 0 errors\n"
     ]
    },
    {
     "name": "stdout",
     "output_type": "stream",
     "text": [
      "** starting run **\n",
      "Time 00:00:00 | Step 0 / 0 | TPS 0 | ETA 00:00:00\n",
      "Average TPS: 0\n",
      "---------\n",
      "** run complete **\n",
      "notice(2): Group \"all\" created containing 1 particles\n",
      "notice(2): Notice: slj set d_max=210.0\n",
      "notice(2): integrate.langevin/bd is using specified gamma values\n"
     ]
    },
    {
     "name": "stderr",
     "output_type": "stream",
     "text": [
      "*Warning*: compute.thermo: given a group with 0 degrees of freedom.\n",
      "            overriding ndof=1 to avoid divide by 0 errors\n"
     ]
    },
    {
     "name": "stdout",
     "output_type": "stream",
     "text": [
      "** starting run **\n",
      "Time 00:00:00 | Step 0 / 0 | TPS 0 | ETA 00:00:00\n",
      "Average TPS: 0\n",
      "---------\n",
      "** run complete **\n",
      "notice(2): Group \"all\" created containing 1 particles\n",
      "notice(2): Notice: slj set d_max=210.0\n",
      "notice(2): integrate.langevin/bd is using specified gamma values\n"
     ]
    },
    {
     "name": "stderr",
     "output_type": "stream",
     "text": [
      "*Warning*: compute.thermo: given a group with 0 degrees of freedom.\n",
      "            overriding ndof=1 to avoid divide by 0 errors\n"
     ]
    },
    {
     "name": "stdout",
     "output_type": "stream",
     "text": [
      "** starting run **\n",
      "Time 00:00:00 | Step 0 / 0 | TPS 0 | ETA 00:00:00\n",
      "Average TPS: 0\n",
      "---------\n",
      "** run complete **\n",
      "notice(2): Group \"all\" created containing 1 particles\n",
      "notice(2): Notice: slj set d_max=210.0\n",
      "notice(2): integrate.langevin/bd is using specified gamma values\n"
     ]
    },
    {
     "name": "stderr",
     "output_type": "stream",
     "text": [
      "*Warning*: compute.thermo: given a group with 0 degrees of freedom.\n",
      "            overriding ndof=1 to avoid divide by 0 errors\n"
     ]
    },
    {
     "name": "stdout",
     "output_type": "stream",
     "text": [
      "** starting run **\n",
      "Time 00:00:00 | Step 0 / 0 | TPS 0 | ETA 00:00:00\n",
      "Average TPS: 0\n",
      "---------\n",
      "** run complete **\n",
      "notice(2): Group \"all\" created containing 1 particles\n",
      "notice(2): Notice: slj set d_max=210.0\n",
      "notice(2): integrate.langevin/bd is using specified gamma values\n"
     ]
    },
    {
     "name": "stderr",
     "output_type": "stream",
     "text": [
      "*Warning*: compute.thermo: given a group with 0 degrees of freedom.\n",
      "            overriding ndof=1 to avoid divide by 0 errors\n"
     ]
    },
    {
     "name": "stdout",
     "output_type": "stream",
     "text": [
      "** starting run **\n",
      "Time 00:00:00 | Step 0 / 0 | TPS 0 | ETA 00:00:00\n",
      "Average TPS: 0\n",
      "---------\n",
      "** run complete **\n",
      "notice(2): Group \"all\" created containing 1 particles\n",
      "notice(2): Notice: slj set d_max=210.0\n",
      "notice(2): integrate.langevin/bd is using specified gamma values\n"
     ]
    },
    {
     "name": "stderr",
     "output_type": "stream",
     "text": [
      "*Warning*: compute.thermo: given a group with 0 degrees of freedom.\n",
      "            overriding ndof=1 to avoid divide by 0 errors\n"
     ]
    },
    {
     "name": "stdout",
     "output_type": "stream",
     "text": [
      "** starting run **\n",
      "Time 00:00:00 | Step 0 / 0 | TPS 0 | ETA 00:00:00\n",
      "Average TPS: 0\n",
      "---------\n",
      "** run complete **\n",
      "notice(2): Group \"all\" created containing 1 particles\n",
      "notice(2): Notice: slj set d_max=210.0\n",
      "notice(2): integrate.langevin/bd is using specified gamma values\n"
     ]
    },
    {
     "name": "stderr",
     "output_type": "stream",
     "text": [
      "*Warning*: compute.thermo: given a group with 0 degrees of freedom.\n",
      "            overriding ndof=1 to avoid divide by 0 errors\n"
     ]
    },
    {
     "name": "stdout",
     "output_type": "stream",
     "text": [
      "** starting run **\n",
      "Time 00:00:00 | Step 0 / 0 | TPS 0 | ETA 00:00:00\n",
      "Average TPS: 0\n",
      "---------\n",
      "** run complete **\n",
      "notice(2): Group \"all\" created containing 1 particles\n",
      "notice(2): Notice: slj set d_max=210.0\n",
      "notice(2): integrate.langevin/bd is using specified gamma values\n"
     ]
    },
    {
     "name": "stderr",
     "output_type": "stream",
     "text": [
      "*Warning*: compute.thermo: given a group with 0 degrees of freedom.\n",
      "            overriding ndof=1 to avoid divide by 0 errors\n"
     ]
    },
    {
     "name": "stdout",
     "output_type": "stream",
     "text": [
      "** starting run **\n",
      "Time 00:00:00 | Step 0 / 0 | TPS 0 | ETA 00:00:00\n",
      "Average TPS: 0\n",
      "---------\n",
      "** run complete **\n",
      "notice(2): Group \"all\" created containing 1 particles\n",
      "notice(2): Notice: slj set d_max=210.0\n",
      "notice(2): integrate.langevin/bd is using specified gamma values\n"
     ]
    },
    {
     "name": "stderr",
     "output_type": "stream",
     "text": [
      "*Warning*: compute.thermo: given a group with 0 degrees of freedom.\n",
      "            overriding ndof=1 to avoid divide by 0 errors\n"
     ]
    },
    {
     "name": "stdout",
     "output_type": "stream",
     "text": [
      "** starting run **\n",
      "Time 00:00:00 | Step 0 / 0 | TPS 0 | ETA 00:00:00\n",
      "Average TPS: 0\n",
      "---------\n",
      "** run complete **\n",
      "notice(2): Group \"all\" created containing 1 particles\n",
      "notice(2): Notice: slj set d_max=210.0\n",
      "notice(2): integrate.langevin/bd is using specified gamma values\n"
     ]
    },
    {
     "name": "stderr",
     "output_type": "stream",
     "text": [
      "*Warning*: compute.thermo: given a group with 0 degrees of freedom.\n",
      "            overriding ndof=1 to avoid divide by 0 errors\n"
     ]
    },
    {
     "name": "stdout",
     "output_type": "stream",
     "text": [
      "** starting run **\n",
      "Time 00:00:00 | Step 0 / 0 | TPS 0 | ETA 00:00:00\n",
      "Average TPS: 0\n",
      "---------\n",
      "** run complete **\n",
      "notice(2): Group \"all\" created containing 1 particles\n",
      "notice(2): Notice: slj set d_max=210.0\n",
      "notice(2): integrate.langevin/bd is using specified gamma values\n"
     ]
    },
    {
     "name": "stderr",
     "output_type": "stream",
     "text": [
      "*Warning*: compute.thermo: given a group with 0 degrees of freedom.\n",
      "            overriding ndof=1 to avoid divide by 0 errors\n"
     ]
    },
    {
     "name": "stdout",
     "output_type": "stream",
     "text": [
      "** starting run **\n",
      "Time 00:00:00 | Step 0 / 0 | TPS 0 | ETA 00:00:00\n",
      "Average TPS: 0\n",
      "---------\n",
      "** run complete **\n",
      "notice(2): Group \"all\" created containing 1 particles\n",
      "notice(2): Notice: slj set d_max=210.0\n",
      "notice(2): integrate.langevin/bd is using specified gamma values\n"
     ]
    },
    {
     "name": "stderr",
     "output_type": "stream",
     "text": [
      "*Warning*: compute.thermo: given a group with 0 degrees of freedom.\n",
      "            overriding ndof=1 to avoid divide by 0 errors\n"
     ]
    },
    {
     "name": "stdout",
     "output_type": "stream",
     "text": [
      "** starting run **\n",
      "Time 00:00:00 | Step 0 / 0 | TPS 0 | ETA 00:00:00\n",
      "Average TPS: 0\n",
      "---------\n",
      "** run complete **\n",
      "notice(2): Group \"all\" created containing 1 particles\n",
      "notice(2): Notice: slj set d_max=210.0\n",
      "notice(2): integrate.langevin/bd is using specified gamma values\n"
     ]
    },
    {
     "name": "stderr",
     "output_type": "stream",
     "text": [
      "*Warning*: compute.thermo: given a group with 0 degrees of freedom.\n",
      "            overriding ndof=1 to avoid divide by 0 errors\n"
     ]
    },
    {
     "name": "stdout",
     "output_type": "stream",
     "text": [
      "** starting run **\n",
      "Time 00:00:00 | Step 0 / 0 | TPS 0 | ETA 00:00:00\n",
      "Average TPS: 0\n",
      "---------\n",
      "** run complete **\n",
      "notice(2): Group \"all\" created containing 1 particles\n",
      "notice(2): Notice: slj set d_max=210.0\n",
      "notice(2): integrate.langevin/bd is using specified gamma values\n"
     ]
    },
    {
     "name": "stderr",
     "output_type": "stream",
     "text": [
      "*Warning*: compute.thermo: given a group with 0 degrees of freedom.\n",
      "            overriding ndof=1 to avoid divide by 0 errors\n"
     ]
    },
    {
     "name": "stdout",
     "output_type": "stream",
     "text": [
      "** starting run **\n",
      "Time 00:00:00 | Step 0 / 0 | TPS 0 | ETA 00:00:00\n",
      "Average TPS: 0\n",
      "---------\n",
      "** run complete **\n",
      "notice(2): Group \"all\" created containing 1 particles\n",
      "notice(2): Notice: slj set d_max=210.0\n",
      "notice(2): integrate.langevin/bd is using specified gamma values\n"
     ]
    },
    {
     "name": "stderr",
     "output_type": "stream",
     "text": [
      "*Warning*: compute.thermo: given a group with 0 degrees of freedom.\n",
      "            overriding ndof=1 to avoid divide by 0 errors\n"
     ]
    },
    {
     "name": "stdout",
     "output_type": "stream",
     "text": [
      "** starting run **\n",
      "Time 00:00:00 | Step 0 / 0 | TPS 0 | ETA 00:00:00\n",
      "Average TPS: 0\n",
      "---------\n",
      "** run complete **\n",
      "notice(2): Group \"all\" created containing 1 particles\n",
      "notice(2): Notice: slj set d_max=210.0\n",
      "notice(2): integrate.langevin/bd is using specified gamma values\n"
     ]
    },
    {
     "name": "stderr",
     "output_type": "stream",
     "text": [
      "*Warning*: compute.thermo: given a group with 0 degrees of freedom.\n",
      "            overriding ndof=1 to avoid divide by 0 errors\n"
     ]
    },
    {
     "name": "stdout",
     "output_type": "stream",
     "text": [
      "** starting run **\n",
      "Time 00:00:00 | Step 0 / 0 | TPS 0 | ETA 00:00:00\n",
      "Average TPS: 0\n",
      "---------\n",
      "** run complete **\n",
      "notice(2): Group \"all\" created containing 1 particles\n",
      "notice(2): Notice: slj set d_max=210.0\n",
      "notice(2): integrate.langevin/bd is using specified gamma values\n"
     ]
    },
    {
     "name": "stderr",
     "output_type": "stream",
     "text": [
      "*Warning*: compute.thermo: given a group with 0 degrees of freedom.\n",
      "            overriding ndof=1 to avoid divide by 0 errors\n"
     ]
    },
    {
     "name": "stdout",
     "output_type": "stream",
     "text": [
      "** starting run **\n",
      "Time 00:00:00 | Step 0 / 0 | TPS 0 | ETA 00:00:00\n",
      "Average TPS: 0\n",
      "---------\n",
      "** run complete **\n",
      "notice(2): Group \"all\" created containing 1 particles\n",
      "notice(2): Notice: slj set d_max=210.0\n",
      "notice(2): integrate.langevin/bd is using specified gamma values\n"
     ]
    },
    {
     "name": "stderr",
     "output_type": "stream",
     "text": [
      "*Warning*: compute.thermo: given a group with 0 degrees of freedom.\n",
      "            overriding ndof=1 to avoid divide by 0 errors\n"
     ]
    },
    {
     "name": "stdout",
     "output_type": "stream",
     "text": [
      "** starting run **\n",
      "Time 00:00:00 | Step 0 / 0 | TPS 0 | ETA 00:00:00\n",
      "Average TPS: 0\n",
      "---------\n",
      "** run complete **\n",
      "notice(2): Group \"all\" created containing 1 particles\n",
      "notice(2): Notice: slj set d_max=210.0\n",
      "notice(2): integrate.langevin/bd is using specified gamma values\n"
     ]
    },
    {
     "name": "stderr",
     "output_type": "stream",
     "text": [
      "*Warning*: compute.thermo: given a group with 0 degrees of freedom.\n",
      "            overriding ndof=1 to avoid divide by 0 errors\n"
     ]
    },
    {
     "name": "stdout",
     "output_type": "stream",
     "text": [
      "** starting run **\n",
      "Time 00:00:00 | Step 0 / 0 | TPS 0 | ETA 00:00:00\n",
      "Average TPS: 0\n",
      "---------\n",
      "** run complete **\n",
      "notice(2): Group \"all\" created containing 1 particles\n",
      "notice(2): Notice: slj set d_max=210.0\n",
      "notice(2): integrate.langevin/bd is using specified gamma values\n"
     ]
    },
    {
     "name": "stderr",
     "output_type": "stream",
     "text": [
      "*Warning*: compute.thermo: given a group with 0 degrees of freedom.\n",
      "            overriding ndof=1 to avoid divide by 0 errors\n"
     ]
    },
    {
     "name": "stdout",
     "output_type": "stream",
     "text": [
      "** starting run **\n",
      "Time 00:00:00 | Step 0 / 0 | TPS 0 | ETA 00:00:00\n",
      "Average TPS: 0\n",
      "---------\n",
      "** run complete **\n",
      "notice(2): Group \"all\" created containing 1 particles\n",
      "notice(2): Notice: slj set d_max=210.0\n",
      "notice(2): integrate.langevin/bd is using specified gamma values\n"
     ]
    },
    {
     "name": "stderr",
     "output_type": "stream",
     "text": [
      "*Warning*: compute.thermo: given a group with 0 degrees of freedom.\n",
      "            overriding ndof=1 to avoid divide by 0 errors\n"
     ]
    },
    {
     "name": "stdout",
     "output_type": "stream",
     "text": [
      "** starting run **\n",
      "Time 00:00:00 | Step 0 / 0 | TPS 0 | ETA 00:00:00\n",
      "Average TPS: 0\n",
      "---------\n",
      "** run complete **\n",
      "notice(2): Group \"all\" created containing 1 particles\n",
      "notice(2): Notice: slj set d_max=210.0\n",
      "notice(2): integrate.langevin/bd is using specified gamma values\n"
     ]
    },
    {
     "name": "stderr",
     "output_type": "stream",
     "text": [
      "*Warning*: compute.thermo: given a group with 0 degrees of freedom.\n",
      "            overriding ndof=1 to avoid divide by 0 errors\n"
     ]
    },
    {
     "name": "stdout",
     "output_type": "stream",
     "text": [
      "** starting run **\n",
      "Time 00:00:00 | Step 0 / 0 | TPS 0 | ETA 00:00:00\n",
      "Average TPS: 0\n",
      "---------\n",
      "** run complete **\n",
      "notice(2): Group \"all\" created containing 1 particles\n",
      "notice(2): Notice: slj set d_max=210.0\n",
      "notice(2): integrate.langevin/bd is using specified gamma values\n"
     ]
    },
    {
     "name": "stderr",
     "output_type": "stream",
     "text": [
      "*Warning*: compute.thermo: given a group with 0 degrees of freedom.\n",
      "            overriding ndof=1 to avoid divide by 0 errors\n"
     ]
    },
    {
     "name": "stdout",
     "output_type": "stream",
     "text": [
      "** starting run **\n",
      "Time 00:00:00 | Step 0 / 0 | TPS 0 | ETA 00:00:00\n",
      "Average TPS: 0\n",
      "---------\n",
      "** run complete **\n",
      "notice(2): Group \"all\" created containing 1 particles\n",
      "notice(2): Notice: slj set d_max=210.0\n",
      "notice(2): integrate.langevin/bd is using specified gamma values\n"
     ]
    },
    {
     "name": "stderr",
     "output_type": "stream",
     "text": [
      "*Warning*: compute.thermo: given a group with 0 degrees of freedom.\n",
      "            overriding ndof=1 to avoid divide by 0 errors\n"
     ]
    },
    {
     "name": "stdout",
     "output_type": "stream",
     "text": [
      "** starting run **\n",
      "Time 00:00:00 | Step 0 / 0 | TPS 0 | ETA 00:00:00\n",
      "Average TPS: 0\n",
      "---------\n",
      "** run complete **\n",
      "notice(2): Group \"all\" created containing 1 particles\n",
      "notice(2): Notice: slj set d_max=210.0\n",
      "notice(2): integrate.langevin/bd is using specified gamma values\n"
     ]
    },
    {
     "name": "stderr",
     "output_type": "stream",
     "text": [
      "*Warning*: compute.thermo: given a group with 0 degrees of freedom.\n",
      "            overriding ndof=1 to avoid divide by 0 errors\n"
     ]
    },
    {
     "name": "stdout",
     "output_type": "stream",
     "text": [
      "** starting run **\n",
      "Time 00:00:00 | Step 0 / 0 | TPS 0 | ETA 00:00:00\n",
      "Average TPS: 0\n",
      "---------\n",
      "** run complete **\n",
      "notice(2): Group \"all\" created containing 1 particles\n",
      "notice(2): Notice: slj set d_max=210.0\n",
      "notice(2): integrate.langevin/bd is using specified gamma values\n"
     ]
    },
    {
     "name": "stderr",
     "output_type": "stream",
     "text": [
      "*Warning*: compute.thermo: given a group with 0 degrees of freedom.\n",
      "            overriding ndof=1 to avoid divide by 0 errors\n"
     ]
    },
    {
     "name": "stdout",
     "output_type": "stream",
     "text": [
      "** starting run **\n",
      "Time 00:00:00 | Step 0 / 0 | TPS 0 | ETA 00:00:00\n",
      "Average TPS: 0\n",
      "---------\n",
      "** run complete **\n",
      "notice(2): Group \"all\" created containing 1 particles\n",
      "notice(2): Notice: slj set d_max=210.0\n",
      "notice(2): integrate.langevin/bd is using specified gamma values\n"
     ]
    },
    {
     "name": "stderr",
     "output_type": "stream",
     "text": [
      "*Warning*: compute.thermo: given a group with 0 degrees of freedom.\n",
      "            overriding ndof=1 to avoid divide by 0 errors\n"
     ]
    },
    {
     "name": "stdout",
     "output_type": "stream",
     "text": [
      "** starting run **\n",
      "Time 00:00:00 | Step 0 / 0 | TPS 0 | ETA 00:00:00\n",
      "Average TPS: 0\n",
      "---------\n",
      "** run complete **\n",
      "notice(2): Group \"all\" created containing 1 particles\n",
      "notice(2): Notice: slj set d_max=210.0\n",
      "notice(2): integrate.langevin/bd is using specified gamma values\n"
     ]
    },
    {
     "name": "stderr",
     "output_type": "stream",
     "text": [
      "*Warning*: compute.thermo: given a group with 0 degrees of freedom.\n",
      "            overriding ndof=1 to avoid divide by 0 errors\n"
     ]
    },
    {
     "name": "stdout",
     "output_type": "stream",
     "text": [
      "** starting run **\n",
      "Time 00:00:00 | Step 0 / 0 | TPS 0 | ETA 00:00:00\n",
      "Average TPS: 0\n",
      "---------\n",
      "** run complete **\n",
      "notice(2): Group \"all\" created containing 1 particles\n",
      "notice(2): Notice: slj set d_max=210.0\n",
      "notice(2): integrate.langevin/bd is using specified gamma values\n"
     ]
    },
    {
     "name": "stderr",
     "output_type": "stream",
     "text": [
      "*Warning*: compute.thermo: given a group with 0 degrees of freedom.\n",
      "            overriding ndof=1 to avoid divide by 0 errors\n"
     ]
    },
    {
     "name": "stdout",
     "output_type": "stream",
     "text": [
      "** starting run **\n",
      "Time 00:00:00 | Step 0 / 0 | TPS 0 | ETA 00:00:00\n",
      "Average TPS: 0\n",
      "---------\n",
      "** run complete **\n",
      "notice(2): Group \"all\" created containing 1 particles\n",
      "notice(2): Notice: slj set d_max=210.0\n",
      "notice(2): integrate.langevin/bd is using specified gamma values\n"
     ]
    },
    {
     "name": "stderr",
     "output_type": "stream",
     "text": [
      "*Warning*: compute.thermo: given a group with 0 degrees of freedom.\n",
      "            overriding ndof=1 to avoid divide by 0 errors\n"
     ]
    },
    {
     "name": "stdout",
     "output_type": "stream",
     "text": [
      "** starting run **\n",
      "Time 00:00:00 | Step 0 / 0 | TPS 0 | ETA 00:00:00\n",
      "Average TPS: 0\n",
      "---------\n",
      "** run complete **\n",
      "notice(2): Group \"all\" created containing 1 particles\n",
      "notice(2): Notice: slj set d_max=210.0\n",
      "notice(2): integrate.langevin/bd is using specified gamma values\n"
     ]
    },
    {
     "name": "stderr",
     "output_type": "stream",
     "text": [
      "*Warning*: compute.thermo: given a group with 0 degrees of freedom.\n",
      "            overriding ndof=1 to avoid divide by 0 errors\n"
     ]
    },
    {
     "name": "stdout",
     "output_type": "stream",
     "text": [
      "** starting run **\n",
      "Time 00:00:00 | Step 0 / 0 | TPS 0 | ETA 00:00:00\n",
      "Average TPS: 0\n",
      "---------\n",
      "** run complete **\n",
      "notice(2): Group \"all\" created containing 1 particles\n",
      "notice(2): Notice: slj set d_max=210.0\n",
      "notice(2): integrate.langevin/bd is using specified gamma values\n"
     ]
    },
    {
     "name": "stderr",
     "output_type": "stream",
     "text": [
      "*Warning*: compute.thermo: given a group with 0 degrees of freedom.\n",
      "            overriding ndof=1 to avoid divide by 0 errors\n"
     ]
    },
    {
     "name": "stdout",
     "output_type": "stream",
     "text": [
      "** starting run **\n",
      "Time 00:00:00 | Step 0 / 0 | TPS 0 | ETA 00:00:00\n",
      "Average TPS: 0\n",
      "---------\n",
      "** run complete **\n",
      "notice(2): Group \"all\" created containing 1 particles\n",
      "notice(2): Notice: slj set d_max=210.0\n",
      "notice(2): integrate.langevin/bd is using specified gamma values\n"
     ]
    },
    {
     "name": "stderr",
     "output_type": "stream",
     "text": [
      "*Warning*: compute.thermo: given a group with 0 degrees of freedom.\n",
      "            overriding ndof=1 to avoid divide by 0 errors\n"
     ]
    },
    {
     "name": "stdout",
     "output_type": "stream",
     "text": [
      "** starting run **\n",
      "Time 00:00:00 | Step 0 / 0 | TPS 0 | ETA 00:00:00\n",
      "Average TPS: 0\n",
      "---------\n",
      "** run complete **\n",
      "notice(2): Group \"all\" created containing 1 particles\n",
      "notice(2): Notice: slj set d_max=210.0\n",
      "notice(2): integrate.langevin/bd is using specified gamma values\n"
     ]
    },
    {
     "name": "stderr",
     "output_type": "stream",
     "text": [
      "*Warning*: compute.thermo: given a group with 0 degrees of freedom.\n",
      "            overriding ndof=1 to avoid divide by 0 errors\n"
     ]
    },
    {
     "name": "stdout",
     "output_type": "stream",
     "text": [
      "** starting run **\n",
      "Time 00:00:00 | Step 0 / 0 | TPS 0 | ETA 00:00:00\n",
      "Average TPS: 0\n",
      "---------\n",
      "** run complete **\n",
      "notice(2): Group \"all\" created containing 1 particles\n",
      "notice(2): Notice: slj set d_max=210.0\n",
      "notice(2): integrate.langevin/bd is using specified gamma values\n"
     ]
    },
    {
     "name": "stderr",
     "output_type": "stream",
     "text": [
      "*Warning*: compute.thermo: given a group with 0 degrees of freedom.\n",
      "            overriding ndof=1 to avoid divide by 0 errors\n"
     ]
    },
    {
     "name": "stdout",
     "output_type": "stream",
     "text": [
      "** starting run **\n",
      "Time 00:00:00 | Step 0 / 0 | TPS 0 | ETA 00:00:00\n",
      "Average TPS: 0\n",
      "---------\n",
      "** run complete **\n",
      "notice(2): Group \"all\" created containing 1 particles\n",
      "notice(2): Notice: slj set d_max=210.0\n",
      "notice(2): integrate.langevin/bd is using specified gamma values\n"
     ]
    },
    {
     "name": "stderr",
     "output_type": "stream",
     "text": [
      "*Warning*: compute.thermo: given a group with 0 degrees of freedom.\n",
      "            overriding ndof=1 to avoid divide by 0 errors\n"
     ]
    },
    {
     "name": "stdout",
     "output_type": "stream",
     "text": [
      "** starting run **\n",
      "Time 00:00:00 | Step 0 / 0 | TPS 0 | ETA 00:00:00\n",
      "Average TPS: 0\n",
      "---------\n",
      "** run complete **\n",
      "notice(2): Group \"all\" created containing 1 particles\n",
      "notice(2): Notice: slj set d_max=210.0\n",
      "notice(2): integrate.langevin/bd is using specified gamma values\n"
     ]
    },
    {
     "name": "stderr",
     "output_type": "stream",
     "text": [
      "*Warning*: compute.thermo: given a group with 0 degrees of freedom.\n",
      "            overriding ndof=1 to avoid divide by 0 errors\n"
     ]
    },
    {
     "name": "stdout",
     "output_type": "stream",
     "text": [
      "** starting run **\n",
      "Time 00:00:00 | Step 0 / 0 | TPS 0 | ETA 00:00:00\n",
      "Average TPS: 0\n",
      "---------\n",
      "** run complete **\n",
      "notice(2): Group \"all\" created containing 1 particles\n",
      "notice(2): Notice: slj set d_max=210.0\n",
      "notice(2): integrate.langevin/bd is using specified gamma values\n"
     ]
    },
    {
     "name": "stderr",
     "output_type": "stream",
     "text": [
      "*Warning*: compute.thermo: given a group with 0 degrees of freedom.\n",
      "            overriding ndof=1 to avoid divide by 0 errors\n"
     ]
    },
    {
     "name": "stdout",
     "output_type": "stream",
     "text": [
      "** starting run **\n",
      "Time 00:00:00 | Step 0 / 0 | TPS 0 | ETA 00:00:00\n",
      "Average TPS: 0\n",
      "---------\n",
      "** run complete **\n",
      "notice(2): Group \"all\" created containing 1 particles\n",
      "notice(2): Notice: slj set d_max=210.0\n",
      "notice(2): integrate.langevin/bd is using specified gamma values\n"
     ]
    },
    {
     "name": "stderr",
     "output_type": "stream",
     "text": [
      "*Warning*: compute.thermo: given a group with 0 degrees of freedom.\n",
      "            overriding ndof=1 to avoid divide by 0 errors\n"
     ]
    },
    {
     "name": "stdout",
     "output_type": "stream",
     "text": [
      "** starting run **\n",
      "Time 00:00:00 | Step 0 / 0 | TPS 0 | ETA 00:00:00\n",
      "Average TPS: 0\n",
      "---------\n",
      "** run complete **\n",
      "notice(2): Group \"all\" created containing 1 particles\n",
      "notice(2): Notice: slj set d_max=210.0\n",
      "notice(2): integrate.langevin/bd is using specified gamma values\n"
     ]
    },
    {
     "name": "stderr",
     "output_type": "stream",
     "text": [
      "*Warning*: compute.thermo: given a group with 0 degrees of freedom.\n",
      "            overriding ndof=1 to avoid divide by 0 errors\n"
     ]
    },
    {
     "name": "stdout",
     "output_type": "stream",
     "text": [
      "** starting run **\n",
      "Time 00:00:00 | Step 0 / 0 | TPS 0 | ETA 00:00:00\n",
      "Average TPS: 0\n",
      "---------\n",
      "** run complete **\n"
     ]
    },
    {
     "name": "stderr",
     "output_type": "stream",
     "text": [
      "IOPub message rate exceeded.\n",
      "The Jupyter server will temporarily stop sending output\n",
      "to the client in order to avoid crashing it.\n",
      "To change this limit, set the config variable\n",
      "`--ServerApp.iopub_msg_rate_limit`.\n",
      "\n",
      "Current values:\n",
      "ServerApp.iopub_msg_rate_limit=1000.0 (msgs/sec)\n",
      "ServerApp.rate_limit_window=3.0 (secs)\n",
      "\n"
     ]
    },
    {
     "name": "stdout",
     "output_type": "stream",
     "text": [
      "notice(2): integrate.langevin/bd is using specified gamma values\n"
     ]
    },
    {
     "name": "stderr",
     "output_type": "stream",
     "text": [
      "*Warning*: compute.thermo: given a group with 0 degrees of freedom.\n",
      "            overriding ndof=1 to avoid divide by 0 errors\n"
     ]
    },
    {
     "name": "stdout",
     "output_type": "stream",
     "text": [
      "** starting run **\n",
      "Time 00:00:00 | Step 0 / 0 | TPS 0 | ETA 00:00:00\n",
      "Average TPS: 0\n",
      "---------\n",
      "** run complete **\n",
      "notice(2): Group \"all\" created containing 1 particles\n",
      "notice(2): Notice: slj set d_max=210.0\n",
      "notice(2): integrate.langevin/bd is using specified gamma values\n"
     ]
    },
    {
     "name": "stderr",
     "output_type": "stream",
     "text": [
      "*Warning*: compute.thermo: given a group with 0 degrees of freedom.\n",
      "            overriding ndof=1 to avoid divide by 0 errors\n"
     ]
    },
    {
     "name": "stdout",
     "output_type": "stream",
     "text": [
      "** starting run **\n",
      "Time 00:00:00 | Step 0 / 0 | TPS 0 | ETA 00:00:00\n",
      "Average TPS: 0\n",
      "---------\n",
      "** run complete **\n",
      "notice(2): Group \"all\" created containing 1 particles\n",
      "notice(2): Notice: slj set d_max=210.0\n",
      "notice(2): integrate.langevin/bd is using specified gamma values\n"
     ]
    },
    {
     "name": "stderr",
     "output_type": "stream",
     "text": [
      "*Warning*: compute.thermo: given a group with 0 degrees of freedom.\n",
      "            overriding ndof=1 to avoid divide by 0 errors\n"
     ]
    },
    {
     "name": "stdout",
     "output_type": "stream",
     "text": [
      "** starting run **\n",
      "Time 00:00:00 | Step 0 / 0 | TPS 0 | ETA 00:00:00\n",
      "Average TPS: 0\n",
      "---------\n",
      "** run complete **\n",
      "notice(2): Group \"all\" created containing 1 particles\n",
      "notice(2): Notice: slj set d_max=210.0\n",
      "notice(2): integrate.langevin/bd is using specified gamma values\n"
     ]
    },
    {
     "name": "stderr",
     "output_type": "stream",
     "text": [
      "*Warning*: compute.thermo: given a group with 0 degrees of freedom.\n",
      "            overriding ndof=1 to avoid divide by 0 errors\n"
     ]
    },
    {
     "name": "stdout",
     "output_type": "stream",
     "text": [
      "** starting run **\n",
      "Time 00:00:00 | Step 0 / 0 | TPS 0 | ETA 00:00:00\n",
      "Average TPS: 0\n",
      "---------\n",
      "** run complete **\n",
      "notice(2): Group \"all\" created containing 1 particles\n",
      "notice(2): Notice: slj set d_max=210.0\n",
      "notice(2): integrate.langevin/bd is using specified gamma values\n"
     ]
    },
    {
     "name": "stderr",
     "output_type": "stream",
     "text": [
      "*Warning*: compute.thermo: given a group with 0 degrees of freedom.\n",
      "            overriding ndof=1 to avoid divide by 0 errors\n"
     ]
    },
    {
     "name": "stdout",
     "output_type": "stream",
     "text": [
      "** starting run **\n",
      "Time 00:00:00 | Step 0 / 0 | TPS 0 | ETA 00:00:00\n",
      "Average TPS: 0\n",
      "---------\n",
      "** run complete **\n",
      "notice(2): Group \"all\" created containing 1 particles\n",
      "notice(2): Notice: slj set d_max=210.0\n",
      "notice(2): integrate.langevin/bd is using specified gamma values\n"
     ]
    },
    {
     "name": "stderr",
     "output_type": "stream",
     "text": [
      "*Warning*: compute.thermo: given a group with 0 degrees of freedom.\n",
      "            overriding ndof=1 to avoid divide by 0 errors\n"
     ]
    },
    {
     "name": "stdout",
     "output_type": "stream",
     "text": [
      "** starting run **\n",
      "Time 00:00:00 | Step 0 / 0 | TPS 0 | ETA 00:00:00\n",
      "Average TPS: 0\n",
      "---------\n",
      "** run complete **\n",
      "notice(2): Group \"all\" created containing 1 particles\n",
      "notice(2): Notice: slj set d_max=210.0\n",
      "notice(2): integrate.langevin/bd is using specified gamma values\n"
     ]
    },
    {
     "name": "stderr",
     "output_type": "stream",
     "text": [
      "*Warning*: compute.thermo: given a group with 0 degrees of freedom.\n",
      "            overriding ndof=1 to avoid divide by 0 errors\n"
     ]
    },
    {
     "name": "stdout",
     "output_type": "stream",
     "text": [
      "** starting run **\n",
      "Time 00:00:00 | Step 0 / 0 | TPS 0 | ETA 00:00:00\n",
      "Average TPS: 0\n",
      "---------\n",
      "** run complete **\n",
      "notice(2): Group \"all\" created containing 1 particles\n",
      "notice(2): Notice: slj set d_max=210.0\n",
      "notice(2): integrate.langevin/bd is using specified gamma values\n"
     ]
    },
    {
     "name": "stderr",
     "output_type": "stream",
     "text": [
      "*Warning*: compute.thermo: given a group with 0 degrees of freedom.\n",
      "            overriding ndof=1 to avoid divide by 0 errors\n"
     ]
    },
    {
     "name": "stdout",
     "output_type": "stream",
     "text": [
      "** starting run **\n",
      "Time 00:00:00 | Step 0 / 0 | TPS 0 | ETA 00:00:00\n",
      "Average TPS: 0\n",
      "---------\n",
      "** run complete **\n",
      "notice(2): Group \"all\" created containing 1 particles\n",
      "notice(2): Notice: slj set d_max=210.0\n",
      "notice(2): integrate.langevin/bd is using specified gamma values\n"
     ]
    },
    {
     "name": "stderr",
     "output_type": "stream",
     "text": [
      "*Warning*: compute.thermo: given a group with 0 degrees of freedom.\n",
      "            overriding ndof=1 to avoid divide by 0 errors\n"
     ]
    },
    {
     "name": "stdout",
     "output_type": "stream",
     "text": [
      "** starting run **\n",
      "Time 00:00:00 | Step 0 / 0 | TPS 0 | ETA 00:00:00\n",
      "Average TPS: 0\n",
      "---------\n",
      "** run complete **\n",
      "notice(2): Group \"all\" created containing 1 particles\n",
      "notice(2): Notice: slj set d_max=210.0\n",
      "notice(2): integrate.langevin/bd is using specified gamma values\n"
     ]
    },
    {
     "name": "stderr",
     "output_type": "stream",
     "text": [
      "*Warning*: compute.thermo: given a group with 0 degrees of freedom.\n",
      "            overriding ndof=1 to avoid divide by 0 errors\n"
     ]
    },
    {
     "name": "stdout",
     "output_type": "stream",
     "text": [
      "** starting run **\n",
      "Time 00:00:00 | Step 0 / 0 | TPS 0 | ETA 00:00:00\n",
      "Average TPS: 0\n",
      "---------\n",
      "** run complete **\n",
      "notice(2): Group \"all\" created containing 1 particles\n",
      "notice(2): Notice: slj set d_max=210.0\n",
      "notice(2): integrate.langevin/bd is using specified gamma values\n"
     ]
    },
    {
     "name": "stderr",
     "output_type": "stream",
     "text": [
      "*Warning*: compute.thermo: given a group with 0 degrees of freedom.\n",
      "            overriding ndof=1 to avoid divide by 0 errors\n"
     ]
    },
    {
     "name": "stdout",
     "output_type": "stream",
     "text": [
      "** starting run **\n",
      "Time 00:00:00 | Step 0 / 0 | TPS 0 | ETA 00:00:00\n",
      "Average TPS: 0\n",
      "---------\n",
      "** run complete **\n",
      "notice(2): Group \"all\" created containing 1 particles\n",
      "notice(2): Notice: slj set d_max=210.0\n",
      "notice(2): integrate.langevin/bd is using specified gamma values\n"
     ]
    },
    {
     "name": "stderr",
     "output_type": "stream",
     "text": [
      "*Warning*: compute.thermo: given a group with 0 degrees of freedom.\n",
      "            overriding ndof=1 to avoid divide by 0 errors\n"
     ]
    },
    {
     "name": "stdout",
     "output_type": "stream",
     "text": [
      "** starting run **\n",
      "Time 00:00:00 | Step 0 / 0 | TPS 0 | ETA 00:00:00\n",
      "Average TPS: 0\n",
      "---------\n",
      "** run complete **\n",
      "notice(2): Group \"all\" created containing 1 particles\n",
      "notice(2): Notice: slj set d_max=210.0\n",
      "notice(2): integrate.langevin/bd is using specified gamma values\n"
     ]
    },
    {
     "name": "stderr",
     "output_type": "stream",
     "text": [
      "*Warning*: compute.thermo: given a group with 0 degrees of freedom.\n",
      "            overriding ndof=1 to avoid divide by 0 errors\n"
     ]
    },
    {
     "name": "stdout",
     "output_type": "stream",
     "text": [
      "** starting run **\n",
      "Time 00:00:00 | Step 0 / 0 | TPS 0 | ETA 00:00:00\n",
      "Average TPS: 0\n",
      "---------\n",
      "** run complete **\n",
      "notice(2): Group \"all\" created containing 1 particles\n",
      "notice(2): Notice: slj set d_max=210.0\n",
      "notice(2): integrate.langevin/bd is using specified gamma values\n"
     ]
    },
    {
     "name": "stderr",
     "output_type": "stream",
     "text": [
      "*Warning*: compute.thermo: given a group with 0 degrees of freedom.\n",
      "            overriding ndof=1 to avoid divide by 0 errors\n"
     ]
    },
    {
     "name": "stdout",
     "output_type": "stream",
     "text": [
      "** starting run **\n",
      "Time 00:00:00 | Step 0 / 0 | TPS 0 | ETA 00:00:00\n",
      "Average TPS: 0\n",
      "---------\n",
      "** run complete **\n",
      "notice(2): Group \"all\" created containing 1 particles\n",
      "notice(2): Notice: slj set d_max=210.0\n",
      "notice(2): integrate.langevin/bd is using specified gamma values\n"
     ]
    },
    {
     "name": "stderr",
     "output_type": "stream",
     "text": [
      "*Warning*: compute.thermo: given a group with 0 degrees of freedom.\n",
      "            overriding ndof=1 to avoid divide by 0 errors\n"
     ]
    },
    {
     "name": "stdout",
     "output_type": "stream",
     "text": [
      "** starting run **\n",
      "Time 00:00:00 | Step 0 / 0 | TPS 0 | ETA 00:00:00\n",
      "Average TPS: 0\n",
      "---------\n",
      "** run complete **\n",
      "notice(2): Group \"all\" created containing 1 particles\n",
      "notice(2): Notice: slj set d_max=210.0\n",
      "notice(2): integrate.langevin/bd is using specified gamma values\n"
     ]
    },
    {
     "name": "stderr",
     "output_type": "stream",
     "text": [
      "*Warning*: compute.thermo: given a group with 0 degrees of freedom.\n",
      "            overriding ndof=1 to avoid divide by 0 errors\n"
     ]
    },
    {
     "name": "stdout",
     "output_type": "stream",
     "text": [
      "** starting run **\n",
      "Time 00:00:00 | Step 0 / 0 | TPS 0 | ETA 00:00:00\n",
      "Average TPS: 0\n",
      "---------\n",
      "** run complete **\n",
      "notice(2): Group \"all\" created containing 1 particles\n",
      "notice(2): Notice: slj set d_max=210.0\n",
      "notice(2): integrate.langevin/bd is using specified gamma values\n"
     ]
    },
    {
     "name": "stderr",
     "output_type": "stream",
     "text": [
      "*Warning*: compute.thermo: given a group with 0 degrees of freedom.\n",
      "            overriding ndof=1 to avoid divide by 0 errors\n"
     ]
    },
    {
     "name": "stdout",
     "output_type": "stream",
     "text": [
      "** starting run **\n",
      "Time 00:00:00 | Step 0 / 0 | TPS 0 | ETA 00:00:00\n",
      "Average TPS: 0\n",
      "---------\n",
      "** run complete **\n",
      "notice(2): Group \"all\" created containing 1 particles\n",
      "notice(2): Notice: slj set d_max=210.0\n",
      "notice(2): integrate.langevin/bd is using specified gamma values\n"
     ]
    },
    {
     "name": "stderr",
     "output_type": "stream",
     "text": [
      "*Warning*: compute.thermo: given a group with 0 degrees of freedom.\n",
      "            overriding ndof=1 to avoid divide by 0 errors\n"
     ]
    },
    {
     "name": "stdout",
     "output_type": "stream",
     "text": [
      "** starting run **\n",
      "Time 00:00:00 | Step 0 / 0 | TPS 0 | ETA 00:00:00\n",
      "Average TPS: 0\n",
      "---------\n",
      "** run complete **\n",
      "notice(2): Group \"all\" created containing 1 particles\n",
      "notice(2): Notice: slj set d_max=210.0\n",
      "notice(2): integrate.langevin/bd is using specified gamma values\n"
     ]
    },
    {
     "name": "stderr",
     "output_type": "stream",
     "text": [
      "*Warning*: compute.thermo: given a group with 0 degrees of freedom.\n",
      "            overriding ndof=1 to avoid divide by 0 errors\n"
     ]
    },
    {
     "name": "stdout",
     "output_type": "stream",
     "text": [
      "** starting run **\n",
      "Time 00:00:00 | Step 0 / 0 | TPS 0 | ETA 00:00:00\n",
      "Average TPS: 0\n",
      "---------\n",
      "** run complete **\n",
      "notice(2): Group \"all\" created containing 1 particles\n",
      "notice(2): Notice: slj set d_max=210.0\n",
      "notice(2): integrate.langevin/bd is using specified gamma values\n"
     ]
    },
    {
     "name": "stderr",
     "output_type": "stream",
     "text": [
      "*Warning*: compute.thermo: given a group with 0 degrees of freedom.\n",
      "            overriding ndof=1 to avoid divide by 0 errors\n"
     ]
    },
    {
     "name": "stdout",
     "output_type": "stream",
     "text": [
      "** starting run **\n",
      "Time 00:00:00 | Step 0 / 0 | TPS 0 | ETA 00:00:00\n",
      "Average TPS: 0\n",
      "---------\n",
      "** run complete **\n",
      "notice(2): Group \"all\" created containing 1 particles\n",
      "notice(2): Notice: slj set d_max=210.0\n",
      "notice(2): integrate.langevin/bd is using specified gamma values\n"
     ]
    },
    {
     "name": "stderr",
     "output_type": "stream",
     "text": [
      "*Warning*: compute.thermo: given a group with 0 degrees of freedom.\n",
      "            overriding ndof=1 to avoid divide by 0 errors\n"
     ]
    },
    {
     "name": "stdout",
     "output_type": "stream",
     "text": [
      "** starting run **\n",
      "Time 00:00:00 | Step 0 / 0 | TPS 0 | ETA 00:00:00\n",
      "Average TPS: 0\n",
      "---------\n",
      "** run complete **\n",
      "notice(2): Group \"all\" created containing 1 particles\n",
      "notice(2): Notice: slj set d_max=210.0\n",
      "notice(2): integrate.langevin/bd is using specified gamma values\n"
     ]
    },
    {
     "name": "stderr",
     "output_type": "stream",
     "text": [
      "*Warning*: compute.thermo: given a group with 0 degrees of freedom.\n",
      "            overriding ndof=1 to avoid divide by 0 errors\n"
     ]
    },
    {
     "name": "stdout",
     "output_type": "stream",
     "text": [
      "** starting run **\n",
      "Time 00:00:00 | Step 0 / 0 | TPS 0 | ETA 00:00:00\n",
      "Average TPS: 0\n",
      "---------\n",
      "** run complete **\n",
      "notice(2): Group \"all\" created containing 1 particles\n",
      "notice(2): Notice: slj set d_max=210.0\n",
      "notice(2): integrate.langevin/bd is using specified gamma values\n"
     ]
    },
    {
     "name": "stderr",
     "output_type": "stream",
     "text": [
      "*Warning*: compute.thermo: given a group with 0 degrees of freedom.\n",
      "            overriding ndof=1 to avoid divide by 0 errors\n"
     ]
    },
    {
     "name": "stdout",
     "output_type": "stream",
     "text": [
      "** starting run **\n",
      "Time 00:00:00 | Step 0 / 0 | TPS 0 | ETA 00:00:00\n",
      "Average TPS: 0\n",
      "---------\n",
      "** run complete **\n",
      "notice(2): Group \"all\" created containing 1 particles\n",
      "notice(2): Notice: slj set d_max=210.0\n",
      "notice(2): integrate.langevin/bd is using specified gamma values\n"
     ]
    },
    {
     "name": "stderr",
     "output_type": "stream",
     "text": [
      "*Warning*: compute.thermo: given a group with 0 degrees of freedom.\n",
      "            overriding ndof=1 to avoid divide by 0 errors\n"
     ]
    },
    {
     "name": "stdout",
     "output_type": "stream",
     "text": [
      "** starting run **\n",
      "Time 00:00:00 | Step 0 / 0 | TPS 0 | ETA 00:00:00\n",
      "Average TPS: 0\n",
      "---------\n",
      "** run complete **\n",
      "notice(2): Group \"all\" created containing 1 particles\n",
      "notice(2): Notice: slj set d_max=210.0\n",
      "notice(2): integrate.langevin/bd is using specified gamma values\n"
     ]
    },
    {
     "name": "stderr",
     "output_type": "stream",
     "text": [
      "*Warning*: compute.thermo: given a group with 0 degrees of freedom.\n",
      "            overriding ndof=1 to avoid divide by 0 errors\n"
     ]
    },
    {
     "name": "stdout",
     "output_type": "stream",
     "text": [
      "** starting run **\n",
      "Time 00:00:00 | Step 0 / 0 | TPS 0 | ETA 00:00:00\n",
      "Average TPS: 0\n",
      "---------\n",
      "** run complete **\n",
      "notice(2): Group \"all\" created containing 1 particles\n",
      "notice(2): Notice: slj set d_max=210.0\n",
      "notice(2): integrate.langevin/bd is using specified gamma values\n"
     ]
    },
    {
     "name": "stderr",
     "output_type": "stream",
     "text": [
      "*Warning*: compute.thermo: given a group with 0 degrees of freedom.\n",
      "            overriding ndof=1 to avoid divide by 0 errors\n"
     ]
    },
    {
     "name": "stdout",
     "output_type": "stream",
     "text": [
      "** starting run **\n",
      "Time 00:00:00 | Step 0 / 0 | TPS 0 | ETA 00:00:00\n",
      "Average TPS: 0\n",
      "---------\n",
      "** run complete **\n",
      "notice(2): Group \"all\" created containing 1 particles\n",
      "notice(2): Notice: slj set d_max=210.0\n",
      "notice(2): integrate.langevin/bd is using specified gamma values\n"
     ]
    },
    {
     "name": "stderr",
     "output_type": "stream",
     "text": [
      "*Warning*: compute.thermo: given a group with 0 degrees of freedom.\n",
      "            overriding ndof=1 to avoid divide by 0 errors\n"
     ]
    },
    {
     "name": "stdout",
     "output_type": "stream",
     "text": [
      "** starting run **\n",
      "Time 00:00:00 | Step 0 / 0 | TPS 0 | ETA 00:00:00\n",
      "Average TPS: 0\n",
      "---------\n",
      "** run complete **\n",
      "notice(2): Group \"all\" created containing 1 particles\n",
      "notice(2): Notice: slj set d_max=210.0\n",
      "notice(2): integrate.langevin/bd is using specified gamma values\n"
     ]
    },
    {
     "name": "stderr",
     "output_type": "stream",
     "text": [
      "*Warning*: compute.thermo: given a group with 0 degrees of freedom.\n",
      "            overriding ndof=1 to avoid divide by 0 errors\n"
     ]
    },
    {
     "name": "stdout",
     "output_type": "stream",
     "text": [
      "** starting run **\n",
      "Time 00:00:00 | Step 0 / 0 | TPS 0 | ETA 00:00:00\n",
      "Average TPS: 0\n",
      "---------\n",
      "** run complete **\n",
      "notice(2): Group \"all\" created containing 1 particles\n",
      "notice(2): Notice: slj set d_max=210.0\n",
      "notice(2): integrate.langevin/bd is using specified gamma values\n"
     ]
    },
    {
     "name": "stderr",
     "output_type": "stream",
     "text": [
      "*Warning*: compute.thermo: given a group with 0 degrees of freedom.\n",
      "            overriding ndof=1 to avoid divide by 0 errors\n"
     ]
    },
    {
     "name": "stdout",
     "output_type": "stream",
     "text": [
      "** starting run **\n",
      "Time 00:00:00 | Step 0 / 0 | TPS 0 | ETA 00:00:00\n",
      "Average TPS: 0\n",
      "---------\n",
      "** run complete **\n",
      "notice(2): Group \"all\" created containing 1 particles\n",
      "notice(2): Notice: slj set d_max=210.0\n",
      "notice(2): integrate.langevin/bd is using specified gamma values\n"
     ]
    },
    {
     "name": "stderr",
     "output_type": "stream",
     "text": [
      "*Warning*: compute.thermo: given a group with 0 degrees of freedom.\n",
      "            overriding ndof=1 to avoid divide by 0 errors\n"
     ]
    },
    {
     "name": "stdout",
     "output_type": "stream",
     "text": [
      "** starting run **\n",
      "Time 00:00:00 | Step 0 / 0 | TPS 0 | ETA 00:00:00\n",
      "Average TPS: 0\n",
      "---------\n",
      "** run complete **\n",
      "notice(2): Group \"all\" created containing 1 particles\n",
      "notice(2): Notice: slj set d_max=210.0\n",
      "notice(2): integrate.langevin/bd is using specified gamma values\n"
     ]
    },
    {
     "name": "stderr",
     "output_type": "stream",
     "text": [
      "*Warning*: compute.thermo: given a group with 0 degrees of freedom.\n",
      "            overriding ndof=1 to avoid divide by 0 errors\n"
     ]
    },
    {
     "name": "stdout",
     "output_type": "stream",
     "text": [
      "** starting run **\n",
      "Time 00:00:00 | Step 0 / 0 | TPS 0 | ETA 00:00:00\n",
      "Average TPS: 0\n",
      "---------\n",
      "** run complete **\n",
      "notice(2): Group \"all\" created containing 1 particles\n",
      "notice(2): Notice: slj set d_max=210.0\n",
      "notice(2): integrate.langevin/bd is using specified gamma values\n"
     ]
    },
    {
     "name": "stderr",
     "output_type": "stream",
     "text": [
      "*Warning*: compute.thermo: given a group with 0 degrees of freedom.\n",
      "            overriding ndof=1 to avoid divide by 0 errors\n"
     ]
    },
    {
     "name": "stdout",
     "output_type": "stream",
     "text": [
      "** starting run **\n",
      "Time 00:00:00 | Step 0 / 0 | TPS 0 | ETA 00:00:00\n",
      "Average TPS: 0\n",
      "---------\n",
      "** run complete **\n",
      "notice(2): Group \"all\" created containing 1 particles\n",
      "notice(2): Notice: slj set d_max=210.0\n",
      "notice(2): integrate.langevin/bd is using specified gamma values\n"
     ]
    },
    {
     "name": "stderr",
     "output_type": "stream",
     "text": [
      "*Warning*: compute.thermo: given a group with 0 degrees of freedom.\n",
      "            overriding ndof=1 to avoid divide by 0 errors\n"
     ]
    },
    {
     "name": "stdout",
     "output_type": "stream",
     "text": [
      "** starting run **\n",
      "Time 00:00:00 | Step 0 / 0 | TPS 0 | ETA 00:00:00\n",
      "Average TPS: 0\n",
      "---------\n",
      "** run complete **\n",
      "notice(2): Group \"all\" created containing 1 particles\n",
      "notice(2): Notice: slj set d_max=210.0\n",
      "notice(2): integrate.langevin/bd is using specified gamma values\n"
     ]
    },
    {
     "name": "stderr",
     "output_type": "stream",
     "text": [
      "*Warning*: compute.thermo: given a group with 0 degrees of freedom.\n",
      "            overriding ndof=1 to avoid divide by 0 errors\n"
     ]
    },
    {
     "name": "stdout",
     "output_type": "stream",
     "text": [
      "** starting run **\n",
      "Time 00:00:00 | Step 0 / 0 | TPS 0 | ETA 00:00:00\n",
      "Average TPS: 0\n",
      "---------\n",
      "** run complete **\n",
      "notice(2): Group \"all\" created containing 1 particles\n",
      "notice(2): Notice: slj set d_max=210.0\n",
      "notice(2): integrate.langevin/bd is using specified gamma values\n"
     ]
    },
    {
     "name": "stderr",
     "output_type": "stream",
     "text": [
      "*Warning*: compute.thermo: given a group with 0 degrees of freedom.\n",
      "            overriding ndof=1 to avoid divide by 0 errors\n"
     ]
    },
    {
     "name": "stdout",
     "output_type": "stream",
     "text": [
      "** starting run **\n",
      "Time 00:00:00 | Step 0 / 0 | TPS 0 | ETA 00:00:00\n",
      "Average TPS: 0\n",
      "---------\n",
      "** run complete **\n",
      "notice(2): Group \"all\" created containing 1 particles\n",
      "notice(2): Notice: slj set d_max=210.0\n",
      "notice(2): integrate.langevin/bd is using specified gamma values\n"
     ]
    },
    {
     "name": "stderr",
     "output_type": "stream",
     "text": [
      "*Warning*: compute.thermo: given a group with 0 degrees of freedom.\n",
      "            overriding ndof=1 to avoid divide by 0 errors\n"
     ]
    },
    {
     "name": "stdout",
     "output_type": "stream",
     "text": [
      "** starting run **\n",
      "Time 00:00:00 | Step 0 / 0 | TPS 0 | ETA 00:00:00\n",
      "Average TPS: 0\n",
      "---------\n",
      "** run complete **\n",
      "notice(2): Group \"all\" created containing 1 particles\n",
      "notice(2): Notice: slj set d_max=210.0\n",
      "notice(2): integrate.langevin/bd is using specified gamma values\n"
     ]
    },
    {
     "name": "stderr",
     "output_type": "stream",
     "text": [
      "*Warning*: compute.thermo: given a group with 0 degrees of freedom.\n",
      "            overriding ndof=1 to avoid divide by 0 errors\n"
     ]
    },
    {
     "name": "stdout",
     "output_type": "stream",
     "text": [
      "** starting run **\n",
      "Time 00:00:00 | Step 0 / 0 | TPS 0 | ETA 00:00:00\n",
      "Average TPS: 0\n",
      "---------\n",
      "** run complete **\n",
      "notice(2): Group \"all\" created containing 1 particles\n",
      "notice(2): Notice: slj set d_max=210.0\n",
      "notice(2): integrate.langevin/bd is using specified gamma values\n"
     ]
    },
    {
     "name": "stderr",
     "output_type": "stream",
     "text": [
      "*Warning*: compute.thermo: given a group with 0 degrees of freedom.\n",
      "            overriding ndof=1 to avoid divide by 0 errors\n"
     ]
    },
    {
     "name": "stdout",
     "output_type": "stream",
     "text": [
      "** starting run **\n",
      "Time 00:00:00 | Step 0 / 0 | TPS 0 | ETA 00:00:00\n",
      "Average TPS: 0\n",
      "---------\n",
      "** run complete **\n",
      "notice(2): Group \"all\" created containing 1 particles\n",
      "notice(2): Notice: slj set d_max=210.0\n",
      "notice(2): integrate.langevin/bd is using specified gamma values\n"
     ]
    },
    {
     "name": "stderr",
     "output_type": "stream",
     "text": [
      "*Warning*: compute.thermo: given a group with 0 degrees of freedom.\n",
      "            overriding ndof=1 to avoid divide by 0 errors\n"
     ]
    },
    {
     "name": "stdout",
     "output_type": "stream",
     "text": [
      "** starting run **\n",
      "Time 00:00:00 | Step 0 / 0 | TPS 0 | ETA 00:00:00\n",
      "Average TPS: 0\n",
      "---------\n",
      "** run complete **\n",
      "notice(2): Group \"all\" created containing 1 particles\n",
      "notice(2): Notice: slj set d_max=210.0\n",
      "notice(2): integrate.langevin/bd is using specified gamma values\n"
     ]
    },
    {
     "name": "stderr",
     "output_type": "stream",
     "text": [
      "*Warning*: compute.thermo: given a group with 0 degrees of freedom.\n",
      "            overriding ndof=1 to avoid divide by 0 errors\n"
     ]
    },
    {
     "name": "stdout",
     "output_type": "stream",
     "text": [
      "** starting run **\n",
      "Time 00:00:00 | Step 0 / 0 | TPS 0 | ETA 00:00:00\n",
      "Average TPS: 0\n",
      "---------\n",
      "** run complete **\n",
      "notice(2): Group \"all\" created containing 1 particles\n",
      "notice(2): Notice: slj set d_max=210.0\n",
      "notice(2): integrate.langevin/bd is using specified gamma values\n"
     ]
    },
    {
     "name": "stderr",
     "output_type": "stream",
     "text": [
      "*Warning*: compute.thermo: given a group with 0 degrees of freedom.\n",
      "            overriding ndof=1 to avoid divide by 0 errors\n"
     ]
    },
    {
     "name": "stdout",
     "output_type": "stream",
     "text": [
      "** starting run **\n",
      "Time 00:00:00 | Step 0 / 0 | TPS 0 | ETA 00:00:00\n",
      "Average TPS: 0\n",
      "---------\n",
      "** run complete **\n",
      "notice(2): Group \"all\" created containing 1 particles\n",
      "notice(2): Notice: slj set d_max=210.0\n",
      "notice(2): integrate.langevin/bd is using specified gamma values\n"
     ]
    },
    {
     "name": "stderr",
     "output_type": "stream",
     "text": [
      "*Warning*: compute.thermo: given a group with 0 degrees of freedom.\n",
      "            overriding ndof=1 to avoid divide by 0 errors\n"
     ]
    },
    {
     "name": "stdout",
     "output_type": "stream",
     "text": [
      "** starting run **\n",
      "Time 00:00:00 | Step 0 / 0 | TPS 0 | ETA 00:00:00\n",
      "Average TPS: 0\n",
      "---------\n",
      "** run complete **\n",
      "notice(2): Group \"all\" created containing 1 particles\n",
      "notice(2): Notice: slj set d_max=210.0\n",
      "notice(2): integrate.langevin/bd is using specified gamma values\n"
     ]
    },
    {
     "name": "stderr",
     "output_type": "stream",
     "text": [
      "*Warning*: compute.thermo: given a group with 0 degrees of freedom.\n",
      "            overriding ndof=1 to avoid divide by 0 errors\n"
     ]
    },
    {
     "name": "stdout",
     "output_type": "stream",
     "text": [
      "** starting run **\n",
      "Time 00:00:00 | Step 0 / 0 | TPS 0 | ETA 00:00:00\n",
      "Average TPS: 0\n",
      "---------\n",
      "** run complete **\n",
      "notice(2): Group \"all\" created containing 1 particles\n",
      "notice(2): Notice: slj set d_max=210.0\n",
      "notice(2): integrate.langevin/bd is using specified gamma values\n"
     ]
    },
    {
     "name": "stderr",
     "output_type": "stream",
     "text": [
      "*Warning*: compute.thermo: given a group with 0 degrees of freedom.\n",
      "            overriding ndof=1 to avoid divide by 0 errors\n"
     ]
    },
    {
     "name": "stdout",
     "output_type": "stream",
     "text": [
      "** starting run **\n",
      "Time 00:00:00 | Step 0 / 0 | TPS 0 | ETA 00:00:00\n",
      "Average TPS: 0\n",
      "---------\n",
      "** run complete **\n",
      "notice(2): Group \"all\" created containing 1 particles\n",
      "notice(2): Notice: slj set d_max=210.0\n",
      "notice(2): integrate.langevin/bd is using specified gamma values\n"
     ]
    },
    {
     "name": "stderr",
     "output_type": "stream",
     "text": [
      "*Warning*: compute.thermo: given a group with 0 degrees of freedom.\n",
      "            overriding ndof=1 to avoid divide by 0 errors\n"
     ]
    },
    {
     "name": "stdout",
     "output_type": "stream",
     "text": [
      "** starting run **\n",
      "Time 00:00:00 | Step 0 / 0 | TPS 0 | ETA 00:00:00\n",
      "Average TPS: 0\n",
      "---------\n",
      "** run complete **\n",
      "notice(2): Group \"all\" created containing 1 particles\n",
      "notice(2): Notice: slj set d_max=210.0\n",
      "notice(2): integrate.langevin/bd is using specified gamma values\n"
     ]
    },
    {
     "name": "stderr",
     "output_type": "stream",
     "text": [
      "*Warning*: compute.thermo: given a group with 0 degrees of freedom.\n",
      "            overriding ndof=1 to avoid divide by 0 errors\n"
     ]
    },
    {
     "name": "stdout",
     "output_type": "stream",
     "text": [
      "** starting run **\n",
      "Time 00:00:00 | Step 0 / 0 | TPS 0 | ETA 00:00:00\n",
      "Average TPS: 0\n",
      "---------\n",
      "** run complete **\n",
      "notice(2): Group \"all\" created containing 1 particles\n",
      "notice(2): Notice: slj set d_max=210.0\n",
      "notice(2): integrate.langevin/bd is using specified gamma values\n"
     ]
    },
    {
     "name": "stderr",
     "output_type": "stream",
     "text": [
      "*Warning*: compute.thermo: given a group with 0 degrees of freedom.\n",
      "            overriding ndof=1 to avoid divide by 0 errors\n"
     ]
    },
    {
     "name": "stdout",
     "output_type": "stream",
     "text": [
      "** starting run **\n",
      "Time 00:00:00 | Step 0 / 0 | TPS 0 | ETA 00:00:00\n",
      "Average TPS: 0\n",
      "---------\n",
      "** run complete **\n",
      "notice(2): Group \"all\" created containing 1 particles\n",
      "notice(2): Notice: slj set d_max=210.0\n",
      "notice(2): integrate.langevin/bd is using specified gamma values\n"
     ]
    },
    {
     "name": "stderr",
     "output_type": "stream",
     "text": [
      "*Warning*: compute.thermo: given a group with 0 degrees of freedom.\n",
      "            overriding ndof=1 to avoid divide by 0 errors\n"
     ]
    },
    {
     "name": "stdout",
     "output_type": "stream",
     "text": [
      "** starting run **\n",
      "Time 00:00:00 | Step 0 / 0 | TPS 0 | ETA 00:00:00\n",
      "Average TPS: 0\n",
      "---------\n",
      "** run complete **\n",
      "notice(2): Group \"all\" created containing 1 particles\n",
      "notice(2): Notice: slj set d_max=210.0\n",
      "notice(2): integrate.langevin/bd is using specified gamma values\n"
     ]
    },
    {
     "name": "stderr",
     "output_type": "stream",
     "text": [
      "*Warning*: compute.thermo: given a group with 0 degrees of freedom.\n",
      "            overriding ndof=1 to avoid divide by 0 errors\n"
     ]
    },
    {
     "name": "stdout",
     "output_type": "stream",
     "text": [
      "** starting run **\n",
      "Time 00:00:00 | Step 0 / 0 | TPS 0 | ETA 00:00:00\n",
      "Average TPS: 0\n",
      "---------\n",
      "** run complete **\n",
      "notice(2): Group \"all\" created containing 1 particles\n",
      "notice(2): Notice: slj set d_max=210.0\n",
      "notice(2): integrate.langevin/bd is using specified gamma values\n"
     ]
    },
    {
     "name": "stderr",
     "output_type": "stream",
     "text": [
      "*Warning*: compute.thermo: given a group with 0 degrees of freedom.\n",
      "            overriding ndof=1 to avoid divide by 0 errors\n"
     ]
    },
    {
     "name": "stdout",
     "output_type": "stream",
     "text": [
      "** starting run **\n",
      "Time 00:00:00 | Step 0 / 0 | TPS 0 | ETA 00:00:00\n",
      "Average TPS: 0\n",
      "---------\n",
      "** run complete **\n",
      "notice(2): Group \"all\" created containing 1 particles\n",
      "notice(2): Notice: slj set d_max=210.0\n",
      "notice(2): integrate.langevin/bd is using specified gamma values\n"
     ]
    },
    {
     "name": "stderr",
     "output_type": "stream",
     "text": [
      "*Warning*: compute.thermo: given a group with 0 degrees of freedom.\n",
      "            overriding ndof=1 to avoid divide by 0 errors\n"
     ]
    },
    {
     "name": "stdout",
     "output_type": "stream",
     "text": [
      "** starting run **\n",
      "Time 00:00:00 | Step 0 / 0 | TPS 0 | ETA 00:00:00\n",
      "Average TPS: 0\n",
      "---------\n",
      "** run complete **\n",
      "notice(2): Group \"all\" created containing 1 particles\n",
      "notice(2): Notice: slj set d_max=210.0\n",
      "notice(2): integrate.langevin/bd is using specified gamma values\n"
     ]
    },
    {
     "name": "stderr",
     "output_type": "stream",
     "text": [
      "*Warning*: compute.thermo: given a group with 0 degrees of freedom.\n",
      "            overriding ndof=1 to avoid divide by 0 errors\n"
     ]
    },
    {
     "name": "stdout",
     "output_type": "stream",
     "text": [
      "** starting run **\n",
      "Time 00:00:00 | Step 0 / 0 | TPS 0 | ETA 00:00:00\n",
      "Average TPS: 0\n",
      "---------\n",
      "** run complete **\n",
      "notice(2): Group \"all\" created containing 1 particles\n",
      "notice(2): Notice: slj set d_max=210.0\n",
      "notice(2): integrate.langevin/bd is using specified gamma values\n"
     ]
    },
    {
     "name": "stderr",
     "output_type": "stream",
     "text": [
      "*Warning*: compute.thermo: given a group with 0 degrees of freedom.\n",
      "            overriding ndof=1 to avoid divide by 0 errors\n"
     ]
    },
    {
     "name": "stdout",
     "output_type": "stream",
     "text": [
      "** starting run **\n",
      "Time 00:00:00 | Step 0 / 0 | TPS 0 | ETA 00:00:00\n",
      "Average TPS: 0\n",
      "---------\n",
      "** run complete **\n",
      "notice(2): Group \"all\" created containing 1 particles\n",
      "notice(2): Notice: slj set d_max=210.0\n",
      "notice(2): integrate.langevin/bd is using specified gamma values\n"
     ]
    },
    {
     "name": "stderr",
     "output_type": "stream",
     "text": [
      "*Warning*: compute.thermo: given a group with 0 degrees of freedom.\n",
      "            overriding ndof=1 to avoid divide by 0 errors\n"
     ]
    },
    {
     "name": "stdout",
     "output_type": "stream",
     "text": [
      "** starting run **\n",
      "Time 00:00:00 | Step 0 / 0 | TPS 0 | ETA 00:00:00\n",
      "Average TPS: 0\n",
      "---------\n",
      "** run complete **\n",
      "notice(2): Group \"all\" created containing 1 particles\n",
      "notice(2): Notice: slj set d_max=210.0\n",
      "notice(2): integrate.langevin/bd is using specified gamma values\n"
     ]
    },
    {
     "name": "stderr",
     "output_type": "stream",
     "text": [
      "*Warning*: compute.thermo: given a group with 0 degrees of freedom.\n",
      "            overriding ndof=1 to avoid divide by 0 errors\n"
     ]
    },
    {
     "name": "stdout",
     "output_type": "stream",
     "text": [
      "** starting run **\n",
      "Time 00:00:00 | Step 0 / 0 | TPS 0 | ETA 00:00:00\n",
      "Average TPS: 0\n",
      "---------\n",
      "** run complete **\n",
      "notice(2): Group \"all\" created containing 1 particles\n",
      "notice(2): Notice: slj set d_max=210.0\n",
      "notice(2): integrate.langevin/bd is using specified gamma values\n"
     ]
    },
    {
     "name": "stderr",
     "output_type": "stream",
     "text": [
      "*Warning*: compute.thermo: given a group with 0 degrees of freedom.\n",
      "            overriding ndof=1 to avoid divide by 0 errors\n"
     ]
    },
    {
     "name": "stdout",
     "output_type": "stream",
     "text": [
      "** starting run **\n",
      "Time 00:00:00 | Step 0 / 0 | TPS 0 | ETA 00:00:00\n",
      "Average TPS: 0\n",
      "---------\n",
      "** run complete **\n",
      "notice(2): Group \"all\" created containing 1 particles\n",
      "notice(2): Notice: slj set d_max=210.0\n",
      "notice(2): integrate.langevin/bd is using specified gamma values\n"
     ]
    },
    {
     "name": "stderr",
     "output_type": "stream",
     "text": [
      "*Warning*: compute.thermo: given a group with 0 degrees of freedom.\n",
      "            overriding ndof=1 to avoid divide by 0 errors\n"
     ]
    },
    {
     "name": "stdout",
     "output_type": "stream",
     "text": [
      "** starting run **\n",
      "Time 00:00:00 | Step 0 / 0 | TPS 0 | ETA 00:00:00\n",
      "Average TPS: 0\n",
      "---------\n",
      "** run complete **\n",
      "notice(2): Group \"all\" created containing 1 particles\n",
      "notice(2): Notice: slj set d_max=210.0\n",
      "notice(2): integrate.langevin/bd is using specified gamma values\n"
     ]
    },
    {
     "name": "stderr",
     "output_type": "stream",
     "text": [
      "*Warning*: compute.thermo: given a group with 0 degrees of freedom.\n",
      "            overriding ndof=1 to avoid divide by 0 errors\n"
     ]
    },
    {
     "name": "stdout",
     "output_type": "stream",
     "text": [
      "** starting run **\n",
      "Time 00:00:00 | Step 0 / 0 | TPS 0 | ETA 00:00:00\n",
      "Average TPS: 0\n",
      "---------\n",
      "** run complete **\n",
      "notice(2): Group \"all\" created containing 1 particles\n",
      "notice(2): Notice: slj set d_max=210.0\n",
      "notice(2): integrate.langevin/bd is using specified gamma values\n"
     ]
    },
    {
     "name": "stderr",
     "output_type": "stream",
     "text": [
      "*Warning*: compute.thermo: given a group with 0 degrees of freedom.\n",
      "            overriding ndof=1 to avoid divide by 0 errors\n"
     ]
    },
    {
     "name": "stdout",
     "output_type": "stream",
     "text": [
      "** starting run **\n",
      "Time 00:00:00 | Step 0 / 0 | TPS 0 | ETA 00:00:00\n",
      "Average TPS: 0\n",
      "---------\n",
      "** run complete **\n",
      "notice(2): Group \"all\" created containing 1 particles\n",
      "notice(2): Notice: slj set d_max=210.0\n",
      "notice(2): integrate.langevin/bd is using specified gamma values\n"
     ]
    },
    {
     "name": "stderr",
     "output_type": "stream",
     "text": [
      "*Warning*: compute.thermo: given a group with 0 degrees of freedom.\n",
      "            overriding ndof=1 to avoid divide by 0 errors\n"
     ]
    },
    {
     "name": "stdout",
     "output_type": "stream",
     "text": [
      "** starting run **\n",
      "Time 00:00:00 | Step 0 / 0 | TPS 0 | ETA 00:00:00\n",
      "Average TPS: 0\n",
      "---------\n",
      "** run complete **\n",
      "notice(2): Group \"all\" created containing 1 particles\n",
      "notice(2): Notice: slj set d_max=210.0\n",
      "notice(2): integrate.langevin/bd is using specified gamma values\n"
     ]
    },
    {
     "name": "stderr",
     "output_type": "stream",
     "text": [
      "*Warning*: compute.thermo: given a group with 0 degrees of freedom.\n",
      "            overriding ndof=1 to avoid divide by 0 errors\n"
     ]
    },
    {
     "name": "stdout",
     "output_type": "stream",
     "text": [
      "** starting run **\n",
      "Time 00:00:00 | Step 0 / 0 | TPS 0 | ETA 00:00:00\n",
      "Average TPS: 0\n",
      "---------\n",
      "** run complete **\n",
      "notice(2): Group \"all\" created containing 1 particles\n",
      "notice(2): Notice: slj set d_max=210.0\n",
      "notice(2): integrate.langevin/bd is using specified gamma values\n"
     ]
    },
    {
     "name": "stderr",
     "output_type": "stream",
     "text": [
      "*Warning*: compute.thermo: given a group with 0 degrees of freedom.\n",
      "            overriding ndof=1 to avoid divide by 0 errors\n"
     ]
    },
    {
     "name": "stdout",
     "output_type": "stream",
     "text": [
      "** starting run **\n",
      "Time 00:00:00 | Step 0 / 0 | TPS 0 | ETA 00:00:00\n",
      "Average TPS: 0\n",
      "---------\n",
      "** run complete **\n",
      "notice(2): Group \"all\" created containing 1 particles\n",
      "notice(2): Notice: slj set d_max=210.0\n",
      "notice(2): integrate.langevin/bd is using specified gamma values\n"
     ]
    },
    {
     "name": "stderr",
     "output_type": "stream",
     "text": [
      "*Warning*: compute.thermo: given a group with 0 degrees of freedom.\n",
      "            overriding ndof=1 to avoid divide by 0 errors\n"
     ]
    },
    {
     "name": "stdout",
     "output_type": "stream",
     "text": [
      "** starting run **\n",
      "Time 00:00:00 | Step 0 / 0 | TPS 0 | ETA 00:00:00\n",
      "Average TPS: 0\n",
      "---------\n",
      "** run complete **\n",
      "notice(2): Group \"all\" created containing 1 particles\n",
      "notice(2): Notice: slj set d_max=210.0\n",
      "notice(2): integrate.langevin/bd is using specified gamma values\n"
     ]
    },
    {
     "name": "stderr",
     "output_type": "stream",
     "text": [
      "*Warning*: compute.thermo: given a group with 0 degrees of freedom.\n",
      "            overriding ndof=1 to avoid divide by 0 errors\n"
     ]
    },
    {
     "name": "stdout",
     "output_type": "stream",
     "text": [
      "** starting run **\n",
      "Time 00:00:00 | Step 0 / 0 | TPS 0 | ETA 00:00:00\n",
      "Average TPS: 0\n",
      "---------\n",
      "** run complete **\n",
      "notice(2): Group \"all\" created containing 1 particles\n",
      "notice(2): Notice: slj set d_max=210.0\n",
      "notice(2): integrate.langevin/bd is using specified gamma values\n"
     ]
    },
    {
     "name": "stderr",
     "output_type": "stream",
     "text": [
      "*Warning*: compute.thermo: given a group with 0 degrees of freedom.\n",
      "            overriding ndof=1 to avoid divide by 0 errors\n"
     ]
    },
    {
     "name": "stdout",
     "output_type": "stream",
     "text": [
      "** starting run **\n",
      "Time 00:00:00 | Step 0 / 0 | TPS 0 | ETA 00:00:00\n",
      "Average TPS: 0\n",
      "---------\n",
      "** run complete **\n",
      "notice(2): Group \"all\" created containing 1 particles\n",
      "notice(2): Notice: slj set d_max=210.0\n",
      "notice(2): integrate.langevin/bd is using specified gamma values\n"
     ]
    },
    {
     "name": "stderr",
     "output_type": "stream",
     "text": [
      "*Warning*: compute.thermo: given a group with 0 degrees of freedom.\n",
      "            overriding ndof=1 to avoid divide by 0 errors\n"
     ]
    },
    {
     "name": "stdout",
     "output_type": "stream",
     "text": [
      "** starting run **\n",
      "Time 00:00:00 | Step 0 / 0 | TPS 0 | ETA 00:00:00\n",
      "Average TPS: 0\n",
      "---------\n",
      "** run complete **\n",
      "notice(2): Group \"all\" created containing 1 particles\n",
      "notice(2): Notice: slj set d_max=210.0\n",
      "notice(2): integrate.langevin/bd is using specified gamma values\n"
     ]
    },
    {
     "name": "stderr",
     "output_type": "stream",
     "text": [
      "*Warning*: compute.thermo: given a group with 0 degrees of freedom.\n",
      "            overriding ndof=1 to avoid divide by 0 errors\n"
     ]
    },
    {
     "name": "stdout",
     "output_type": "stream",
     "text": [
      "** starting run **\n",
      "Time 00:00:00 | Step 0 / 0 | TPS 0 | ETA 00:00:00\n",
      "Average TPS: 0\n",
      "---------\n",
      "** run complete **\n",
      "notice(2): Group \"all\" created containing 1 particles\n",
      "notice(2): Notice: slj set d_max=210.0\n",
      "notice(2): integrate.langevin/bd is using specified gamma values\n"
     ]
    },
    {
     "name": "stderr",
     "output_type": "stream",
     "text": [
      "*Warning*: compute.thermo: given a group with 0 degrees of freedom.\n",
      "            overriding ndof=1 to avoid divide by 0 errors\n"
     ]
    },
    {
     "name": "stdout",
     "output_type": "stream",
     "text": [
      "** starting run **\n",
      "Time 00:00:00 | Step 0 / 0 | TPS 0 | ETA 00:00:00\n",
      "Average TPS: 0\n",
      "---------\n",
      "** run complete **\n",
      "notice(2): Group \"all\" created containing 1 particles\n",
      "notice(2): Notice: slj set d_max=210.0\n",
      "notice(2): integrate.langevin/bd is using specified gamma values\n"
     ]
    },
    {
     "name": "stderr",
     "output_type": "stream",
     "text": [
      "*Warning*: compute.thermo: given a group with 0 degrees of freedom.\n",
      "            overriding ndof=1 to avoid divide by 0 errors\n"
     ]
    },
    {
     "name": "stdout",
     "output_type": "stream",
     "text": [
      "** starting run **\n",
      "Time 00:00:00 | Step 0 / 0 | TPS 0 | ETA 00:00:00\n",
      "Average TPS: 0\n",
      "---------\n",
      "** run complete **\n",
      "notice(2): Group \"all\" created containing 1 particles\n",
      "notice(2): Notice: slj set d_max=210.0\n",
      "notice(2): integrate.langevin/bd is using specified gamma values\n"
     ]
    },
    {
     "name": "stderr",
     "output_type": "stream",
     "text": [
      "*Warning*: compute.thermo: given a group with 0 degrees of freedom.\n",
      "            overriding ndof=1 to avoid divide by 0 errors\n"
     ]
    },
    {
     "name": "stdout",
     "output_type": "stream",
     "text": [
      "** starting run **\n",
      "Time 00:00:00 | Step 0 / 0 | TPS 0 | ETA 00:00:00\n",
      "Average TPS: 0\n",
      "---------\n",
      "** run complete **\n",
      "notice(2): Group \"all\" created containing 1 particles\n",
      "notice(2): Notice: slj set d_max=210.0\n",
      "notice(2): integrate.langevin/bd is using specified gamma values\n"
     ]
    },
    {
     "name": "stderr",
     "output_type": "stream",
     "text": [
      "*Warning*: compute.thermo: given a group with 0 degrees of freedom.\n",
      "            overriding ndof=1 to avoid divide by 0 errors\n"
     ]
    },
    {
     "name": "stdout",
     "output_type": "stream",
     "text": [
      "** starting run **\n",
      "Time 00:00:00 | Step 0 / 0 | TPS 0 | ETA 00:00:00\n",
      "Average TPS: 0\n",
      "---------\n",
      "** run complete **\n",
      "notice(2): Group \"all\" created containing 1 particles\n",
      "notice(2): Notice: slj set d_max=210.0\n",
      "notice(2): integrate.langevin/bd is using specified gamma values\n"
     ]
    },
    {
     "name": "stderr",
     "output_type": "stream",
     "text": [
      "*Warning*: compute.thermo: given a group with 0 degrees of freedom.\n",
      "            overriding ndof=1 to avoid divide by 0 errors\n"
     ]
    },
    {
     "name": "stdout",
     "output_type": "stream",
     "text": [
      "** starting run **\n",
      "Time 00:00:00 | Step 0 / 0 | TPS 0 | ETA 00:00:00\n",
      "Average TPS: 0\n",
      "---------\n",
      "** run complete **\n",
      "notice(2): Group \"all\" created containing 1 particles\n",
      "notice(2): Notice: slj set d_max=210.0\n",
      "notice(2): integrate.langevin/bd is using specified gamma values\n"
     ]
    },
    {
     "name": "stderr",
     "output_type": "stream",
     "text": [
      "*Warning*: compute.thermo: given a group with 0 degrees of freedom.\n",
      "            overriding ndof=1 to avoid divide by 0 errors\n"
     ]
    },
    {
     "name": "stdout",
     "output_type": "stream",
     "text": [
      "** starting run **\n",
      "Time 00:00:00 | Step 0 / 0 | TPS 0 | ETA 00:00:00\n",
      "Average TPS: 0\n",
      "---------\n",
      "** run complete **\n",
      "notice(2): Group \"all\" created containing 1 particles\n",
      "notice(2): Notice: slj set d_max=210.0\n",
      "notice(2): integrate.langevin/bd is using specified gamma values\n"
     ]
    },
    {
     "name": "stderr",
     "output_type": "stream",
     "text": [
      "*Warning*: compute.thermo: given a group with 0 degrees of freedom.\n",
      "            overriding ndof=1 to avoid divide by 0 errors\n"
     ]
    },
    {
     "name": "stdout",
     "output_type": "stream",
     "text": [
      "** starting run **\n",
      "Time 00:00:00 | Step 0 / 0 | TPS 0 | ETA 00:00:00\n",
      "Average TPS: 0\n",
      "---------\n",
      "** run complete **\n",
      "notice(2): Group \"all\" created containing 1 particles\n",
      "notice(2): Notice: slj set d_max=210.0\n",
      "notice(2): integrate.langevin/bd is using specified gamma values\n"
     ]
    },
    {
     "name": "stderr",
     "output_type": "stream",
     "text": [
      "*Warning*: compute.thermo: given a group with 0 degrees of freedom.\n",
      "            overriding ndof=1 to avoid divide by 0 errors\n"
     ]
    },
    {
     "name": "stdout",
     "output_type": "stream",
     "text": [
      "** starting run **\n",
      "Time 00:00:00 | Step 0 / 0 | TPS 0 | ETA 00:00:00\n",
      "Average TPS: 0\n",
      "---------\n",
      "** run complete **\n",
      "notice(2): Group \"all\" created containing 1 particles\n",
      "notice(2): Notice: slj set d_max=210.0\n",
      "notice(2): integrate.langevin/bd is using specified gamma values\n"
     ]
    },
    {
     "name": "stderr",
     "output_type": "stream",
     "text": [
      "*Warning*: compute.thermo: given a group with 0 degrees of freedom.\n",
      "            overriding ndof=1 to avoid divide by 0 errors\n"
     ]
    },
    {
     "name": "stdout",
     "output_type": "stream",
     "text": [
      "** starting run **\n",
      "Time 00:00:00 | Step 0 / 0 | TPS 0 | ETA 00:00:00\n",
      "Average TPS: 0\n",
      "---------\n",
      "** run complete **\n",
      "notice(2): Group \"all\" created containing 1 particles\n",
      "notice(2): Notice: slj set d_max=210.0\n",
      "notice(2): integrate.langevin/bd is using specified gamma values\n"
     ]
    },
    {
     "name": "stderr",
     "output_type": "stream",
     "text": [
      "*Warning*: compute.thermo: given a group with 0 degrees of freedom.\n",
      "            overriding ndof=1 to avoid divide by 0 errors\n"
     ]
    },
    {
     "name": "stdout",
     "output_type": "stream",
     "text": [
      "** starting run **\n",
      "Time 00:00:00 | Step 0 / 0 | TPS 0 | ETA 00:00:00\n",
      "Average TPS: 0\n",
      "---------\n",
      "** run complete **\n",
      "notice(2): Group \"all\" created containing 1 particles\n",
      "notice(2): Notice: slj set d_max=210.0\n",
      "notice(2): integrate.langevin/bd is using specified gamma values\n"
     ]
    },
    {
     "name": "stderr",
     "output_type": "stream",
     "text": [
      "*Warning*: compute.thermo: given a group with 0 degrees of freedom.\n",
      "            overriding ndof=1 to avoid divide by 0 errors\n"
     ]
    },
    {
     "name": "stdout",
     "output_type": "stream",
     "text": [
      "** starting run **\n",
      "Time 00:00:00 | Step 0 / 0 | TPS 0 | ETA 00:00:00\n",
      "Average TPS: 0\n",
      "---------\n",
      "** run complete **\n",
      "notice(2): Group \"all\" created containing 1 particles\n",
      "notice(2): Notice: slj set d_max=210.0\n",
      "notice(2): integrate.langevin/bd is using specified gamma values\n"
     ]
    },
    {
     "name": "stderr",
     "output_type": "stream",
     "text": [
      "*Warning*: compute.thermo: given a group with 0 degrees of freedom.\n",
      "            overriding ndof=1 to avoid divide by 0 errors\n"
     ]
    },
    {
     "name": "stdout",
     "output_type": "stream",
     "text": [
      "** starting run **\n",
      "Time 00:00:00 | Step 0 / 0 | TPS 0 | ETA 00:00:00\n",
      "Average TPS: 0\n",
      "---------\n",
      "** run complete **\n",
      "notice(2): Group \"all\" created containing 1 particles\n",
      "notice(2): Notice: slj set d_max=210.0\n",
      "notice(2): integrate.langevin/bd is using specified gamma values\n"
     ]
    },
    {
     "name": "stderr",
     "output_type": "stream",
     "text": [
      "*Warning*: compute.thermo: given a group with 0 degrees of freedom.\n",
      "            overriding ndof=1 to avoid divide by 0 errors\n"
     ]
    },
    {
     "name": "stdout",
     "output_type": "stream",
     "text": [
      "** starting run **\n",
      "Time 00:00:00 | Step 0 / 0 | TPS 0 | ETA 00:00:00\n",
      "Average TPS: 0\n",
      "---------\n",
      "** run complete **\n",
      "notice(2): Group \"all\" created containing 1 particles\n",
      "notice(2): Notice: slj set d_max=210.0\n",
      "notice(2): integrate.langevin/bd is using specified gamma values\n"
     ]
    },
    {
     "name": "stderr",
     "output_type": "stream",
     "text": [
      "*Warning*: compute.thermo: given a group with 0 degrees of freedom.\n",
      "            overriding ndof=1 to avoid divide by 0 errors\n"
     ]
    },
    {
     "name": "stdout",
     "output_type": "stream",
     "text": [
      "** starting run **\n",
      "Time 00:00:00 | Step 0 / 0 | TPS 0 | ETA 00:00:00\n",
      "Average TPS: 0\n",
      "---------\n",
      "** run complete **\n",
      "notice(2): Group \"all\" created containing 1 particles\n",
      "notice(2): Notice: slj set d_max=210.0\n",
      "notice(2): integrate.langevin/bd is using specified gamma values\n"
     ]
    },
    {
     "name": "stderr",
     "output_type": "stream",
     "text": [
      "*Warning*: compute.thermo: given a group with 0 degrees of freedom.\n",
      "            overriding ndof=1 to avoid divide by 0 errors\n"
     ]
    },
    {
     "name": "stdout",
     "output_type": "stream",
     "text": [
      "** starting run **\n",
      "Time 00:00:00 | Step 0 / 0 | TPS 0 | ETA 00:00:00\n",
      "Average TPS: 0\n",
      "---------\n",
      "** run complete **\n",
      "notice(2): Group \"all\" created containing 1 particles\n",
      "notice(2): Notice: slj set d_max=210.0\n",
      "notice(2): integrate.langevin/bd is using specified gamma values\n"
     ]
    },
    {
     "name": "stderr",
     "output_type": "stream",
     "text": [
      "*Warning*: compute.thermo: given a group with 0 degrees of freedom.\n",
      "            overriding ndof=1 to avoid divide by 0 errors\n"
     ]
    },
    {
     "name": "stdout",
     "output_type": "stream",
     "text": [
      "** starting run **\n",
      "Time 00:00:00 | Step 0 / 0 | TPS 0 | ETA 00:00:00\n",
      "Average TPS: 0\n",
      "---------\n",
      "** run complete **\n",
      "notice(2): Group \"all\" created containing 1 particles\n",
      "notice(2): Notice: slj set d_max=210.0\n",
      "notice(2): integrate.langevin/bd is using specified gamma values\n"
     ]
    },
    {
     "name": "stderr",
     "output_type": "stream",
     "text": [
      "*Warning*: compute.thermo: given a group with 0 degrees of freedom.\n",
      "            overriding ndof=1 to avoid divide by 0 errors\n"
     ]
    },
    {
     "name": "stdout",
     "output_type": "stream",
     "text": [
      "** starting run **\n",
      "Time 00:00:00 | Step 0 / 0 | TPS 0 | ETA 00:00:00\n",
      "Average TPS: 0\n",
      "---------\n",
      "** run complete **\n",
      "notice(2): Group \"all\" created containing 1 particles\n",
      "notice(2): Notice: slj set d_max=210.0\n",
      "notice(2): integrate.langevin/bd is using specified gamma values\n"
     ]
    },
    {
     "name": "stderr",
     "output_type": "stream",
     "text": [
      "*Warning*: compute.thermo: given a group with 0 degrees of freedom.\n",
      "            overriding ndof=1 to avoid divide by 0 errors\n"
     ]
    },
    {
     "name": "stdout",
     "output_type": "stream",
     "text": [
      "** starting run **\n",
      "Time 00:00:00 | Step 0 / 0 | TPS 0 | ETA 00:00:00\n",
      "Average TPS: 0\n",
      "---------\n",
      "** run complete **\n",
      "notice(2): Group \"all\" created containing 1 particles\n",
      "notice(2): Notice: slj set d_max=210.0\n",
      "notice(2): integrate.langevin/bd is using specified gamma values\n"
     ]
    },
    {
     "name": "stderr",
     "output_type": "stream",
     "text": [
      "*Warning*: compute.thermo: given a group with 0 degrees of freedom.\n",
      "            overriding ndof=1 to avoid divide by 0 errors\n"
     ]
    },
    {
     "name": "stdout",
     "output_type": "stream",
     "text": [
      "** starting run **\n",
      "Time 00:00:00 | Step 0 / 0 | TPS 0 | ETA 00:00:00\n",
      "Average TPS: 0\n",
      "---------\n",
      "** run complete **\n",
      "notice(2): Group \"all\" created containing 1 particles\n",
      "notice(2): Notice: slj set d_max=210.0\n",
      "notice(2): integrate.langevin/bd is using specified gamma values\n"
     ]
    },
    {
     "name": "stderr",
     "output_type": "stream",
     "text": [
      "*Warning*: compute.thermo: given a group with 0 degrees of freedom.\n",
      "            overriding ndof=1 to avoid divide by 0 errors\n"
     ]
    },
    {
     "name": "stdout",
     "output_type": "stream",
     "text": [
      "** starting run **\n",
      "Time 00:00:00 | Step 0 / 0 | TPS 0 | ETA 00:00:00\n",
      "Average TPS: 0\n",
      "---------\n",
      "** run complete **\n",
      "notice(2): Group \"all\" created containing 1 particles\n",
      "notice(2): Notice: slj set d_max=210.0\n",
      "notice(2): integrate.langevin/bd is using specified gamma values\n"
     ]
    },
    {
     "name": "stderr",
     "output_type": "stream",
     "text": [
      "*Warning*: compute.thermo: given a group with 0 degrees of freedom.\n",
      "            overriding ndof=1 to avoid divide by 0 errors\n"
     ]
    },
    {
     "name": "stdout",
     "output_type": "stream",
     "text": [
      "** starting run **\n",
      "Time 00:00:00 | Step 0 / 0 | TPS nan | ETA 00:00:00\n",
      "Average TPS: 0\n",
      "---------\n",
      "** run complete **\n",
      "notice(2): Group \"all\" created containing 1 particles\n",
      "notice(2): Notice: slj set d_max=210.0\n",
      "notice(2): integrate.langevin/bd is using specified gamma values\n"
     ]
    },
    {
     "name": "stderr",
     "output_type": "stream",
     "text": [
      "*Warning*: compute.thermo: given a group with 0 degrees of freedom.\n",
      "            overriding ndof=1 to avoid divide by 0 errors\n"
     ]
    },
    {
     "name": "stdout",
     "output_type": "stream",
     "text": [
      "** starting run **\n",
      "Time 00:00:00 | Step 0 / 0 | TPS 0 | ETA 00:00:00\n",
      "Average TPS: 0\n",
      "---------\n",
      "** run complete **\n",
      "notice(2): Group \"all\" created containing 1 particles\n",
      "notice(2): Notice: slj set d_max=210.0\n",
      "notice(2): integrate.langevin/bd is using specified gamma values\n"
     ]
    },
    {
     "name": "stderr",
     "output_type": "stream",
     "text": [
      "*Warning*: compute.thermo: given a group with 0 degrees of freedom.\n",
      "            overriding ndof=1 to avoid divide by 0 errors\n"
     ]
    },
    {
     "name": "stdout",
     "output_type": "stream",
     "text": [
      "** starting run **\n",
      "Time 00:00:00 | Step 0 / 0 | TPS 0 | ETA 00:00:00\n",
      "Average TPS: 0\n",
      "---------\n",
      "** run complete **\n",
      "notice(2): Group \"all\" created containing 1 particles\n",
      "notice(2): Notice: slj set d_max=210.0\n",
      "notice(2): integrate.langevin/bd is using specified gamma values\n"
     ]
    },
    {
     "name": "stderr",
     "output_type": "stream",
     "text": [
      "*Warning*: compute.thermo: given a group with 0 degrees of freedom.\n",
      "            overriding ndof=1 to avoid divide by 0 errors\n"
     ]
    },
    {
     "name": "stdout",
     "output_type": "stream",
     "text": [
      "** starting run **\n",
      "Time 00:00:00 | Step 0 / 0 | TPS 0 | ETA 00:00:00\n",
      "Average TPS: 0\n",
      "---------\n",
      "** run complete **\n",
      "notice(2): Group \"all\" created containing 1 particles\n",
      "notice(2): Notice: slj set d_max=210.0\n",
      "notice(2): integrate.langevin/bd is using specified gamma values\n"
     ]
    },
    {
     "name": "stderr",
     "output_type": "stream",
     "text": [
      "*Warning*: compute.thermo: given a group with 0 degrees of freedom.\n",
      "            overriding ndof=1 to avoid divide by 0 errors\n"
     ]
    },
    {
     "name": "stdout",
     "output_type": "stream",
     "text": [
      "** starting run **\n",
      "Time 00:00:00 | Step 0 / 0 | TPS 0 | ETA 00:00:00\n",
      "Average TPS: 0\n",
      "---------\n",
      "** run complete **\n",
      "notice(2): Group \"all\" created containing 1 particles\n",
      "notice(2): Notice: slj set d_max=210.0\n",
      "notice(2): integrate.langevin/bd is using specified gamma values\n"
     ]
    },
    {
     "name": "stderr",
     "output_type": "stream",
     "text": [
      "*Warning*: compute.thermo: given a group with 0 degrees of freedom.\n",
      "            overriding ndof=1 to avoid divide by 0 errors\n"
     ]
    },
    {
     "name": "stdout",
     "output_type": "stream",
     "text": [
      "** starting run **\n",
      "Time 00:00:00 | Step 0 / 0 | TPS 0 | ETA 00:00:00\n",
      "Average TPS: 0\n",
      "---------\n",
      "** run complete **\n",
      "notice(2): Group \"all\" created containing 1 particles\n",
      "notice(2): Notice: slj set d_max=210.0\n",
      "notice(2): integrate.langevin/bd is using specified gamma values\n"
     ]
    },
    {
     "name": "stderr",
     "output_type": "stream",
     "text": [
      "*Warning*: compute.thermo: given a group with 0 degrees of freedom.\n",
      "            overriding ndof=1 to avoid divide by 0 errors\n"
     ]
    },
    {
     "name": "stdout",
     "output_type": "stream",
     "text": [
      "** starting run **\n",
      "Time 00:00:00 | Step 0 / 0 | TPS 0 | ETA 00:00:00\n",
      "Average TPS: 0\n",
      "---------\n",
      "** run complete **\n",
      "notice(2): Group \"all\" created containing 1 particles\n",
      "notice(2): Notice: slj set d_max=210.0\n",
      "notice(2): integrate.langevin/bd is using specified gamma values\n"
     ]
    },
    {
     "name": "stderr",
     "output_type": "stream",
     "text": [
      "*Warning*: compute.thermo: given a group with 0 degrees of freedom.\n",
      "            overriding ndof=1 to avoid divide by 0 errors\n"
     ]
    },
    {
     "name": "stdout",
     "output_type": "stream",
     "text": [
      "** starting run **\n",
      "Time 00:00:00 | Step 0 / 0 | TPS 0 | ETA 00:00:00\n",
      "Average TPS: 0\n",
      "---------\n",
      "** run complete **\n",
      "notice(2): Group \"all\" created containing 1 particles\n",
      "notice(2): Notice: slj set d_max=210.0\n",
      "notice(2): integrate.langevin/bd is using specified gamma values\n"
     ]
    },
    {
     "name": "stderr",
     "output_type": "stream",
     "text": [
      "*Warning*: compute.thermo: given a group with 0 degrees of freedom.\n",
      "            overriding ndof=1 to avoid divide by 0 errors\n"
     ]
    },
    {
     "name": "stdout",
     "output_type": "stream",
     "text": [
      "** starting run **\n",
      "Time 00:00:00 | Step 0 / 0 | TPS 0 | ETA 00:00:00\n",
      "Average TPS: 0\n",
      "---------\n",
      "** run complete **\n",
      "notice(2): Group \"all\" created containing 1 particles\n",
      "notice(2): Notice: slj set d_max=210.0\n",
      "notice(2): integrate.langevin/bd is using specified gamma values\n"
     ]
    },
    {
     "name": "stderr",
     "output_type": "stream",
     "text": [
      "*Warning*: compute.thermo: given a group with 0 degrees of freedom.\n",
      "            overriding ndof=1 to avoid divide by 0 errors\n"
     ]
    },
    {
     "name": "stdout",
     "output_type": "stream",
     "text": [
      "** starting run **\n",
      "Time 00:00:00 | Step 0 / 0 | TPS 0 | ETA 00:00:00\n",
      "Average TPS: 0\n",
      "---------\n",
      "** run complete **\n",
      "notice(2): Group \"all\" created containing 1 particles\n",
      "notice(2): Notice: slj set d_max=210.0\n",
      "notice(2): integrate.langevin/bd is using specified gamma values\n"
     ]
    },
    {
     "name": "stderr",
     "output_type": "stream",
     "text": [
      "*Warning*: compute.thermo: given a group with 0 degrees of freedom.\n",
      "            overriding ndof=1 to avoid divide by 0 errors\n"
     ]
    },
    {
     "name": "stdout",
     "output_type": "stream",
     "text": [
      "** starting run **\n",
      "Time 00:00:00 | Step 0 / 0 | TPS 0 | ETA 00:00:00\n",
      "Average TPS: 0\n",
      "---------\n",
      "** run complete **\n",
      "notice(2): Group \"all\" created containing 1 particles\n",
      "notice(2): Notice: slj set d_max=210.0\n",
      "notice(2): integrate.langevin/bd is using specified gamma values\n"
     ]
    },
    {
     "name": "stderr",
     "output_type": "stream",
     "text": [
      "*Warning*: compute.thermo: given a group with 0 degrees of freedom.\n",
      "            overriding ndof=1 to avoid divide by 0 errors\n"
     ]
    },
    {
     "name": "stdout",
     "output_type": "stream",
     "text": [
      "** starting run **\n",
      "Time 00:00:00 | Step 0 / 0 | TPS 0 | ETA 00:00:00\n",
      "Average TPS: 0\n",
      "---------\n",
      "** run complete **\n",
      "notice(2): Group \"all\" created containing 1 particles\n",
      "notice(2): Notice: slj set d_max=210.0\n",
      "notice(2): integrate.langevin/bd is using specified gamma values\n"
     ]
    },
    {
     "name": "stderr",
     "output_type": "stream",
     "text": [
      "*Warning*: compute.thermo: given a group with 0 degrees of freedom.\n",
      "            overriding ndof=1 to avoid divide by 0 errors\n"
     ]
    },
    {
     "name": "stdout",
     "output_type": "stream",
     "text": [
      "** starting run **\n",
      "Time 00:00:00 | Step 0 / 0 | TPS 0 | ETA 00:00:00\n",
      "Average TPS: 0\n",
      "---------\n",
      "** run complete **\n",
      "notice(2): Group \"all\" created containing 1 particles\n",
      "notice(2): Notice: slj set d_max=210.0\n",
      "notice(2): integrate.langevin/bd is using specified gamma values\n"
     ]
    },
    {
     "name": "stderr",
     "output_type": "stream",
     "text": [
      "*Warning*: compute.thermo: given a group with 0 degrees of freedom.\n",
      "            overriding ndof=1 to avoid divide by 0 errors\n"
     ]
    },
    {
     "name": "stdout",
     "output_type": "stream",
     "text": [
      "** starting run **\n",
      "Time 00:00:00 | Step 0 / 0 | TPS 0 | ETA 00:00:00\n",
      "Average TPS: 0\n",
      "---------\n",
      "** run complete **\n",
      "notice(2): Group \"all\" created containing 1 particles\n",
      "notice(2): Notice: slj set d_max=210.0\n",
      "notice(2): integrate.langevin/bd is using specified gamma values\n"
     ]
    },
    {
     "name": "stderr",
     "output_type": "stream",
     "text": [
      "*Warning*: compute.thermo: given a group with 0 degrees of freedom.\n",
      "            overriding ndof=1 to avoid divide by 0 errors\n"
     ]
    },
    {
     "name": "stdout",
     "output_type": "stream",
     "text": [
      "** starting run **\n",
      "Time 00:00:00 | Step 0 / 0 | TPS 0 | ETA 00:00:00\n",
      "Average TPS: 0\n",
      "---------\n",
      "** run complete **\n",
      "notice(2): Group \"all\" created containing 1 particles\n",
      "notice(2): Notice: slj set d_max=210.0\n",
      "notice(2): integrate.langevin/bd is using specified gamma values\n"
     ]
    },
    {
     "name": "stderr",
     "output_type": "stream",
     "text": [
      "*Warning*: compute.thermo: given a group with 0 degrees of freedom.\n",
      "            overriding ndof=1 to avoid divide by 0 errors\n"
     ]
    },
    {
     "name": "stdout",
     "output_type": "stream",
     "text": [
      "** starting run **\n",
      "Time 00:00:00 | Step 0 / 0 | TPS 0 | ETA 00:00:00\n",
      "Average TPS: 0\n",
      "---------\n",
      "** run complete **\n",
      "notice(2): Group \"all\" created containing 1 particles\n",
      "notice(2): Notice: slj set d_max=210.0\n",
      "notice(2): integrate.langevin/bd is using specified gamma values\n"
     ]
    },
    {
     "name": "stderr",
     "output_type": "stream",
     "text": [
      "*Warning*: compute.thermo: given a group with 0 degrees of freedom.\n",
      "            overriding ndof=1 to avoid divide by 0 errors\n"
     ]
    },
    {
     "name": "stdout",
     "output_type": "stream",
     "text": [
      "** starting run **\n",
      "Time 00:00:00 | Step 0 / 0 | TPS 0 | ETA 00:00:00\n",
      "Average TPS: 0\n",
      "---------\n",
      "** run complete **\n",
      "notice(2): Group \"all\" created containing 1 particles\n",
      "notice(2): Notice: slj set d_max=210.0\n",
      "notice(2): integrate.langevin/bd is using specified gamma values\n"
     ]
    },
    {
     "name": "stderr",
     "output_type": "stream",
     "text": [
      "*Warning*: compute.thermo: given a group with 0 degrees of freedom.\n",
      "            overriding ndof=1 to avoid divide by 0 errors\n"
     ]
    },
    {
     "name": "stdout",
     "output_type": "stream",
     "text": [
      "** starting run **\n",
      "Time 00:00:00 | Step 0 / 0 | TPS 0 | ETA 00:00:00\n",
      "Average TPS: 0\n",
      "---------\n",
      "** run complete **\n",
      "notice(2): Group \"all\" created containing 1 particles\n",
      "notice(2): Notice: slj set d_max=210.0\n",
      "notice(2): integrate.langevin/bd is using specified gamma values\n"
     ]
    },
    {
     "name": "stderr",
     "output_type": "stream",
     "text": [
      "*Warning*: compute.thermo: given a group with 0 degrees of freedom.\n",
      "            overriding ndof=1 to avoid divide by 0 errors\n"
     ]
    },
    {
     "name": "stdout",
     "output_type": "stream",
     "text": [
      "** starting run **\n",
      "Time 00:00:00 | Step 0 / 0 | TPS 0 | ETA 00:00:00\n",
      "Average TPS: 0\n",
      "---------\n",
      "** run complete **\n",
      "notice(2): Group \"all\" created containing 1 particles\n",
      "notice(2): Notice: slj set d_max=210.0\n",
      "notice(2): integrate.langevin/bd is using specified gamma values\n"
     ]
    },
    {
     "name": "stderr",
     "output_type": "stream",
     "text": [
      "*Warning*: compute.thermo: given a group with 0 degrees of freedom.\n",
      "            overriding ndof=1 to avoid divide by 0 errors\n"
     ]
    },
    {
     "name": "stdout",
     "output_type": "stream",
     "text": [
      "** starting run **\n",
      "Time 00:00:00 | Step 0 / 0 | TPS 0 | ETA 00:00:00\n",
      "Average TPS: 0\n",
      "---------\n",
      "** run complete **\n",
      "notice(2): Group \"all\" created containing 1 particles\n",
      "notice(2): Notice: slj set d_max=210.0\n",
      "notice(2): integrate.langevin/bd is using specified gamma values\n"
     ]
    },
    {
     "name": "stderr",
     "output_type": "stream",
     "text": [
      "*Warning*: compute.thermo: given a group with 0 degrees of freedom.\n",
      "            overriding ndof=1 to avoid divide by 0 errors\n"
     ]
    },
    {
     "name": "stdout",
     "output_type": "stream",
     "text": [
      "** starting run **\n",
      "Time 00:00:00 | Step 0 / 0 | TPS 0 | ETA 00:00:00\n",
      "Average TPS: 0\n",
      "---------\n",
      "** run complete **\n",
      "notice(2): Group \"all\" created containing 1 particles\n",
      "notice(2): Notice: slj set d_max=210.0\n",
      "notice(2): integrate.langevin/bd is using specified gamma values\n"
     ]
    },
    {
     "name": "stderr",
     "output_type": "stream",
     "text": [
      "*Warning*: compute.thermo: given a group with 0 degrees of freedom.\n",
      "            overriding ndof=1 to avoid divide by 0 errors\n"
     ]
    },
    {
     "name": "stdout",
     "output_type": "stream",
     "text": [
      "** starting run **\n",
      "Time 00:00:00 | Step 0 / 0 | TPS 0 | ETA 00:00:00\n",
      "Average TPS: 0\n",
      "---------\n",
      "** run complete **\n",
      "notice(2): Group \"all\" created containing 1 particles\n",
      "notice(2): Notice: slj set d_max=210.0\n",
      "notice(2): integrate.langevin/bd is using specified gamma values\n"
     ]
    },
    {
     "name": "stderr",
     "output_type": "stream",
     "text": [
      "*Warning*: compute.thermo: given a group with 0 degrees of freedom.\n",
      "            overriding ndof=1 to avoid divide by 0 errors\n"
     ]
    },
    {
     "name": "stdout",
     "output_type": "stream",
     "text": [
      "** starting run **\n",
      "Time 00:00:00 | Step 0 / 0 | TPS 0 | ETA 00:00:00\n",
      "Average TPS: 0\n",
      "---------\n",
      "** run complete **\n",
      "notice(2): Group \"all\" created containing 1 particles\n",
      "notice(2): Notice: slj set d_max=210.0\n",
      "notice(2): integrate.langevin/bd is using specified gamma values\n"
     ]
    },
    {
     "name": "stderr",
     "output_type": "stream",
     "text": [
      "*Warning*: compute.thermo: given a group with 0 degrees of freedom.\n",
      "            overriding ndof=1 to avoid divide by 0 errors\n"
     ]
    },
    {
     "name": "stdout",
     "output_type": "stream",
     "text": [
      "** starting run **\n",
      "Time 00:00:00 | Step 0 / 0 | TPS 0 | ETA 00:00:00\n",
      "Average TPS: 0\n",
      "---------\n",
      "** run complete **\n",
      "notice(2): Group \"all\" created containing 1 particles\n",
      "notice(2): Notice: slj set d_max=210.0\n",
      "notice(2): integrate.langevin/bd is using specified gamma values\n"
     ]
    },
    {
     "name": "stderr",
     "output_type": "stream",
     "text": [
      "*Warning*: compute.thermo: given a group with 0 degrees of freedom.\n",
      "            overriding ndof=1 to avoid divide by 0 errors\n"
     ]
    },
    {
     "name": "stdout",
     "output_type": "stream",
     "text": [
      "** starting run **\n",
      "Time 00:00:00 | Step 0 / 0 | TPS 0 | ETA 00:00:00\n",
      "Average TPS: 0\n",
      "---------\n",
      "** run complete **\n",
      "notice(2): Group \"all\" created containing 1 particles\n",
      "notice(2): Notice: slj set d_max=210.0\n",
      "notice(2): integrate.langevin/bd is using specified gamma values\n"
     ]
    },
    {
     "name": "stderr",
     "output_type": "stream",
     "text": [
      "*Warning*: compute.thermo: given a group with 0 degrees of freedom.\n",
      "            overriding ndof=1 to avoid divide by 0 errors\n"
     ]
    },
    {
     "name": "stdout",
     "output_type": "stream",
     "text": [
      "** starting run **\n",
      "Time 00:00:00 | Step 0 / 0 | TPS 0 | ETA 00:00:00\n",
      "Average TPS: 0\n",
      "---------\n",
      "** run complete **\n",
      "notice(2): Group \"all\" created containing 1 particles\n",
      "notice(2): Notice: slj set d_max=210.0\n",
      "notice(2): integrate.langevin/bd is using specified gamma values\n"
     ]
    },
    {
     "name": "stderr",
     "output_type": "stream",
     "text": [
      "*Warning*: compute.thermo: given a group with 0 degrees of freedom.\n",
      "            overriding ndof=1 to avoid divide by 0 errors\n"
     ]
    },
    {
     "name": "stdout",
     "output_type": "stream",
     "text": [
      "** starting run **\n",
      "Time 00:00:00 | Step 0 / 0 | TPS 0 | ETA 00:00:00\n",
      "Average TPS: 0\n",
      "---------\n",
      "** run complete **\n",
      "notice(2): Group \"all\" created containing 1 particles\n",
      "notice(2): Notice: slj set d_max=210.0\n",
      "notice(2): integrate.langevin/bd is using specified gamma values\n"
     ]
    },
    {
     "name": "stderr",
     "output_type": "stream",
     "text": [
      "*Warning*: compute.thermo: given a group with 0 degrees of freedom.\n",
      "            overriding ndof=1 to avoid divide by 0 errors\n"
     ]
    },
    {
     "name": "stdout",
     "output_type": "stream",
     "text": [
      "** starting run **\n",
      "Time 00:00:00 | Step 0 / 0 | TPS 0 | ETA 00:00:00\n",
      "Average TPS: 0\n",
      "---------\n",
      "** run complete **\n",
      "notice(2): Group \"all\" created containing 1 particles\n",
      "notice(2): Notice: slj set d_max=210.0\n",
      "notice(2): integrate.langevin/bd is using specified gamma values\n"
     ]
    },
    {
     "name": "stderr",
     "output_type": "stream",
     "text": [
      "*Warning*: compute.thermo: given a group with 0 degrees of freedom.\n",
      "            overriding ndof=1 to avoid divide by 0 errors\n"
     ]
    },
    {
     "name": "stdout",
     "output_type": "stream",
     "text": [
      "** starting run **\n",
      "Time 00:00:00 | Step 0 / 0 | TPS 0 | ETA 00:00:00\n",
      "Average TPS: 0\n",
      "---------\n",
      "** run complete **\n",
      "notice(2): Group \"all\" created containing 1 particles\n",
      "notice(2): Notice: slj set d_max=210.0\n",
      "notice(2): integrate.langevin/bd is using specified gamma values\n"
     ]
    },
    {
     "name": "stderr",
     "output_type": "stream",
     "text": [
      "*Warning*: compute.thermo: given a group with 0 degrees of freedom.\n",
      "            overriding ndof=1 to avoid divide by 0 errors\n"
     ]
    },
    {
     "name": "stdout",
     "output_type": "stream",
     "text": [
      "** starting run **\n",
      "Time 00:00:00 | Step 0 / 0 | TPS 0 | ETA 00:00:00\n",
      "Average TPS: 0\n",
      "---------\n",
      "** run complete **\n",
      "notice(2): Group \"all\" created containing 1 particles\n",
      "notice(2): Notice: slj set d_max=210.0\n",
      "notice(2): integrate.langevin/bd is using specified gamma values\n"
     ]
    },
    {
     "name": "stderr",
     "output_type": "stream",
     "text": [
      "*Warning*: compute.thermo: given a group with 0 degrees of freedom.\n",
      "            overriding ndof=1 to avoid divide by 0 errors\n"
     ]
    },
    {
     "name": "stdout",
     "output_type": "stream",
     "text": [
      "** starting run **\n",
      "Time 00:00:00 | Step 0 / 0 | TPS 0 | ETA 00:00:00\n",
      "Average TPS: 0\n",
      "---------\n",
      "** run complete **\n",
      "notice(2): Group \"all\" created containing 1 particles\n",
      "notice(2): Notice: slj set d_max=210.0\n",
      "notice(2): integrate.langevin/bd is using specified gamma values\n"
     ]
    },
    {
     "name": "stderr",
     "output_type": "stream",
     "text": [
      "*Warning*: compute.thermo: given a group with 0 degrees of freedom.\n",
      "            overriding ndof=1 to avoid divide by 0 errors\n"
     ]
    },
    {
     "name": "stdout",
     "output_type": "stream",
     "text": [
      "** starting run **\n",
      "Time 00:00:00 | Step 0 / 0 | TPS 0 | ETA 00:00:00\n",
      "Average TPS: 0\n",
      "---------\n",
      "** run complete **\n",
      "notice(2): Group \"all\" created containing 1 particles\n",
      "notice(2): Notice: slj set d_max=210.0\n",
      "notice(2): integrate.langevin/bd is using specified gamma values\n"
     ]
    },
    {
     "name": "stderr",
     "output_type": "stream",
     "text": [
      "*Warning*: compute.thermo: given a group with 0 degrees of freedom.\n",
      "            overriding ndof=1 to avoid divide by 0 errors\n"
     ]
    },
    {
     "name": "stdout",
     "output_type": "stream",
     "text": [
      "** starting run **\n",
      "Time 00:00:00 | Step 0 / 0 | TPS 0 | ETA 00:00:00\n",
      "Average TPS: 0\n",
      "---------\n",
      "** run complete **\n",
      "notice(2): Group \"all\" created containing 1 particles\n",
      "notice(2): Notice: slj set d_max=210.0\n",
      "notice(2): integrate.langevin/bd is using specified gamma values\n"
     ]
    },
    {
     "name": "stderr",
     "output_type": "stream",
     "text": [
      "*Warning*: compute.thermo: given a group with 0 degrees of freedom.\n",
      "            overriding ndof=1 to avoid divide by 0 errors\n"
     ]
    },
    {
     "name": "stdout",
     "output_type": "stream",
     "text": [
      "** starting run **\n",
      "Time 00:00:00 | Step 0 / 0 | TPS 0 | ETA 00:00:00\n",
      "Average TPS: 0\n",
      "---------\n",
      "** run complete **\n",
      "notice(2): Group \"all\" created containing 1 particles\n",
      "notice(2): Notice: slj set d_max=210.0\n",
      "notice(2): integrate.langevin/bd is using specified gamma values\n"
     ]
    },
    {
     "name": "stderr",
     "output_type": "stream",
     "text": [
      "*Warning*: compute.thermo: given a group with 0 degrees of freedom.\n",
      "            overriding ndof=1 to avoid divide by 0 errors\n"
     ]
    },
    {
     "name": "stdout",
     "output_type": "stream",
     "text": [
      "** starting run **\n",
      "Time 00:00:00 | Step 0 / 0 | TPS 0 | ETA 00:00:00\n",
      "Average TPS: 0\n",
      "---------\n",
      "** run complete **\n",
      "notice(2): Group \"all\" created containing 1 particles\n",
      "notice(2): Notice: slj set d_max=210.0\n",
      "notice(2): integrate.langevin/bd is using specified gamma values\n"
     ]
    },
    {
     "name": "stderr",
     "output_type": "stream",
     "text": [
      "*Warning*: compute.thermo: given a group with 0 degrees of freedom.\n",
      "            overriding ndof=1 to avoid divide by 0 errors\n"
     ]
    },
    {
     "name": "stdout",
     "output_type": "stream",
     "text": [
      "** starting run **\n",
      "Time 00:00:00 | Step 0 / 0 | TPS 0 | ETA 00:00:00\n",
      "Average TPS: 0\n",
      "---------\n",
      "** run complete **\n",
      "notice(2): Group \"all\" created containing 1 particles\n",
      "notice(2): Notice: slj set d_max=210.0\n",
      "notice(2): integrate.langevin/bd is using specified gamma values\n"
     ]
    },
    {
     "name": "stderr",
     "output_type": "stream",
     "text": [
      "*Warning*: compute.thermo: given a group with 0 degrees of freedom.\n",
      "            overriding ndof=1 to avoid divide by 0 errors\n"
     ]
    },
    {
     "name": "stdout",
     "output_type": "stream",
     "text": [
      "** starting run **\n",
      "Time 00:00:00 | Step 0 / 0 | TPS 0 | ETA 00:00:00\n",
      "Average TPS: 0\n",
      "---------\n",
      "** run complete **\n",
      "notice(2): Group \"all\" created containing 1 particles\n",
      "notice(2): Notice: slj set d_max=210.0\n",
      "notice(2): integrate.langevin/bd is using specified gamma values\n"
     ]
    },
    {
     "name": "stderr",
     "output_type": "stream",
     "text": [
      "*Warning*: compute.thermo: given a group with 0 degrees of freedom.\n",
      "            overriding ndof=1 to avoid divide by 0 errors\n"
     ]
    },
    {
     "name": "stdout",
     "output_type": "stream",
     "text": [
      "** starting run **\n",
      "Time 00:00:00 | Step 0 / 0 | TPS 0 | ETA 00:00:00\n",
      "Average TPS: 0\n",
      "---------\n",
      "** run complete **\n",
      "notice(2): Group \"all\" created containing 1 particles\n",
      "notice(2): Notice: slj set d_max=210.0\n",
      "notice(2): integrate.langevin/bd is using specified gamma values\n"
     ]
    },
    {
     "name": "stderr",
     "output_type": "stream",
     "text": [
      "*Warning*: compute.thermo: given a group with 0 degrees of freedom.\n",
      "            overriding ndof=1 to avoid divide by 0 errors\n"
     ]
    },
    {
     "name": "stdout",
     "output_type": "stream",
     "text": [
      "** starting run **\n",
      "Time 00:00:00 | Step 0 / 0 | TPS 0 | ETA 00:00:00\n",
      "Average TPS: 0\n",
      "---------\n",
      "** run complete **\n",
      "notice(2): Group \"all\" created containing 1 particles\n",
      "notice(2): Notice: slj set d_max=210.0\n",
      "notice(2): integrate.langevin/bd is using specified gamma values\n"
     ]
    },
    {
     "name": "stderr",
     "output_type": "stream",
     "text": [
      "*Warning*: compute.thermo: given a group with 0 degrees of freedom.\n",
      "            overriding ndof=1 to avoid divide by 0 errors\n"
     ]
    },
    {
     "name": "stdout",
     "output_type": "stream",
     "text": [
      "** starting run **\n",
      "Time 00:00:00 | Step 0 / 0 | TPS 0 | ETA 00:00:00\n",
      "Average TPS: 0\n",
      "---------\n",
      "** run complete **\n",
      "notice(2): Group \"all\" created containing 1 particles\n",
      "notice(2): Notice: slj set d_max=210.0\n",
      "notice(2): integrate.langevin/bd is using specified gamma values\n"
     ]
    },
    {
     "name": "stderr",
     "output_type": "stream",
     "text": [
      "*Warning*: compute.thermo: given a group with 0 degrees of freedom.\n",
      "            overriding ndof=1 to avoid divide by 0 errors\n"
     ]
    },
    {
     "name": "stdout",
     "output_type": "stream",
     "text": [
      "** starting run **\n",
      "Time 00:00:00 | Step 0 / 0 | TPS 0 | ETA 00:00:00\n",
      "Average TPS: 0\n",
      "---------\n",
      "** run complete **\n",
      "notice(2): Group \"all\" created containing 1 particles\n",
      "notice(2): Notice: slj set d_max=210.0\n",
      "notice(2): integrate.langevin/bd is using specified gamma values\n"
     ]
    },
    {
     "name": "stderr",
     "output_type": "stream",
     "text": [
      "*Warning*: compute.thermo: given a group with 0 degrees of freedom.\n",
      "            overriding ndof=1 to avoid divide by 0 errors\n"
     ]
    },
    {
     "name": "stdout",
     "output_type": "stream",
     "text": [
      "** starting run **\n",
      "Time 00:00:00 | Step 0 / 0 | TPS 0 | ETA 00:00:00\n",
      "Average TPS: 0\n",
      "---------\n",
      "** run complete **\n",
      "notice(2): Group \"all\" created containing 1 particles\n",
      "notice(2): Notice: slj set d_max=210.0\n",
      "notice(2): integrate.langevin/bd is using specified gamma values\n"
     ]
    },
    {
     "name": "stderr",
     "output_type": "stream",
     "text": [
      "*Warning*: compute.thermo: given a group with 0 degrees of freedom.\n",
      "            overriding ndof=1 to avoid divide by 0 errors\n"
     ]
    },
    {
     "name": "stdout",
     "output_type": "stream",
     "text": [
      "** starting run **\n",
      "Time 00:00:00 | Step 0 / 0 | TPS 0 | ETA 00:00:00\n",
      "Average TPS: 0\n",
      "---------\n",
      "** run complete **\n",
      "notice(2): Group \"all\" created containing 1 particles\n",
      "notice(2): Notice: slj set d_max=210.0\n",
      "notice(2): integrate.langevin/bd is using specified gamma values\n"
     ]
    },
    {
     "name": "stderr",
     "output_type": "stream",
     "text": [
      "*Warning*: compute.thermo: given a group with 0 degrees of freedom.\n",
      "            overriding ndof=1 to avoid divide by 0 errors\n"
     ]
    },
    {
     "name": "stdout",
     "output_type": "stream",
     "text": [
      "** starting run **\n",
      "Time 00:00:00 | Step 0 / 0 | TPS 0 | ETA 00:00:00\n",
      "Average TPS: 0\n",
      "---------\n",
      "** run complete **\n",
      "notice(2): Group \"all\" created containing 1 particles\n",
      "notice(2): Notice: slj set d_max=210.0\n",
      "notice(2): integrate.langevin/bd is using specified gamma values\n"
     ]
    },
    {
     "name": "stderr",
     "output_type": "stream",
     "text": [
      "*Warning*: compute.thermo: given a group with 0 degrees of freedom.\n",
      "            overriding ndof=1 to avoid divide by 0 errors\n"
     ]
    },
    {
     "name": "stdout",
     "output_type": "stream",
     "text": [
      "** starting run **\n",
      "Time 00:00:00 | Step 0 / 0 | TPS 0 | ETA 00:00:00\n",
      "Average TPS: 0\n",
      "---------\n",
      "** run complete **\n",
      "notice(2): Group \"all\" created containing 1 particles\n",
      "notice(2): Notice: slj set d_max=210.0\n",
      "notice(2): integrate.langevin/bd is using specified gamma values\n"
     ]
    },
    {
     "name": "stderr",
     "output_type": "stream",
     "text": [
      "*Warning*: compute.thermo: given a group with 0 degrees of freedom.\n",
      "            overriding ndof=1 to avoid divide by 0 errors\n"
     ]
    },
    {
     "name": "stdout",
     "output_type": "stream",
     "text": [
      "** starting run **\n",
      "Time 00:00:00 | Step 0 / 0 | TPS 0 | ETA 00:00:00\n",
      "Average TPS: 0\n",
      "---------\n",
      "** run complete **\n",
      "notice(2): Group \"all\" created containing 1 particles\n",
      "notice(2): Notice: slj set d_max=210.0\n",
      "notice(2): integrate.langevin/bd is using specified gamma values\n"
     ]
    },
    {
     "name": "stderr",
     "output_type": "stream",
     "text": [
      "*Warning*: compute.thermo: given a group with 0 degrees of freedom.\n",
      "            overriding ndof=1 to avoid divide by 0 errors\n"
     ]
    },
    {
     "name": "stdout",
     "output_type": "stream",
     "text": [
      "** starting run **\n",
      "Time 00:00:00 | Step 0 / 0 | TPS 0 | ETA 00:00:00\n",
      "Average TPS: 0\n",
      "---------\n",
      "** run complete **\n",
      "notice(2): Group \"all\" created containing 1 particles\n",
      "notice(2): Notice: slj set d_max=210.0\n",
      "notice(2): integrate.langevin/bd is using specified gamma values\n"
     ]
    },
    {
     "name": "stderr",
     "output_type": "stream",
     "text": [
      "*Warning*: compute.thermo: given a group with 0 degrees of freedom.\n",
      "            overriding ndof=1 to avoid divide by 0 errors\n"
     ]
    },
    {
     "name": "stdout",
     "output_type": "stream",
     "text": [
      "** starting run **\n",
      "Time 00:00:00 | Step 0 / 0 | TPS 0 | ETA 00:00:00\n",
      "Average TPS: 0\n",
      "---------\n",
      "** run complete **\n",
      "notice(2): Group \"all\" created containing 1 particles\n",
      "notice(2): Notice: slj set d_max=210.0\n",
      "notice(2): integrate.langevin/bd is using specified gamma values\n"
     ]
    },
    {
     "name": "stderr",
     "output_type": "stream",
     "text": [
      "*Warning*: compute.thermo: given a group with 0 degrees of freedom.\n",
      "            overriding ndof=1 to avoid divide by 0 errors\n"
     ]
    },
    {
     "name": "stdout",
     "output_type": "stream",
     "text": [
      "** starting run **\n",
      "Time 00:00:00 | Step 0 / 0 | TPS 0 | ETA 00:00:00\n",
      "Average TPS: 0\n",
      "---------\n",
      "** run complete **\n",
      "notice(2): Group \"all\" created containing 1 particles\n",
      "notice(2): Notice: slj set d_max=210.0\n",
      "notice(2): integrate.langevin/bd is using specified gamma values\n"
     ]
    },
    {
     "name": "stderr",
     "output_type": "stream",
     "text": [
      "*Warning*: compute.thermo: given a group with 0 degrees of freedom.\n",
      "            overriding ndof=1 to avoid divide by 0 errors\n"
     ]
    },
    {
     "name": "stdout",
     "output_type": "stream",
     "text": [
      "** starting run **\n",
      "Time 00:00:00 | Step 0 / 0 | TPS 0 | ETA 00:00:00\n",
      "Average TPS: 0\n",
      "---------\n",
      "** run complete **\n",
      "notice(2): Group \"all\" created containing 1 particles\n",
      "notice(2): Notice: slj set d_max=210.0\n",
      "notice(2): integrate.langevin/bd is using specified gamma values\n"
     ]
    },
    {
     "name": "stderr",
     "output_type": "stream",
     "text": [
      "*Warning*: compute.thermo: given a group with 0 degrees of freedom.\n",
      "            overriding ndof=1 to avoid divide by 0 errors\n"
     ]
    },
    {
     "name": "stdout",
     "output_type": "stream",
     "text": [
      "** starting run **\n",
      "Time 00:00:00 | Step 0 / 0 | TPS 0 | ETA 00:00:00\n",
      "Average TPS: 0\n",
      "---------\n",
      "** run complete **\n",
      "notice(2): Group \"all\" created containing 1 particles\n",
      "notice(2): Notice: slj set d_max=210.0\n",
      "notice(2): integrate.langevin/bd is using specified gamma values\n"
     ]
    },
    {
     "name": "stderr",
     "output_type": "stream",
     "text": [
      "*Warning*: compute.thermo: given a group with 0 degrees of freedom.\n",
      "            overriding ndof=1 to avoid divide by 0 errors\n"
     ]
    },
    {
     "name": "stdout",
     "output_type": "stream",
     "text": [
      "** starting run **\n",
      "Time 00:00:00 | Step 0 / 0 | TPS 0 | ETA 00:00:00\n",
      "Average TPS: 0\n",
      "---------\n",
      "** run complete **\n",
      "notice(2): Group \"all\" created containing 1 particles\n",
      "notice(2): Notice: slj set d_max=210.0\n",
      "notice(2): integrate.langevin/bd is using specified gamma values\n"
     ]
    },
    {
     "name": "stderr",
     "output_type": "stream",
     "text": [
      "*Warning*: compute.thermo: given a group with 0 degrees of freedom.\n",
      "            overriding ndof=1 to avoid divide by 0 errors\n"
     ]
    },
    {
     "name": "stdout",
     "output_type": "stream",
     "text": [
      "** starting run **\n",
      "Time 00:00:00 | Step 0 / 0 | TPS 0 | ETA 00:00:00\n",
      "Average TPS: 0\n",
      "---------\n",
      "** run complete **\n",
      "notice(2): Group \"all\" created containing 1 particles\n",
      "notice(2): Notice: slj set d_max=210.0\n",
      "notice(2): integrate.langevin/bd is using specified gamma values\n"
     ]
    },
    {
     "name": "stderr",
     "output_type": "stream",
     "text": [
      "*Warning*: compute.thermo: given a group with 0 degrees of freedom.\n",
      "            overriding ndof=1 to avoid divide by 0 errors\n"
     ]
    },
    {
     "name": "stdout",
     "output_type": "stream",
     "text": [
      "** starting run **\n",
      "Time 00:00:00 | Step 0 / 0 | TPS 0 | ETA 00:00:00\n",
      "Average TPS: 0\n",
      "---------\n",
      "** run complete **\n",
      "notice(2): Group \"all\" created containing 1 particles\n",
      "notice(2): Notice: slj set d_max=210.0\n",
      "notice(2): integrate.langevin/bd is using specified gamma values\n"
     ]
    },
    {
     "name": "stderr",
     "output_type": "stream",
     "text": [
      "*Warning*: compute.thermo: given a group with 0 degrees of freedom.\n",
      "            overriding ndof=1 to avoid divide by 0 errors\n"
     ]
    },
    {
     "name": "stdout",
     "output_type": "stream",
     "text": [
      "** starting run **\n",
      "Time 00:00:00 | Step 0 / 0 | TPS 0 | ETA 00:00:00\n",
      "Average TPS: 0\n",
      "---------\n",
      "** run complete **\n",
      "notice(2): Group \"all\" created containing 1 particles\n",
      "notice(2): Notice: slj set d_max=210.0\n",
      "notice(2): integrate.langevin/bd is using specified gamma values\n"
     ]
    },
    {
     "name": "stderr",
     "output_type": "stream",
     "text": [
      "*Warning*: compute.thermo: given a group with 0 degrees of freedom.\n",
      "            overriding ndof=1 to avoid divide by 0 errors\n"
     ]
    },
    {
     "name": "stdout",
     "output_type": "stream",
     "text": [
      "** starting run **\n",
      "Time 00:00:00 | Step 0 / 0 | TPS 0 | ETA 00:00:00\n",
      "Average TPS: 0\n",
      "---------\n",
      "** run complete **\n",
      "notice(2): Group \"all\" created containing 1 particles\n",
      "notice(2): Notice: slj set d_max=210.0\n",
      "notice(2): integrate.langevin/bd is using specified gamma values\n"
     ]
    },
    {
     "name": "stderr",
     "output_type": "stream",
     "text": [
      "*Warning*: compute.thermo: given a group with 0 degrees of freedom.\n",
      "            overriding ndof=1 to avoid divide by 0 errors\n"
     ]
    },
    {
     "name": "stdout",
     "output_type": "stream",
     "text": [
      "** starting run **\n",
      "Time 00:00:00 | Step 0 / 0 | TPS 0 | ETA 00:00:00\n",
      "Average TPS: 0\n",
      "---------\n",
      "** run complete **\n",
      "notice(2): Group \"all\" created containing 1 particles\n",
      "notice(2): Notice: slj set d_max=210.0\n",
      "notice(2): integrate.langevin/bd is using specified gamma values\n"
     ]
    },
    {
     "name": "stderr",
     "output_type": "stream",
     "text": [
      "*Warning*: compute.thermo: given a group with 0 degrees of freedom.\n",
      "            overriding ndof=1 to avoid divide by 0 errors\n"
     ]
    },
    {
     "name": "stdout",
     "output_type": "stream",
     "text": [
      "** starting run **\n",
      "Time 00:00:00 | Step 0 / 0 | TPS 0 | ETA 00:00:00\n",
      "Average TPS: 0\n",
      "---------\n",
      "** run complete **\n",
      "notice(2): Group \"all\" created containing 1 particles\n",
      "notice(2): Notice: slj set d_max=210.0\n",
      "notice(2): integrate.langevin/bd is using specified gamma values\n"
     ]
    },
    {
     "name": "stderr",
     "output_type": "stream",
     "text": [
      "*Warning*: compute.thermo: given a group with 0 degrees of freedom.\n",
      "            overriding ndof=1 to avoid divide by 0 errors\n"
     ]
    },
    {
     "name": "stdout",
     "output_type": "stream",
     "text": [
      "** starting run **\n",
      "Time 00:00:00 | Step 0 / 0 | TPS 0 | ETA 00:00:00\n",
      "Average TPS: 0\n",
      "---------\n",
      "** run complete **\n",
      "notice(2): Group \"all\" created containing 1 particles\n",
      "notice(2): Notice: slj set d_max=210.0\n",
      "notice(2): integrate.langevin/bd is using specified gamma values\n"
     ]
    },
    {
     "name": "stderr",
     "output_type": "stream",
     "text": [
      "*Warning*: compute.thermo: given a group with 0 degrees of freedom.\n",
      "            overriding ndof=1 to avoid divide by 0 errors\n"
     ]
    },
    {
     "name": "stdout",
     "output_type": "stream",
     "text": [
      "** starting run **\n",
      "Time 00:00:00 | Step 0 / 0 | TPS 0 | ETA 00:00:00\n",
      "Average TPS: 0\n",
      "---------\n",
      "** run complete **\n",
      "notice(2): Group \"all\" created containing 1 particles\n",
      "notice(2): Notice: slj set d_max=210.0\n",
      "notice(2): integrate.langevin/bd is using specified gamma values\n"
     ]
    },
    {
     "name": "stderr",
     "output_type": "stream",
     "text": [
      "*Warning*: compute.thermo: given a group with 0 degrees of freedom.\n",
      "            overriding ndof=1 to avoid divide by 0 errors\n"
     ]
    },
    {
     "name": "stdout",
     "output_type": "stream",
     "text": [
      "** starting run **\n",
      "Time 00:00:00 | Step 0 / 0 | TPS 0 | ETA 00:00:00\n",
      "Average TPS: 0\n",
      "---------\n",
      "** run complete **\n",
      "notice(2): Group \"all\" created containing 1 particles\n",
      "notice(2): Notice: slj set d_max=210.0\n",
      "notice(2): integrate.langevin/bd is using specified gamma values\n"
     ]
    },
    {
     "name": "stderr",
     "output_type": "stream",
     "text": [
      "*Warning*: compute.thermo: given a group with 0 degrees of freedom.\n",
      "            overriding ndof=1 to avoid divide by 0 errors\n"
     ]
    },
    {
     "name": "stdout",
     "output_type": "stream",
     "text": [
      "** starting run **\n",
      "Time 00:00:00 | Step 0 / 0 | TPS 0 | ETA 00:00:00\n",
      "Average TPS: 0\n",
      "---------\n",
      "** run complete **\n",
      "notice(2): Group \"all\" created containing 1 particles\n",
      "notice(2): Notice: slj set d_max=210.0\n",
      "notice(2): integrate.langevin/bd is using specified gamma values\n"
     ]
    },
    {
     "name": "stderr",
     "output_type": "stream",
     "text": [
      "*Warning*: compute.thermo: given a group with 0 degrees of freedom.\n",
      "            overriding ndof=1 to avoid divide by 0 errors\n"
     ]
    },
    {
     "name": "stdout",
     "output_type": "stream",
     "text": [
      "** starting run **\n",
      "Time 00:00:00 | Step 0 / 0 | TPS 0 | ETA 00:00:00\n",
      "Average TPS: 0\n",
      "---------\n",
      "** run complete **\n",
      "notice(2): Group \"all\" created containing 1 particles\n",
      "notice(2): Notice: slj set d_max=210.0\n",
      "notice(2): integrate.langevin/bd is using specified gamma values\n"
     ]
    },
    {
     "name": "stderr",
     "output_type": "stream",
     "text": [
      "*Warning*: compute.thermo: given a group with 0 degrees of freedom.\n",
      "            overriding ndof=1 to avoid divide by 0 errors\n"
     ]
    },
    {
     "name": "stdout",
     "output_type": "stream",
     "text": [
      "** starting run **\n",
      "Time 00:00:00 | Step 0 / 0 | TPS 0 | ETA 00:00:00\n",
      "Average TPS: 0\n",
      "---------\n",
      "** run complete **\n",
      "notice(2): Group \"all\" created containing 1 particles\n",
      "notice(2): Notice: slj set d_max=210.0\n",
      "notice(2): integrate.langevin/bd is using specified gamma values\n"
     ]
    },
    {
     "name": "stderr",
     "output_type": "stream",
     "text": [
      "*Warning*: compute.thermo: given a group with 0 degrees of freedom.\n",
      "            overriding ndof=1 to avoid divide by 0 errors\n"
     ]
    },
    {
     "name": "stdout",
     "output_type": "stream",
     "text": [
      "** starting run **\n",
      "Time 00:00:00 | Step 0 / 0 | TPS 0 | ETA 00:00:00\n",
      "Average TPS: 0\n",
      "---------\n",
      "** run complete **\n",
      "notice(2): Group \"all\" created containing 1 particles\n",
      "notice(2): Notice: slj set d_max=210.0\n",
      "notice(2): integrate.langevin/bd is using specified gamma values\n"
     ]
    },
    {
     "name": "stderr",
     "output_type": "stream",
     "text": [
      "*Warning*: compute.thermo: given a group with 0 degrees of freedom.\n",
      "            overriding ndof=1 to avoid divide by 0 errors\n"
     ]
    },
    {
     "name": "stdout",
     "output_type": "stream",
     "text": [
      "** starting run **\n",
      "Time 00:00:00 | Step 0 / 0 | TPS 0 | ETA 00:00:00\n",
      "Average TPS: 0\n",
      "---------\n",
      "** run complete **\n",
      "notice(2): Group \"all\" created containing 1 particles\n",
      "notice(2): Notice: slj set d_max=210.0\n",
      "notice(2): integrate.langevin/bd is using specified gamma values\n"
     ]
    },
    {
     "name": "stderr",
     "output_type": "stream",
     "text": [
      "*Warning*: compute.thermo: given a group with 0 degrees of freedom.\n",
      "            overriding ndof=1 to avoid divide by 0 errors\n"
     ]
    },
    {
     "name": "stdout",
     "output_type": "stream",
     "text": [
      "** starting run **\n",
      "Time 00:00:00 | Step 0 / 0 | TPS 0 | ETA 00:00:00\n",
      "Average TPS: 0\n",
      "---------\n",
      "** run complete **\n",
      "notice(2): Group \"all\" created containing 1 particles\n",
      "notice(2): Notice: slj set d_max=210.0\n",
      "notice(2): integrate.langevin/bd is using specified gamma values\n"
     ]
    },
    {
     "name": "stderr",
     "output_type": "stream",
     "text": [
      "*Warning*: compute.thermo: given a group with 0 degrees of freedom.\n",
      "            overriding ndof=1 to avoid divide by 0 errors\n"
     ]
    },
    {
     "name": "stdout",
     "output_type": "stream",
     "text": [
      "** starting run **\n",
      "Time 00:00:00 | Step 0 / 0 | TPS 0 | ETA 00:00:00\n",
      "Average TPS: 0\n",
      "---------\n",
      "** run complete **\n",
      "notice(2): Group \"all\" created containing 1 particles\n",
      "notice(2): Notice: slj set d_max=210.0\n",
      "notice(2): integrate.langevin/bd is using specified gamma values\n"
     ]
    },
    {
     "name": "stderr",
     "output_type": "stream",
     "text": [
      "*Warning*: compute.thermo: given a group with 0 degrees of freedom.\n",
      "            overriding ndof=1 to avoid divide by 0 errors\n"
     ]
    },
    {
     "name": "stdout",
     "output_type": "stream",
     "text": [
      "** starting run **\n",
      "Time 00:00:00 | Step 0 / 0 | TPS 0 | ETA 00:00:00\n",
      "Average TPS: 0\n",
      "---------\n",
      "** run complete **\n",
      "notice(2): Group \"all\" created containing 1 particles\n",
      "notice(2): Notice: slj set d_max=210.0\n",
      "notice(2): integrate.langevin/bd is using specified gamma values\n"
     ]
    },
    {
     "name": "stderr",
     "output_type": "stream",
     "text": [
      "*Warning*: compute.thermo: given a group with 0 degrees of freedom.\n",
      "            overriding ndof=1 to avoid divide by 0 errors\n"
     ]
    },
    {
     "name": "stdout",
     "output_type": "stream",
     "text": [
      "** starting run **\n",
      "Time 00:00:00 | Step 0 / 0 | TPS 0 | ETA 00:00:00\n",
      "Average TPS: 0\n",
      "---------\n",
      "** run complete **\n",
      "notice(2): Group \"all\" created containing 1 particles\n",
      "notice(2): Notice: slj set d_max=210.0\n",
      "notice(2): integrate.langevin/bd is using specified gamma values\n"
     ]
    },
    {
     "name": "stderr",
     "output_type": "stream",
     "text": [
      "*Warning*: compute.thermo: given a group with 0 degrees of freedom.\n",
      "            overriding ndof=1 to avoid divide by 0 errors\n"
     ]
    },
    {
     "name": "stdout",
     "output_type": "stream",
     "text": [
      "** starting run **\n",
      "Time 00:00:00 | Step 0 / 0 | TPS 0 | ETA 00:00:00\n",
      "Average TPS: 0\n",
      "---------\n",
      "** run complete **\n",
      "notice(2): Group \"all\" created containing 1 particles\n",
      "notice(2): Notice: slj set d_max=210.0\n",
      "notice(2): integrate.langevin/bd is using specified gamma values\n"
     ]
    },
    {
     "name": "stderr",
     "output_type": "stream",
     "text": [
      "*Warning*: compute.thermo: given a group with 0 degrees of freedom.\n",
      "            overriding ndof=1 to avoid divide by 0 errors\n"
     ]
    },
    {
     "name": "stdout",
     "output_type": "stream",
     "text": [
      "** starting run **\n",
      "Time 00:00:00 | Step 0 / 0 | TPS 0 | ETA 00:00:00\n",
      "Average TPS: 0\n",
      "---------\n",
      "** run complete **\n",
      "notice(2): Group \"all\" created containing 1 particles\n",
      "notice(2): Notice: slj set d_max=210.0\n",
      "notice(2): integrate.langevin/bd is using specified gamma values\n"
     ]
    },
    {
     "name": "stderr",
     "output_type": "stream",
     "text": [
      "*Warning*: compute.thermo: given a group with 0 degrees of freedom.\n",
      "            overriding ndof=1 to avoid divide by 0 errors\n"
     ]
    },
    {
     "name": "stdout",
     "output_type": "stream",
     "text": [
      "** starting run **\n",
      "Time 00:00:00 | Step 0 / 0 | TPS 0 | ETA 00:00:00\n",
      "Average TPS: 0\n",
      "---------\n",
      "** run complete **\n",
      "notice(2): Group \"all\" created containing 1 particles\n",
      "notice(2): Notice: slj set d_max=210.0\n",
      "notice(2): integrate.langevin/bd is using specified gamma values\n"
     ]
    },
    {
     "name": "stderr",
     "output_type": "stream",
     "text": [
      "*Warning*: compute.thermo: given a group with 0 degrees of freedom.\n",
      "            overriding ndof=1 to avoid divide by 0 errors\n"
     ]
    },
    {
     "name": "stdout",
     "output_type": "stream",
     "text": [
      "** starting run **\n",
      "Time 00:00:00 | Step 0 / 0 | TPS 0 | ETA 00:00:00\n",
      "Average TPS: 0\n",
      "---------\n",
      "** run complete **\n",
      "notice(2): Group \"all\" created containing 1 particles\n",
      "notice(2): Notice: slj set d_max=210.0\n",
      "notice(2): integrate.langevin/bd is using specified gamma values\n"
     ]
    },
    {
     "name": "stderr",
     "output_type": "stream",
     "text": [
      "*Warning*: compute.thermo: given a group with 0 degrees of freedom.\n",
      "            overriding ndof=1 to avoid divide by 0 errors\n"
     ]
    },
    {
     "name": "stdout",
     "output_type": "stream",
     "text": [
      "** starting run **\n",
      "Time 00:00:00 | Step 0 / 0 | TPS 0 | ETA 00:00:00\n",
      "Average TPS: 0\n",
      "---------\n",
      "** run complete **\n",
      "notice(2): Group \"all\" created containing 1 particles\n",
      "notice(2): Notice: slj set d_max=210.0\n",
      "notice(2): integrate.langevin/bd is using specified gamma values\n"
     ]
    },
    {
     "name": "stderr",
     "output_type": "stream",
     "text": [
      "*Warning*: compute.thermo: given a group with 0 degrees of freedom.\n",
      "            overriding ndof=1 to avoid divide by 0 errors\n"
     ]
    },
    {
     "name": "stdout",
     "output_type": "stream",
     "text": [
      "** starting run **\n",
      "Time 00:00:00 | Step 0 / 0 | TPS 0 | ETA 00:00:00\n",
      "Average TPS: 0\n",
      "---------\n",
      "** run complete **\n",
      "notice(2): Group \"all\" created containing 1 particles\n",
      "notice(2): Notice: slj set d_max=210.0\n",
      "notice(2): integrate.langevin/bd is using specified gamma values\n"
     ]
    },
    {
     "name": "stderr",
     "output_type": "stream",
     "text": [
      "*Warning*: compute.thermo: given a group with 0 degrees of freedom.\n",
      "            overriding ndof=1 to avoid divide by 0 errors\n"
     ]
    },
    {
     "name": "stdout",
     "output_type": "stream",
     "text": [
      "** starting run **\n",
      "Time 00:00:00 | Step 0 / 0 | TPS 0 | ETA 00:00:00\n",
      "Average TPS: 0\n",
      "---------\n",
      "** run complete **\n",
      "notice(2): Group \"all\" created containing 1 particles\n",
      "notice(2): Notice: slj set d_max=210.0\n",
      "notice(2): integrate.langevin/bd is using specified gamma values\n"
     ]
    },
    {
     "name": "stderr",
     "output_type": "stream",
     "text": [
      "*Warning*: compute.thermo: given a group with 0 degrees of freedom.\n",
      "            overriding ndof=1 to avoid divide by 0 errors\n"
     ]
    },
    {
     "name": "stdout",
     "output_type": "stream",
     "text": [
      "** starting run **\n",
      "Time 00:00:00 | Step 0 / 0 | TPS 0 | ETA 00:00:00\n",
      "Average TPS: 0\n",
      "---------\n",
      "** run complete **\n",
      "notice(2): Group \"all\" created containing 1 particles\n",
      "notice(2): Notice: slj set d_max=210.0\n",
      "notice(2): integrate.langevin/bd is using specified gamma values\n"
     ]
    },
    {
     "name": "stderr",
     "output_type": "stream",
     "text": [
      "*Warning*: compute.thermo: given a group with 0 degrees of freedom.\n",
      "            overriding ndof=1 to avoid divide by 0 errors\n"
     ]
    },
    {
     "name": "stdout",
     "output_type": "stream",
     "text": [
      "** starting run **\n",
      "Time 00:00:00 | Step 0 / 0 | TPS 0 | ETA 00:00:00\n",
      "Average TPS: 0\n",
      "---------\n",
      "** run complete **\n",
      "notice(2): Group \"all\" created containing 1 particles\n",
      "notice(2): Notice: slj set d_max=210.0\n",
      "notice(2): integrate.langevin/bd is using specified gamma values\n"
     ]
    },
    {
     "name": "stderr",
     "output_type": "stream",
     "text": [
      "*Warning*: compute.thermo: given a group with 0 degrees of freedom.\n",
      "            overriding ndof=1 to avoid divide by 0 errors\n"
     ]
    },
    {
     "name": "stdout",
     "output_type": "stream",
     "text": [
      "** starting run **\n",
      "Time 00:00:00 | Step 0 / 0 | TPS 0 | ETA 00:00:00\n",
      "Average TPS: 0\n",
      "---------\n",
      "** run complete **\n",
      "notice(2): Group \"all\" created containing 1 particles\n",
      "notice(2): Notice: slj set d_max=210.0\n",
      "notice(2): integrate.langevin/bd is using specified gamma values\n"
     ]
    },
    {
     "name": "stderr",
     "output_type": "stream",
     "text": [
      "*Warning*: compute.thermo: given a group with 0 degrees of freedom.\n",
      "            overriding ndof=1 to avoid divide by 0 errors\n"
     ]
    },
    {
     "name": "stdout",
     "output_type": "stream",
     "text": [
      "** starting run **\n",
      "Time 00:00:00 | Step 0 / 0 | TPS 0 | ETA 00:00:00\n",
      "Average TPS: 0\n",
      "---------\n",
      "** run complete **\n",
      "notice(2): Group \"all\" created containing 1 particles\n",
      "notice(2): Notice: slj set d_max=210.0\n",
      "notice(2): integrate.langevin/bd is using specified gamma values\n"
     ]
    },
    {
     "name": "stderr",
     "output_type": "stream",
     "text": [
      "*Warning*: compute.thermo: given a group with 0 degrees of freedom.\n",
      "            overriding ndof=1 to avoid divide by 0 errors\n"
     ]
    },
    {
     "name": "stdout",
     "output_type": "stream",
     "text": [
      "** starting run **\n",
      "Time 00:00:00 | Step 0 / 0 | TPS 0 | ETA 00:00:00\n",
      "Average TPS: 0\n",
      "---------\n",
      "** run complete **\n",
      "notice(2): Group \"all\" created containing 1 particles\n",
      "notice(2): Notice: slj set d_max=210.0\n",
      "notice(2): integrate.langevin/bd is using specified gamma values\n"
     ]
    },
    {
     "name": "stderr",
     "output_type": "stream",
     "text": [
      "*Warning*: compute.thermo: given a group with 0 degrees of freedom.\n",
      "            overriding ndof=1 to avoid divide by 0 errors\n"
     ]
    },
    {
     "name": "stdout",
     "output_type": "stream",
     "text": [
      "** starting run **\n",
      "Time 00:00:00 | Step 0 / 0 | TPS 0 | ETA 00:00:00\n",
      "Average TPS: 0\n",
      "---------\n",
      "** run complete **\n",
      "notice(2): Group \"all\" created containing 1 particles\n",
      "notice(2): Notice: slj set d_max=210.0\n",
      "notice(2): integrate.langevin/bd is using specified gamma values\n"
     ]
    },
    {
     "name": "stderr",
     "output_type": "stream",
     "text": [
      "*Warning*: compute.thermo: given a group with 0 degrees of freedom.\n",
      "            overriding ndof=1 to avoid divide by 0 errors\n"
     ]
    },
    {
     "name": "stdout",
     "output_type": "stream",
     "text": [
      "** starting run **\n",
      "Time 00:00:00 | Step 0 / 0 | TPS 0 | ETA 00:00:00\n",
      "Average TPS: 0\n",
      "---------\n",
      "** run complete **\n",
      "notice(2): Group \"all\" created containing 1 particles\n",
      "notice(2): Notice: slj set d_max=210.0\n",
      "notice(2): integrate.langevin/bd is using specified gamma values\n"
     ]
    },
    {
     "name": "stderr",
     "output_type": "stream",
     "text": [
      "*Warning*: compute.thermo: given a group with 0 degrees of freedom.\n",
      "            overriding ndof=1 to avoid divide by 0 errors\n"
     ]
    },
    {
     "name": "stdout",
     "output_type": "stream",
     "text": [
      "** starting run **\n",
      "Time 00:00:00 | Step 0 / 0 | TPS 0 | ETA 00:00:00\n",
      "Average TPS: 0\n",
      "---------\n",
      "** run complete **\n",
      "notice(2): Group \"all\" created containing 1 particles\n",
      "notice(2): Notice: slj set d_max=210.0\n",
      "notice(2): integrate.langevin/bd is using specified gamma values\n"
     ]
    },
    {
     "name": "stderr",
     "output_type": "stream",
     "text": [
      "*Warning*: compute.thermo: given a group with 0 degrees of freedom.\n",
      "            overriding ndof=1 to avoid divide by 0 errors\n"
     ]
    },
    {
     "name": "stdout",
     "output_type": "stream",
     "text": [
      "** starting run **\n",
      "Time 00:00:00 | Step 0 / 0 | TPS 0 | ETA 00:00:00\n",
      "Average TPS: 0\n",
      "---------\n",
      "** run complete **\n",
      "notice(2): Group \"all\" created containing 1 particles\n",
      "notice(2): Notice: slj set d_max=210.0\n",
      "notice(2): integrate.langevin/bd is using specified gamma values\n"
     ]
    },
    {
     "name": "stderr",
     "output_type": "stream",
     "text": [
      "*Warning*: compute.thermo: given a group with 0 degrees of freedom.\n",
      "            overriding ndof=1 to avoid divide by 0 errors\n"
     ]
    },
    {
     "name": "stdout",
     "output_type": "stream",
     "text": [
      "** starting run **\n",
      "Time 00:00:00 | Step 0 / 0 | TPS 0 | ETA 00:00:00\n",
      "Average TPS: 0\n",
      "---------\n",
      "** run complete **\n",
      "notice(2): Group \"all\" created containing 1 particles\n",
      "notice(2): Notice: slj set d_max=210.0\n",
      "notice(2): integrate.langevin/bd is using specified gamma values\n"
     ]
    },
    {
     "name": "stderr",
     "output_type": "stream",
     "text": [
      "*Warning*: compute.thermo: given a group with 0 degrees of freedom.\n",
      "            overriding ndof=1 to avoid divide by 0 errors\n"
     ]
    },
    {
     "name": "stdout",
     "output_type": "stream",
     "text": [
      "** starting run **\n",
      "Time 00:00:00 | Step 0 / 0 | TPS 0 | ETA 00:00:00\n",
      "Average TPS: 0\n",
      "---------\n",
      "** run complete **\n",
      "notice(2): Group \"all\" created containing 1 particles\n",
      "notice(2): Notice: slj set d_max=210.0\n",
      "notice(2): integrate.langevin/bd is using specified gamma values\n"
     ]
    },
    {
     "name": "stderr",
     "output_type": "stream",
     "text": [
      "*Warning*: compute.thermo: given a group with 0 degrees of freedom.\n",
      "            overriding ndof=1 to avoid divide by 0 errors\n"
     ]
    },
    {
     "name": "stdout",
     "output_type": "stream",
     "text": [
      "** starting run **\n",
      "Time 00:00:00 | Step 0 / 0 | TPS 0 | ETA 00:00:00\n",
      "Average TPS: 0\n",
      "---------\n",
      "** run complete **\n",
      "notice(2): Group \"all\" created containing 1 particles\n",
      "notice(2): Notice: slj set d_max=210.0\n",
      "notice(2): integrate.langevin/bd is using specified gamma values\n"
     ]
    },
    {
     "name": "stderr",
     "output_type": "stream",
     "text": [
      "*Warning*: compute.thermo: given a group with 0 degrees of freedom.\n",
      "            overriding ndof=1 to avoid divide by 0 errors\n"
     ]
    },
    {
     "name": "stdout",
     "output_type": "stream",
     "text": [
      "** starting run **\n",
      "Time 00:00:00 | Step 0 / 0 | TPS 0 | ETA 00:00:00\n",
      "Average TPS: 0\n",
      "---------\n",
      "** run complete **\n",
      "notice(2): Group \"all\" created containing 1 particles\n",
      "notice(2): Notice: slj set d_max=210.0\n",
      "notice(2): integrate.langevin/bd is using specified gamma values\n"
     ]
    },
    {
     "name": "stderr",
     "output_type": "stream",
     "text": [
      "*Warning*: compute.thermo: given a group with 0 degrees of freedom.\n",
      "            overriding ndof=1 to avoid divide by 0 errors\n"
     ]
    },
    {
     "name": "stdout",
     "output_type": "stream",
     "text": [
      "** starting run **\n",
      "Time 00:00:00 | Step 0 / 0 | TPS 0 | ETA 00:00:00\n",
      "Average TPS: 0\n",
      "---------\n",
      "** run complete **\n",
      "notice(2): Group \"all\" created containing 1 particles\n",
      "notice(2): Notice: slj set d_max=210.0\n",
      "notice(2): integrate.langevin/bd is using specified gamma values\n"
     ]
    },
    {
     "name": "stderr",
     "output_type": "stream",
     "text": [
      "*Warning*: compute.thermo: given a group with 0 degrees of freedom.\n",
      "            overriding ndof=1 to avoid divide by 0 errors\n"
     ]
    },
    {
     "name": "stdout",
     "output_type": "stream",
     "text": [
      "** starting run **\n",
      "Time 00:00:00 | Step 0 / 0 | TPS 0 | ETA 00:00:00\n",
      "Average TPS: 0\n",
      "---------\n",
      "** run complete **\n",
      "notice(2): Group \"all\" created containing 1 particles\n",
      "notice(2): Notice: slj set d_max=210.0\n",
      "notice(2): integrate.langevin/bd is using specified gamma values\n"
     ]
    },
    {
     "name": "stderr",
     "output_type": "stream",
     "text": [
      "*Warning*: compute.thermo: given a group with 0 degrees of freedom.\n",
      "            overriding ndof=1 to avoid divide by 0 errors\n"
     ]
    },
    {
     "name": "stdout",
     "output_type": "stream",
     "text": [
      "** starting run **\n",
      "Time 00:00:00 | Step 0 / 0 | TPS 0 | ETA 00:00:00\n",
      "Average TPS: 0\n",
      "---------\n",
      "** run complete **\n",
      "notice(2): Group \"all\" created containing 1 particles\n",
      "notice(2): Notice: slj set d_max=210.0\n",
      "notice(2): integrate.langevin/bd is using specified gamma values\n"
     ]
    },
    {
     "name": "stderr",
     "output_type": "stream",
     "text": [
      "*Warning*: compute.thermo: given a group with 0 degrees of freedom.\n",
      "            overriding ndof=1 to avoid divide by 0 errors\n"
     ]
    },
    {
     "name": "stdout",
     "output_type": "stream",
     "text": [
      "** starting run **\n",
      "Time 00:00:00 | Step 0 / 0 | TPS 0 | ETA 00:00:00\n",
      "Average TPS: 0\n",
      "---------\n",
      "** run complete **\n",
      "notice(2): Group \"all\" created containing 1 particles\n",
      "notice(2): Notice: slj set d_max=210.0\n",
      "notice(2): integrate.langevin/bd is using specified gamma values\n"
     ]
    },
    {
     "name": "stderr",
     "output_type": "stream",
     "text": [
      "*Warning*: compute.thermo: given a group with 0 degrees of freedom.\n",
      "            overriding ndof=1 to avoid divide by 0 errors\n"
     ]
    },
    {
     "name": "stdout",
     "output_type": "stream",
     "text": [
      "** starting run **\n",
      "Time 00:00:00 | Step 0 / 0 | TPS 0 | ETA 00:00:00\n",
      "Average TPS: 0\n",
      "---------\n",
      "** run complete **\n",
      "notice(2): Group \"all\" created containing 1 particles\n",
      "notice(2): Notice: slj set d_max=210.0\n",
      "notice(2): integrate.langevin/bd is using specified gamma values\n"
     ]
    },
    {
     "name": "stderr",
     "output_type": "stream",
     "text": [
      "*Warning*: compute.thermo: given a group with 0 degrees of freedom.\n",
      "            overriding ndof=1 to avoid divide by 0 errors\n"
     ]
    },
    {
     "name": "stdout",
     "output_type": "stream",
     "text": [
      "** starting run **\n",
      "Time 00:00:00 | Step 0 / 0 | TPS 0 | ETA 00:00:00\n",
      "Average TPS: 0\n",
      "---------\n",
      "** run complete **\n",
      "notice(2): Group \"all\" created containing 1 particles\n",
      "notice(2): Notice: slj set d_max=210.0\n",
      "notice(2): integrate.langevin/bd is using specified gamma values\n"
     ]
    },
    {
     "name": "stderr",
     "output_type": "stream",
     "text": [
      "*Warning*: compute.thermo: given a group with 0 degrees of freedom.\n",
      "            overriding ndof=1 to avoid divide by 0 errors\n"
     ]
    },
    {
     "name": "stdout",
     "output_type": "stream",
     "text": [
      "** starting run **\n",
      "Time 00:00:00 | Step 0 / 0 | TPS 0 | ETA 00:00:00\n",
      "Average TPS: 0\n",
      "---------\n",
      "** run complete **\n",
      "notice(2): Group \"all\" created containing 1 particles\n",
      "notice(2): Notice: slj set d_max=210.0\n",
      "notice(2): integrate.langevin/bd is using specified gamma values\n"
     ]
    },
    {
     "name": "stderr",
     "output_type": "stream",
     "text": [
      "*Warning*: compute.thermo: given a group with 0 degrees of freedom.\n",
      "            overriding ndof=1 to avoid divide by 0 errors\n"
     ]
    },
    {
     "name": "stdout",
     "output_type": "stream",
     "text": [
      "** starting run **\n",
      "Time 00:00:00 | Step 0 / 0 | TPS 0 | ETA 00:00:00\n",
      "Average TPS: 0\n",
      "---------\n",
      "** run complete **\n",
      "notice(2): Group \"all\" created containing 1 particles\n",
      "notice(2): Notice: slj set d_max=210.0\n",
      "notice(2): integrate.langevin/bd is using specified gamma values\n"
     ]
    },
    {
     "name": "stderr",
     "output_type": "stream",
     "text": [
      "*Warning*: compute.thermo: given a group with 0 degrees of freedom.\n",
      "            overriding ndof=1 to avoid divide by 0 errors\n"
     ]
    },
    {
     "name": "stdout",
     "output_type": "stream",
     "text": [
      "** starting run **\n",
      "Time 00:00:00 | Step 0 / 0 | TPS 0 | ETA 00:00:00\n",
      "Average TPS: 0\n",
      "---------\n",
      "** run complete **\n",
      "notice(2): Group \"all\" created containing 1 particles\n",
      "notice(2): Notice: slj set d_max=210.0\n",
      "notice(2): integrate.langevin/bd is using specified gamma values\n"
     ]
    },
    {
     "name": "stderr",
     "output_type": "stream",
     "text": [
      "*Warning*: compute.thermo: given a group with 0 degrees of freedom.\n",
      "            overriding ndof=1 to avoid divide by 0 errors\n"
     ]
    },
    {
     "name": "stdout",
     "output_type": "stream",
     "text": [
      "** starting run **\n",
      "Time 00:00:00 | Step 0 / 0 | TPS 0 | ETA 00:00:00\n",
      "Average TPS: 0\n",
      "---------\n",
      "** run complete **\n",
      "notice(2): Group \"all\" created containing 1 particles\n",
      "notice(2): Notice: slj set d_max=210.0\n",
      "notice(2): integrate.langevin/bd is using specified gamma values\n"
     ]
    },
    {
     "name": "stderr",
     "output_type": "stream",
     "text": [
      "*Warning*: compute.thermo: given a group with 0 degrees of freedom.\n",
      "            overriding ndof=1 to avoid divide by 0 errors\n"
     ]
    },
    {
     "name": "stdout",
     "output_type": "stream",
     "text": [
      "** starting run **\n",
      "Time 00:00:00 | Step 0 / 0 | TPS 0 | ETA 00:00:00\n",
      "Average TPS: 0\n",
      "---------\n",
      "** run complete **\n",
      "notice(2): Group \"all\" created containing 1 particles\n",
      "notice(2): Notice: slj set d_max=210.0\n",
      "notice(2): integrate.langevin/bd is using specified gamma values\n"
     ]
    },
    {
     "name": "stderr",
     "output_type": "stream",
     "text": [
      "*Warning*: compute.thermo: given a group with 0 degrees of freedom.\n",
      "            overriding ndof=1 to avoid divide by 0 errors\n"
     ]
    },
    {
     "name": "stdout",
     "output_type": "stream",
     "text": [
      "** starting run **\n",
      "Time 00:00:00 | Step 0 / 0 | TPS 0 | ETA 00:00:00\n",
      "Average TPS: 0\n",
      "---------\n",
      "** run complete **\n",
      "notice(2): Group \"all\" created containing 1 particles\n",
      "notice(2): Notice: slj set d_max=210.0\n",
      "notice(2): integrate.langevin/bd is using specified gamma values\n"
     ]
    },
    {
     "name": "stderr",
     "output_type": "stream",
     "text": [
      "*Warning*: compute.thermo: given a group with 0 degrees of freedom.\n",
      "            overriding ndof=1 to avoid divide by 0 errors\n"
     ]
    },
    {
     "name": "stdout",
     "output_type": "stream",
     "text": [
      "** starting run **\n",
      "Time 00:00:00 | Step 0 / 0 | TPS 0 | ETA 00:00:00\n",
      "Average TPS: 0\n",
      "---------\n",
      "** run complete **\n",
      "notice(2): Group \"all\" created containing 1 particles\n",
      "notice(2): Notice: slj set d_max=210.0\n",
      "notice(2): integrate.langevin/bd is using specified gamma values\n"
     ]
    },
    {
     "name": "stderr",
     "output_type": "stream",
     "text": [
      "*Warning*: compute.thermo: given a group with 0 degrees of freedom.\n",
      "            overriding ndof=1 to avoid divide by 0 errors\n"
     ]
    },
    {
     "name": "stdout",
     "output_type": "stream",
     "text": [
      "** starting run **\n",
      "Time 00:00:00 | Step 0 / 0 | TPS 0 | ETA 00:00:00\n",
      "Average TPS: 0\n",
      "---------\n",
      "** run complete **\n",
      "notice(2): Group \"all\" created containing 1 particles\n",
      "notice(2): Notice: slj set d_max=210.0\n",
      "notice(2): integrate.langevin/bd is using specified gamma values\n"
     ]
    },
    {
     "name": "stderr",
     "output_type": "stream",
     "text": [
      "*Warning*: compute.thermo: given a group with 0 degrees of freedom.\n",
      "            overriding ndof=1 to avoid divide by 0 errors\n"
     ]
    },
    {
     "name": "stdout",
     "output_type": "stream",
     "text": [
      "** starting run **\n",
      "Time 00:00:00 | Step 0 / 0 | TPS 0 | ETA 00:00:00\n",
      "Average TPS: 0\n",
      "---------\n",
      "** run complete **\n",
      "notice(2): Group \"all\" created containing 1 particles\n",
      "notice(2): Notice: slj set d_max=210.0\n",
      "notice(2): integrate.langevin/bd is using specified gamma values\n"
     ]
    },
    {
     "name": "stderr",
     "output_type": "stream",
     "text": [
      "*Warning*: compute.thermo: given a group with 0 degrees of freedom.\n",
      "            overriding ndof=1 to avoid divide by 0 errors\n"
     ]
    },
    {
     "name": "stdout",
     "output_type": "stream",
     "text": [
      "** starting run **\n",
      "Time 00:00:00 | Step 0 / 0 | TPS 0 | ETA 00:00:00\n",
      "Average TPS: 0\n",
      "---------\n",
      "** run complete **\n",
      "notice(2): Group \"all\" created containing 1 particles\n",
      "notice(2): Notice: slj set d_max=210.0\n",
      "notice(2): integrate.langevin/bd is using specified gamma values\n"
     ]
    },
    {
     "name": "stderr",
     "output_type": "stream",
     "text": [
      "*Warning*: compute.thermo: given a group with 0 degrees of freedom.\n",
      "            overriding ndof=1 to avoid divide by 0 errors\n"
     ]
    },
    {
     "name": "stdout",
     "output_type": "stream",
     "text": [
      "** starting run **\n",
      "Time 00:00:00 | Step 0 / 0 | TPS 0 | ETA 00:00:00\n",
      "Average TPS: 0\n",
      "---------\n",
      "** run complete **\n",
      "notice(2): Group \"all\" created containing 1 particles\n",
      "notice(2): Notice: slj set d_max=210.0\n",
      "notice(2): integrate.langevin/bd is using specified gamma values\n"
     ]
    },
    {
     "name": "stderr",
     "output_type": "stream",
     "text": [
      "*Warning*: compute.thermo: given a group with 0 degrees of freedom.\n",
      "            overriding ndof=1 to avoid divide by 0 errors\n"
     ]
    },
    {
     "name": "stdout",
     "output_type": "stream",
     "text": [
      "** starting run **\n",
      "Time 00:00:00 | Step 0 / 0 | TPS 0 | ETA 00:00:00\n",
      "Average TPS: 0\n",
      "---------\n",
      "** run complete **\n",
      "notice(2): Group \"all\" created containing 1 particles\n",
      "notice(2): Notice: slj set d_max=210.0\n",
      "notice(2): integrate.langevin/bd is using specified gamma values\n"
     ]
    },
    {
     "name": "stderr",
     "output_type": "stream",
     "text": [
      "*Warning*: compute.thermo: given a group with 0 degrees of freedom.\n",
      "            overriding ndof=1 to avoid divide by 0 errors\n"
     ]
    },
    {
     "name": "stdout",
     "output_type": "stream",
     "text": [
      "** starting run **\n",
      "Time 00:00:00 | Step 0 / 0 | TPS 0 | ETA 00:00:00\n",
      "Average TPS: 0\n",
      "---------\n",
      "** run complete **\n",
      "notice(2): Group \"all\" created containing 1 particles\n",
      "notice(2): Notice: slj set d_max=210.0\n",
      "notice(2): integrate.langevin/bd is using specified gamma values\n"
     ]
    },
    {
     "name": "stderr",
     "output_type": "stream",
     "text": [
      "*Warning*: compute.thermo: given a group with 0 degrees of freedom.\n",
      "            overriding ndof=1 to avoid divide by 0 errors\n"
     ]
    },
    {
     "name": "stdout",
     "output_type": "stream",
     "text": [
      "** starting run **\n",
      "Time 00:00:00 | Step 0 / 0 | TPS 0 | ETA 00:00:00\n",
      "Average TPS: 0\n",
      "---------\n",
      "** run complete **\n",
      "notice(2): Group \"all\" created containing 1 particles\n",
      "notice(2): Notice: slj set d_max=210.0\n",
      "notice(2): integrate.langevin/bd is using specified gamma values\n"
     ]
    },
    {
     "name": "stderr",
     "output_type": "stream",
     "text": [
      "*Warning*: compute.thermo: given a group with 0 degrees of freedom.\n",
      "            overriding ndof=1 to avoid divide by 0 errors\n"
     ]
    },
    {
     "name": "stdout",
     "output_type": "stream",
     "text": [
      "** starting run **\n",
      "Time 00:00:00 | Step 0 / 0 | TPS 0 | ETA 00:00:00\n",
      "Average TPS: 0\n",
      "---------\n",
      "** run complete **\n",
      "notice(2): Group \"all\" created containing 1 particles\n",
      "notice(2): Notice: slj set d_max=210.0\n",
      "notice(2): integrate.langevin/bd is using specified gamma values\n"
     ]
    },
    {
     "name": "stderr",
     "output_type": "stream",
     "text": [
      "*Warning*: compute.thermo: given a group with 0 degrees of freedom.\n",
      "            overriding ndof=1 to avoid divide by 0 errors\n"
     ]
    },
    {
     "name": "stdout",
     "output_type": "stream",
     "text": [
      "** starting run **\n",
      "Time 00:00:00 | Step 0 / 0 | TPS 0 | ETA 00:00:00\n",
      "Average TPS: 0\n",
      "---------\n",
      "** run complete **\n",
      "notice(2): Group \"all\" created containing 1 particles\n",
      "notice(2): Notice: slj set d_max=210.0\n",
      "notice(2): integrate.langevin/bd is using specified gamma values\n"
     ]
    },
    {
     "name": "stderr",
     "output_type": "stream",
     "text": [
      "*Warning*: compute.thermo: given a group with 0 degrees of freedom.\n",
      "            overriding ndof=1 to avoid divide by 0 errors\n"
     ]
    },
    {
     "name": "stdout",
     "output_type": "stream",
     "text": [
      "** starting run **\n",
      "Time 00:00:00 | Step 0 / 0 | TPS 0 | ETA 00:00:00\n",
      "Average TPS: 0\n",
      "---------\n",
      "** run complete **\n",
      "notice(2): Group \"all\" created containing 1 particles\n",
      "notice(2): Notice: slj set d_max=210.0\n",
      "notice(2): integrate.langevin/bd is using specified gamma values\n"
     ]
    },
    {
     "name": "stderr",
     "output_type": "stream",
     "text": [
      "*Warning*: compute.thermo: given a group with 0 degrees of freedom.\n",
      "            overriding ndof=1 to avoid divide by 0 errors\n"
     ]
    },
    {
     "name": "stdout",
     "output_type": "stream",
     "text": [
      "** starting run **\n",
      "Time 00:00:00 | Step 0 / 0 | TPS 0 | ETA 00:00:00\n",
      "Average TPS: 0\n",
      "---------\n",
      "** run complete **\n",
      "notice(2): Group \"all\" created containing 1 particles\n",
      "notice(2): Notice: slj set d_max=210.0\n",
      "notice(2): integrate.langevin/bd is using specified gamma values\n"
     ]
    },
    {
     "name": "stderr",
     "output_type": "stream",
     "text": [
      "*Warning*: compute.thermo: given a group with 0 degrees of freedom.\n",
      "            overriding ndof=1 to avoid divide by 0 errors\n"
     ]
    },
    {
     "name": "stdout",
     "output_type": "stream",
     "text": [
      "** starting run **\n",
      "Time 00:00:00 | Step 0 / 0 | TPS 0 | ETA 00:00:00\n",
      "Average TPS: 0\n",
      "---------\n",
      "** run complete **\n",
      "notice(2): Group \"all\" created containing 1 particles\n",
      "notice(2): Notice: slj set d_max=210.0\n",
      "notice(2): integrate.langevin/bd is using specified gamma values\n"
     ]
    },
    {
     "name": "stderr",
     "output_type": "stream",
     "text": [
      "*Warning*: compute.thermo: given a group with 0 degrees of freedom.\n",
      "            overriding ndof=1 to avoid divide by 0 errors\n"
     ]
    },
    {
     "name": "stdout",
     "output_type": "stream",
     "text": [
      "** starting run **\n",
      "Time 00:00:00 | Step 0 / 0 | TPS 0 | ETA 00:00:00\n",
      "Average TPS: 0\n",
      "---------\n",
      "** run complete **\n",
      "notice(2): Group \"all\" created containing 1 particles\n",
      "notice(2): Notice: slj set d_max=210.0\n",
      "notice(2): integrate.langevin/bd is using specified gamma values\n"
     ]
    },
    {
     "name": "stderr",
     "output_type": "stream",
     "text": [
      "*Warning*: compute.thermo: given a group with 0 degrees of freedom.\n",
      "            overriding ndof=1 to avoid divide by 0 errors\n"
     ]
    },
    {
     "name": "stdout",
     "output_type": "stream",
     "text": [
      "** starting run **\n",
      "Time 00:00:00 | Step 0 / 0 | TPS 0 | ETA 00:00:00\n",
      "Average TPS: 0\n",
      "---------\n",
      "** run complete **\n",
      "notice(2): Group \"all\" created containing 1 particles\n",
      "notice(2): Notice: slj set d_max=210.0\n",
      "notice(2): integrate.langevin/bd is using specified gamma values\n"
     ]
    },
    {
     "name": "stderr",
     "output_type": "stream",
     "text": [
      "*Warning*: compute.thermo: given a group with 0 degrees of freedom.\n",
      "            overriding ndof=1 to avoid divide by 0 errors\n"
     ]
    },
    {
     "name": "stdout",
     "output_type": "stream",
     "text": [
      "** starting run **\n",
      "Time 00:00:00 | Step 0 / 0 | TPS 0 | ETA 00:00:00\n",
      "Average TPS: 0\n",
      "---------\n",
      "** run complete **\n",
      "notice(2): Group \"all\" created containing 1 particles\n",
      "notice(2): Notice: slj set d_max=210.0\n",
      "notice(2): integrate.langevin/bd is using specified gamma values\n"
     ]
    },
    {
     "name": "stderr",
     "output_type": "stream",
     "text": [
      "*Warning*: compute.thermo: given a group with 0 degrees of freedom.\n",
      "            overriding ndof=1 to avoid divide by 0 errors\n"
     ]
    },
    {
     "name": "stdout",
     "output_type": "stream",
     "text": [
      "** starting run **\n",
      "Time 00:00:00 | Step 0 / 0 | TPS 0 | ETA 00:00:00\n",
      "Average TPS: 0\n",
      "---------\n",
      "** run complete **\n",
      "notice(2): Group \"all\" created containing 1 particles\n",
      "notice(2): Notice: slj set d_max=210.0\n",
      "notice(2): integrate.langevin/bd is using specified gamma values\n"
     ]
    },
    {
     "name": "stderr",
     "output_type": "stream",
     "text": [
      "*Warning*: compute.thermo: given a group with 0 degrees of freedom.\n",
      "            overriding ndof=1 to avoid divide by 0 errors\n"
     ]
    },
    {
     "name": "stdout",
     "output_type": "stream",
     "text": [
      "** starting run **\n",
      "Time 00:00:00 | Step 0 / 0 | TPS 0 | ETA 00:00:00\n",
      "Average TPS: 0\n",
      "---------\n",
      "** run complete **\n",
      "notice(2): Group \"all\" created containing 1 particles\n",
      "notice(2): Notice: slj set d_max=210.0\n",
      "notice(2): integrate.langevin/bd is using specified gamma values\n"
     ]
    },
    {
     "name": "stderr",
     "output_type": "stream",
     "text": [
      "*Warning*: compute.thermo: given a group with 0 degrees of freedom.\n",
      "            overriding ndof=1 to avoid divide by 0 errors\n"
     ]
    },
    {
     "name": "stdout",
     "output_type": "stream",
     "text": [
      "** starting run **\n",
      "Time 00:00:00 | Step 0 / 0 | TPS 0 | ETA 00:00:00\n",
      "Average TPS: 0\n",
      "---------\n",
      "** run complete **\n",
      "notice(2): Group \"all\" created containing 1 particles\n",
      "notice(2): Notice: slj set d_max=210.0\n",
      "notice(2): integrate.langevin/bd is using specified gamma values\n"
     ]
    },
    {
     "name": "stderr",
     "output_type": "stream",
     "text": [
      "*Warning*: compute.thermo: given a group with 0 degrees of freedom.\n",
      "            overriding ndof=1 to avoid divide by 0 errors\n"
     ]
    },
    {
     "name": "stdout",
     "output_type": "stream",
     "text": [
      "** starting run **\n",
      "Time 00:00:00 | Step 0 / 0 | TPS 0 | ETA 00:00:00\n",
      "Average TPS: 0\n",
      "---------\n",
      "** run complete **\n",
      "notice(2): Group \"all\" created containing 1 particles\n",
      "notice(2): Notice: slj set d_max=210.0\n",
      "notice(2): integrate.langevin/bd is using specified gamma values\n"
     ]
    },
    {
     "name": "stderr",
     "output_type": "stream",
     "text": [
      "*Warning*: compute.thermo: given a group with 0 degrees of freedom.\n",
      "            overriding ndof=1 to avoid divide by 0 errors\n"
     ]
    },
    {
     "name": "stdout",
     "output_type": "stream",
     "text": [
      "** starting run **\n",
      "Time 00:00:00 | Step 0 / 0 | TPS 0 | ETA 00:00:00\n",
      "Average TPS: 0\n",
      "---------\n",
      "** run complete **\n",
      "notice(2): Group \"all\" created containing 1 particles\n",
      "notice(2): Notice: slj set d_max=210.0\n",
      "notice(2): integrate.langevin/bd is using specified gamma values\n"
     ]
    },
    {
     "name": "stderr",
     "output_type": "stream",
     "text": [
      "*Warning*: compute.thermo: given a group with 0 degrees of freedom.\n",
      "            overriding ndof=1 to avoid divide by 0 errors\n"
     ]
    },
    {
     "name": "stdout",
     "output_type": "stream",
     "text": [
      "** starting run **\n",
      "Time 00:00:00 | Step 0 / 0 | TPS 0 | ETA 00:00:00\n",
      "Average TPS: 0\n",
      "---------\n",
      "** run complete **\n",
      "notice(2): Group \"all\" created containing 1 particles\n",
      "notice(2): Notice: slj set d_max=210.0\n",
      "notice(2): integrate.langevin/bd is using specified gamma values\n"
     ]
    },
    {
     "name": "stderr",
     "output_type": "stream",
     "text": [
      "*Warning*: compute.thermo: given a group with 0 degrees of freedom.\n",
      "            overriding ndof=1 to avoid divide by 0 errors\n"
     ]
    },
    {
     "name": "stdout",
     "output_type": "stream",
     "text": [
      "** starting run **\n",
      "Time 00:00:00 | Step 0 / 0 | TPS 0 | ETA 00:00:00\n",
      "Average TPS: 0\n",
      "---------\n",
      "** run complete **\n",
      "notice(2): Group \"all\" created containing 1 particles\n",
      "notice(2): Notice: slj set d_max=210.0\n",
      "notice(2): integrate.langevin/bd is using specified gamma values\n"
     ]
    },
    {
     "name": "stderr",
     "output_type": "stream",
     "text": [
      "*Warning*: compute.thermo: given a group with 0 degrees of freedom.\n",
      "            overriding ndof=1 to avoid divide by 0 errors\n"
     ]
    },
    {
     "name": "stdout",
     "output_type": "stream",
     "text": [
      "** starting run **\n",
      "Time 00:00:00 | Step 0 / 0 | TPS 0 | ETA 00:00:00\n",
      "Average TPS: 0\n",
      "---------\n",
      "** run complete **\n",
      "notice(2): Group \"all\" created containing 1 particles\n",
      "notice(2): Notice: slj set d_max=210.0\n",
      "notice(2): integrate.langevin/bd is using specified gamma values\n"
     ]
    },
    {
     "name": "stderr",
     "output_type": "stream",
     "text": [
      "*Warning*: compute.thermo: given a group with 0 degrees of freedom.\n",
      "            overriding ndof=1 to avoid divide by 0 errors\n"
     ]
    },
    {
     "name": "stdout",
     "output_type": "stream",
     "text": [
      "** starting run **\n",
      "Time 00:00:00 | Step 0 / 0 | TPS 0 | ETA 00:00:00\n",
      "Average TPS: 0\n",
      "---------\n",
      "** run complete **\n",
      "notice(2): Group \"all\" created containing 1 particles\n",
      "notice(2): Notice: slj set d_max=210.0\n",
      "notice(2): integrate.langevin/bd is using specified gamma values\n"
     ]
    },
    {
     "name": "stderr",
     "output_type": "stream",
     "text": [
      "*Warning*: compute.thermo: given a group with 0 degrees of freedom.\n",
      "            overriding ndof=1 to avoid divide by 0 errors\n"
     ]
    },
    {
     "name": "stdout",
     "output_type": "stream",
     "text": [
      "** starting run **\n",
      "Time 00:00:00 | Step 0 / 0 | TPS 0 | ETA 00:00:00\n",
      "Average TPS: 0\n",
      "---------\n",
      "** run complete **\n",
      "notice(2): Group \"all\" created containing 1 particles\n",
      "notice(2): Notice: slj set d_max=210.0\n",
      "notice(2): integrate.langevin/bd is using specified gamma values\n"
     ]
    },
    {
     "name": "stderr",
     "output_type": "stream",
     "text": [
      "*Warning*: compute.thermo: given a group with 0 degrees of freedom.\n",
      "            overriding ndof=1 to avoid divide by 0 errors\n"
     ]
    },
    {
     "name": "stdout",
     "output_type": "stream",
     "text": [
      "** starting run **\n",
      "Time 00:00:00 | Step 0 / 0 | TPS 0 | ETA 00:00:00\n",
      "Average TPS: 0\n",
      "---------\n",
      "** run complete **\n",
      "notice(2): Group \"all\" created containing 1 particles\n",
      "notice(2): Notice: slj set d_max=210.0\n",
      "notice(2): integrate.langevin/bd is using specified gamma values\n"
     ]
    },
    {
     "name": "stderr",
     "output_type": "stream",
     "text": [
      "*Warning*: compute.thermo: given a group with 0 degrees of freedom.\n",
      "            overriding ndof=1 to avoid divide by 0 errors\n"
     ]
    },
    {
     "name": "stdout",
     "output_type": "stream",
     "text": [
      "** starting run **\n",
      "Time 00:00:00 | Step 0 / 0 | TPS 0 | ETA 00:00:00\n",
      "Average TPS: 0\n",
      "---------\n",
      "** run complete **\n"
     ]
    }
   ],
   "source": [
    "energies = []\n",
    "x_positions = np.linspace(-box_length / 2 + 200, box_length / 2 - 200, num=1000)\n",
    "for x_position in x_positions:\n",
    "    hoomd.context.initialize(\"--mode=cpu\")\n",
    "    snapshot = hoomd.data.make_snapshot(\n",
    "    N=1, box=hoomd.data.boxdim(L=box_length, dimensions=3), \n",
    "    particle_types=['N'], bond_types=[], angle_types=[], \n",
    "    dihedral_types=[], improper_types=[], pair_types=[], \n",
    "    dtype='float')\n",
    "    snapshot.particles.diameter[0] = 2.0 * radiusN\n",
    "    snapshot.particles.position[0][0] = x_position\n",
    "    system = hoomd.init.read_snapshot(snapshot)\n",
    "    upper_wall_x = hoomd.md.wall.plane(origin=(box_length/2, 0, 0), normal=(-1, 0, 0), inside=True)\n",
    "    lower_wall_x = hoomd.md.wall.plane(origin=(-box_length/2, 0, 0), normal=(1, 0, 0), inside=True)\n",
    "    upper_wall_y = hoomd.md.wall.plane(origin=(0, box_length/2, 0), normal=(0, -1, 0), inside=True)\n",
    "    lower_wall_y = hoomd.md.wall.plane(origin=(0, -box_length/2, 0), normal=(0, 1, 0), inside=True)\n",
    "    upper_wall_z = hoomd.md.wall.plane(origin=(0, 0, box_length/2), normal=(0, 0, -1), inside=True)\n",
    "    lower_wall_z = hoomd.md.wall.plane(origin=(0, 0, -box_length/2), normal=(0, 0, 1), inside=True)\n",
    "\n",
    "    wall_group = hoomd.md.wall.group(upper_wall_x, lower_wall_x, \n",
    "                                     upper_wall_y, lower_wall_y, \n",
    "                                     upper_wall_z, lower_wall_z)\n",
    "    wall_force = hoomd.md.wall.slj(wall_group, r_cut=radiusN*(2.0**(1.0/6.0)))\n",
    "    wall_force.force_coeff.set('N', epsilon=1, sigma=radiusN, alpha=0,\n",
    "                               r_cut=radiusN*(2.0**(1.0/6.0)))\n",
    "    md.integrate.mode_standard(dt=0.0005)\n",
    "    langevin = md.integrate.langevin(group=hoomd.group.all(), kT=1, seed=1)\n",
    "    langevin.set_gamma(\"N\", 0.001)\n",
    "    log = hoomd.analyze.log(filename=None,\n",
    "                            quantities=[\"potential_energy\"],\n",
    "                            period=1,\n",
    "                            overwrite=True,\n",
    "                            phase=-1)\n",
    "    hoomd.run(0)\n",
    "    energies.append(log.query(\"potential_energy\"))"
   ]
  },
  {
   "cell_type": "code",
   "execution_count": 3,
   "id": "77d7dbca-263a-406e-91ba-3ef8a5747630",
   "metadata": {},
   "outputs": [],
   "source": [
    "def expected_function(x, box_length, rcut, delta, epsilon, sigma, alpha):\n",
    "    return np.where(np.abs(x) < box_length / 2 - rcut - delta,\n",
    "                    0.0,\n",
    "                    4 * epsilon * (np.power(sigma / (box_length / 2 - np.abs(x) - delta), 12)\n",
    "                                   - alpha * np.power(sigma / (box_length / 2 - np.abs(x) - delta), 6))\n",
    "                    - 4 * epsilon * (np.power(sigma / rcut, 12)\n",
    "                                     - alpha * np.power(sigma / rcut, 6)))"
   ]
  },
  {
   "cell_type": "code",
   "execution_count": 7,
   "id": "6d0c8eff-b716-4599-91d5-892643766ad0",
   "metadata": {},
   "outputs": [
    {
     "data": {
      "image/png": "[encoded data removed]",
      "text/plain": [
       "<Figure size 640x480 with 1 Axes>"
      ]
     },
     "metadata": {},
     "output_type": "display_data"
    }
   ],
   "source": [
    "x_positions_exp = np.linspace(-box_length / 2 + 200, box_length / 2 - 200, num=10000)\n",
    "pots = expected_function(x_positions_exp, box_length, radiusN*(2.0**(1.0/6.0)),\n",
    "                         radiusN-1, 1, radiusN, 0)\n",
    "plt.figure()\n",
    "plt.plot(x_positions, energies, marker=\"x\")\n",
    "plt.plot(x_positions_exp, pots, color=\"k\")\n",
    "#plt.xlim(270, 300)\n",
    "plt.show()\n",
    "plt.close()"
   ]
  },
  {
   "cell_type": "code",
   "execution_count": null,
   "id": "4bbb5b93-7b7d-4d05-85a3-2d0dd9f9e140",
   "metadata": {},
   "outputs": [],
   "source": []
  }
 ],
 "metadata": {
  "kernelspec": {
   "display_name": "Python 3 (ipykernel)",
   "language": "python",
   "name": "python3"
  },
  "language_info": {
   "codemirror_mode": {
    "name": "ipython",
    "version": 3
   },
   "file_extension": ".py",
   "mimetype": "text/x-python",
   "name": "python",
   "nbconvert_exporter": "python",
   "pygments_lexer": "ipython3",
   "version": "3.10.13"
  }
 },
 "nbformat": 4,
 "nbformat_minor": 5
}
